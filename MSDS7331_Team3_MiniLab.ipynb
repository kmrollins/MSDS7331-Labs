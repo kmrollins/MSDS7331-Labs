{
 "cells": [
  {
   "cell_type": "markdown",
   "metadata": {},
   "source": [
    "## MSDS 7331: Data Mining\n",
    "\n",
    "## Mini Lab: Logistic Regression and SVMs\n",
    "\n",
    "## 9 June 2019\n",
    "\n",
    "## Authors: Meredith Ludlow, Anand Rajan, Kristen Rollins, and Tej Tenmattam\n",
    "\n",
    "---"
   ]
  },
  {
   "cell_type": "markdown",
   "metadata": {},
   "source": [
    "### Create Models"
   ]
  },
  {
   "cell_type": "markdown",
   "metadata": {},
   "source": [
    "<div class=\"alert alert-block alert-info\">\n",
    "<b>Rubric 1:</b> Create a logistic regression model and a support vector machine model for the classification task involved with your dataset. Assess how well each model performs (use 80/20 training/testing split for your data). Adjust parameters of the models to make them more accurate. If your dataset size requires the use of stochastic gradient descent, then linear kernel only is fine to use. That is, the SGDClassifier is fine to use for optimizing logistic regression and linear support vector machines. For many problems, SGD will be required in order to train the SVM model in a reasonable timeframe.\n",
    "</div>"
   ]
  },
  {
   "cell_type": "markdown",
   "metadata": {},
   "source": [
    "The classification task for our 2017 census dataset is to predict whether a given census tract has a high or a low unemployment rate. This is an important task, as it enables certain areas to be flagged as needing economic development or aid. Below, we first prepared our data for classification by cleaning it (in the same way as Lab 1), as well as removing unnecessary and redundant variables. We then split the data into training (80%) and testing (20%) sets, while utilizing 10-fold cross-validation. We created several logistic regression models with varying parameters, as well as some support vector machine models. We did an additional run of the models with a more reduced dataset to compare performance."
   ]
  },
  {
   "cell_type": "markdown",
   "metadata": {},
   "source": [
    "#### Preparing Data"
   ]
  },
  {
   "cell_type": "code",
   "execution_count": 108,
   "metadata": {},
   "outputs": [],
   "source": [
    "# importing necessary packages\n",
    "import pandas as pd\n",
    "import numpy as np\n",
    "import matplotlib.pyplot as plt\n",
    "%matplotlib inline\n",
    "import seaborn as sns\n",
    "\n",
    "# Set seaborn plot styles\n",
    "sns.set_style('darkgrid')\n",
    "sns.set_color_codes('muted')\n",
    "\n",
    "#TODO uncomment when ready to turn in report\n",
    "#import warnings\n",
    "#warnings.filterwarnings(\"ignore\") # ignore warnings for clean report\n",
    "\n",
    "# df.head() displays all the columns without truncating\n",
    "pd.set_option('display.max_columns', None)\n",
    "\n",
    "# read csv file as pandas dataframe\n",
    "df_17_census = pd.read_csv('Data/acs2017_census_tract_data.csv')"
   ]
  },
  {
   "cell_type": "code",
   "execution_count": 109,
   "metadata": {},
   "outputs": [],
   "source": [
    "# Clean dataset as in lab 1\n",
    "df_17_census.set_index('TractId', inplace=True) # set tract id as index\n",
    "\n",
    "# Drop tracts where population is 0\n",
    "df_17_cln = df_17_census.drop(df_17_census[df_17_census.TotalPop == 0].index)\n",
    "\n",
    "# Drop tracts where child poverty or unemployment is null\n",
    "df_17_cln = df_17_cln[np.isfinite(df_17_cln['ChildPoverty'])]\n",
    "df_17_cln = df_17_cln[np.isfinite(df_17_cln['Unemployment'])]\n",
    "\n",
    "# Impute to the median by each state\n",
    "df_grouped = df_17_cln.groupby('State').transform(lambda x: x.fillna(x.median()))\n",
    "df_17_cln['Income'] = df_grouped['Income']\n",
    "df_17_cln['IncomeErr'] = df_grouped['IncomeErr']\n",
    "\n",
    "# Impute remaining values to the overall median\n",
    "df_17_cln = df_17_cln.fillna(df_17_cln.median())"
   ]
  },
  {
   "cell_type": "code",
   "execution_count": 110,
   "metadata": {},
   "outputs": [
    {
     "name": "stdout",
     "output_type": "stream",
     "text": [
      "<class 'pandas.core.frame.DataFrame'>\n",
      "Int64Index: 72889 entries, 1001020100 to 72153750602\n",
      "Data columns (total 37 columns):\n",
      "State               72889 non-null object\n",
      "County              72889 non-null object\n",
      "TotalPop            72889 non-null int64\n",
      "Men                 72889 non-null int64\n",
      "Women               72889 non-null int64\n",
      "Hispanic            72889 non-null float64\n",
      "White               72889 non-null float64\n",
      "Black               72889 non-null float64\n",
      "Native              72889 non-null float64\n",
      "Asian               72889 non-null float64\n",
      "Pacific             72889 non-null float64\n",
      "VotingAgeCitizen    72889 non-null int64\n",
      "Income              72889 non-null float64\n",
      "IncomeErr           72889 non-null float64\n",
      "IncomePerCap        72889 non-null float64\n",
      "IncomePerCapErr     72889 non-null float64\n",
      "Poverty             72889 non-null float64\n",
      "ChildPoverty        72889 non-null float64\n",
      "Professional        72889 non-null float64\n",
      "Service             72889 non-null float64\n",
      "Office              72889 non-null float64\n",
      "Construction        72889 non-null float64\n",
      "Production          72889 non-null float64\n",
      "Drive               72889 non-null float64\n",
      "Carpool             72889 non-null float64\n",
      "Transit             72889 non-null float64\n",
      "Walk                72889 non-null float64\n",
      "OtherTransp         72889 non-null float64\n",
      "WorkAtHome          72889 non-null float64\n",
      "MeanCommute         72889 non-null float64\n",
      "Employed            72889 non-null int64\n",
      "PrivateWork         72889 non-null float64\n",
      "PublicWork          72889 non-null float64\n",
      "SelfEmployed        72889 non-null float64\n",
      "FamilyWork          72889 non-null float64\n",
      "Unemployment        72889 non-null float64\n",
      "HighUnemployment    72889 non-null int32\n",
      "dtypes: float64(29), int32(1), int64(5), object(2)\n",
      "memory usage: 20.9+ MB\n"
     ]
    }
   ],
   "source": [
    "# Categorize the unemployed percentages into binary categories\n",
    "# Make cutoff using median of clean dataset, so groups are roughly equal\n",
    "df_17_cln['HighUnemployment'] = pd.cut(df_17_cln.Unemployment,[-1,6,101],labels=[0,1])                                 \n",
    "df_17_cln.HighUnemployment = df_17_cln.HighUnemployment.astype(np.int)\n",
    "# 0 indicates low unemployment rate, 1 indicates high unemployment rate\n",
    "\n",
    "df_17_cln.info() # matches cleaned dataset from lab 1"
   ]
  },
  {
   "cell_type": "markdown",
   "metadata": {},
   "source": [
    "At this point we have a clean dataset with no missing values, that matches the info from the cleaned dataset we used in Lab 1. Our target variable is \"HighUnemployment\", with 1 signifying a tract with a high unemployment rate and a 0 indicating low unemployment. We created the cutoff between high and low unemployment to be 6 percent, which was the median value for the unemployment attribute. By using the median to separate the groups, the classes will be of roughly the same size.\n",
    "\n",
    "Since this dataset has 37 attributes, next we eliminate some unnecessary and redundant variables to cut down on the high dimensionality of the dataset."
   ]
  },
  {
   "cell_type": "code",
   "execution_count": 111,
   "metadata": {},
   "outputs": [
    {
     "name": "stdout",
     "output_type": "stream",
     "text": [
      "<class 'pandas.core.frame.DataFrame'>\n",
      "Int64Index: 72889 entries, 1001020100 to 72153750602\n",
      "Data columns (total 28 columns):\n",
      "TotalPop            72889 non-null int64\n",
      "Women               72889 non-null float64\n",
      "Hispanic            72889 non-null float64\n",
      "White               72889 non-null float64\n",
      "Black               72889 non-null float64\n",
      "Native              72889 non-null float64\n",
      "Asian               72889 non-null float64\n",
      "Pacific             72889 non-null float64\n",
      "VotingAgeCitizen    72889 non-null float64\n",
      "Income              72889 non-null float64\n",
      "Poverty             72889 non-null float64\n",
      "ChildPoverty        72889 non-null float64\n",
      "Professional        72889 non-null float64\n",
      "Service             72889 non-null float64\n",
      "Office              72889 non-null float64\n",
      "Construction        72889 non-null float64\n",
      "Production          72889 non-null float64\n",
      "Drive               72889 non-null float64\n",
      "Carpool             72889 non-null float64\n",
      "Walk                72889 non-null float64\n",
      "OtherTransp         72889 non-null float64\n",
      "WorkAtHome          72889 non-null float64\n",
      "MeanCommute         72889 non-null float64\n",
      "Employed            72889 non-null float64\n",
      "PrivateWork         72889 non-null float64\n",
      "SelfEmployed        72889 non-null float64\n",
      "FamilyWork          72889 non-null float64\n",
      "HighUnemployment    72889 non-null int32\n",
      "dtypes: float64(26), int32(1), int64(1)\n",
      "memory usage: 15.8 MB\n",
      "None\n"
     ]
    },
    {
     "data": {
      "text/html": [
       "<div>\n",
       "<style scoped>\n",
       "    .dataframe tbody tr th:only-of-type {\n",
       "        vertical-align: middle;\n",
       "    }\n",
       "\n",
       "    .dataframe tbody tr th {\n",
       "        vertical-align: top;\n",
       "    }\n",
       "\n",
       "    .dataframe thead th {\n",
       "        text-align: right;\n",
       "    }\n",
       "</style>\n",
       "<table border=\"1\" class=\"dataframe\">\n",
       "  <thead>\n",
       "    <tr style=\"text-align: right;\">\n",
       "      <th></th>\n",
       "      <th>TotalPop</th>\n",
       "      <th>Women</th>\n",
       "      <th>Hispanic</th>\n",
       "      <th>White</th>\n",
       "      <th>Black</th>\n",
       "      <th>Native</th>\n",
       "      <th>Asian</th>\n",
       "      <th>Pacific</th>\n",
       "      <th>VotingAgeCitizen</th>\n",
       "      <th>Income</th>\n",
       "      <th>Poverty</th>\n",
       "      <th>ChildPoverty</th>\n",
       "      <th>Professional</th>\n",
       "      <th>Service</th>\n",
       "      <th>Office</th>\n",
       "      <th>Construction</th>\n",
       "      <th>Production</th>\n",
       "      <th>Drive</th>\n",
       "      <th>Carpool</th>\n",
       "      <th>Walk</th>\n",
       "      <th>OtherTransp</th>\n",
       "      <th>WorkAtHome</th>\n",
       "      <th>MeanCommute</th>\n",
       "      <th>Employed</th>\n",
       "      <th>PrivateWork</th>\n",
       "      <th>SelfEmployed</th>\n",
       "      <th>FamilyWork</th>\n",
       "      <th>HighUnemployment</th>\n",
       "    </tr>\n",
       "    <tr>\n",
       "      <th>TractId</th>\n",
       "      <th></th>\n",
       "      <th></th>\n",
       "      <th></th>\n",
       "      <th></th>\n",
       "      <th></th>\n",
       "      <th></th>\n",
       "      <th></th>\n",
       "      <th></th>\n",
       "      <th></th>\n",
       "      <th></th>\n",
       "      <th></th>\n",
       "      <th></th>\n",
       "      <th></th>\n",
       "      <th></th>\n",
       "      <th></th>\n",
       "      <th></th>\n",
       "      <th></th>\n",
       "      <th></th>\n",
       "      <th></th>\n",
       "      <th></th>\n",
       "      <th></th>\n",
       "      <th></th>\n",
       "      <th></th>\n",
       "      <th></th>\n",
       "      <th></th>\n",
       "      <th></th>\n",
       "      <th></th>\n",
       "      <th></th>\n",
       "    </tr>\n",
       "  </thead>\n",
       "  <tbody>\n",
       "    <tr>\n",
       "      <th>1001020100</th>\n",
       "      <td>1845</td>\n",
       "      <td>51.3</td>\n",
       "      <td>2.4</td>\n",
       "      <td>86.3</td>\n",
       "      <td>5.2</td>\n",
       "      <td>0.0</td>\n",
       "      <td>1.2</td>\n",
       "      <td>0.0</td>\n",
       "      <td>76.3</td>\n",
       "      <td>67826.0</td>\n",
       "      <td>10.7</td>\n",
       "      <td>20.8</td>\n",
       "      <td>38.5</td>\n",
       "      <td>15.6</td>\n",
       "      <td>22.8</td>\n",
       "      <td>10.8</td>\n",
       "      <td>12.4</td>\n",
       "      <td>94.2</td>\n",
       "      <td>3.3</td>\n",
       "      <td>0.5</td>\n",
       "      <td>0.0</td>\n",
       "      <td>2.1</td>\n",
       "      <td>24.5</td>\n",
       "      <td>47.8</td>\n",
       "      <td>74.2</td>\n",
       "      <td>4.5</td>\n",
       "      <td>0.0</td>\n",
       "      <td>0</td>\n",
       "    </tr>\n",
       "    <tr>\n",
       "      <th>1001020200</th>\n",
       "      <td>2172</td>\n",
       "      <td>46.3</td>\n",
       "      <td>1.1</td>\n",
       "      <td>41.6</td>\n",
       "      <td>54.5</td>\n",
       "      <td>0.0</td>\n",
       "      <td>1.0</td>\n",
       "      <td>0.0</td>\n",
       "      <td>76.1</td>\n",
       "      <td>41287.0</td>\n",
       "      <td>22.4</td>\n",
       "      <td>35.8</td>\n",
       "      <td>30.5</td>\n",
       "      <td>24.9</td>\n",
       "      <td>22.9</td>\n",
       "      <td>6.3</td>\n",
       "      <td>15.4</td>\n",
       "      <td>90.5</td>\n",
       "      <td>9.1</td>\n",
       "      <td>0.0</td>\n",
       "      <td>0.5</td>\n",
       "      <td>0.0</td>\n",
       "      <td>22.2</td>\n",
       "      <td>39.2</td>\n",
       "      <td>75.9</td>\n",
       "      <td>9.0</td>\n",
       "      <td>0.0</td>\n",
       "      <td>0</td>\n",
       "    </tr>\n",
       "    <tr>\n",
       "      <th>1001020300</th>\n",
       "      <td>3385</td>\n",
       "      <td>54.7</td>\n",
       "      <td>8.0</td>\n",
       "      <td>61.4</td>\n",
       "      <td>26.5</td>\n",
       "      <td>0.6</td>\n",
       "      <td>0.7</td>\n",
       "      <td>0.4</td>\n",
       "      <td>73.3</td>\n",
       "      <td>46806.0</td>\n",
       "      <td>14.7</td>\n",
       "      <td>21.1</td>\n",
       "      <td>27.9</td>\n",
       "      <td>19.4</td>\n",
       "      <td>33.3</td>\n",
       "      <td>9.9</td>\n",
       "      <td>9.6</td>\n",
       "      <td>88.3</td>\n",
       "      <td>8.4</td>\n",
       "      <td>1.0</td>\n",
       "      <td>0.8</td>\n",
       "      <td>1.5</td>\n",
       "      <td>23.1</td>\n",
       "      <td>43.8</td>\n",
       "      <td>73.3</td>\n",
       "      <td>4.8</td>\n",
       "      <td>0.7</td>\n",
       "      <td>0</td>\n",
       "    </tr>\n",
       "    <tr>\n",
       "      <th>1001020400</th>\n",
       "      <td>4267</td>\n",
       "      <td>53.1</td>\n",
       "      <td>9.6</td>\n",
       "      <td>80.3</td>\n",
       "      <td>7.1</td>\n",
       "      <td>0.5</td>\n",
       "      <td>0.2</td>\n",
       "      <td>0.0</td>\n",
       "      <td>76.3</td>\n",
       "      <td>55895.0</td>\n",
       "      <td>2.3</td>\n",
       "      <td>1.7</td>\n",
       "      <td>29.0</td>\n",
       "      <td>16.6</td>\n",
       "      <td>25.8</td>\n",
       "      <td>9.1</td>\n",
       "      <td>19.5</td>\n",
       "      <td>82.3</td>\n",
       "      <td>11.2</td>\n",
       "      <td>1.5</td>\n",
       "      <td>2.9</td>\n",
       "      <td>2.1</td>\n",
       "      <td>25.9</td>\n",
       "      <td>43.3</td>\n",
       "      <td>75.8</td>\n",
       "      <td>4.5</td>\n",
       "      <td>0.0</td>\n",
       "      <td>1</td>\n",
       "    </tr>\n",
       "    <tr>\n",
       "      <th>1001020500</th>\n",
       "      <td>9965</td>\n",
       "      <td>49.3</td>\n",
       "      <td>0.9</td>\n",
       "      <td>77.5</td>\n",
       "      <td>16.4</td>\n",
       "      <td>0.0</td>\n",
       "      <td>3.1</td>\n",
       "      <td>0.0</td>\n",
       "      <td>72.5</td>\n",
       "      <td>68143.0</td>\n",
       "      <td>12.2</td>\n",
       "      <td>17.9</td>\n",
       "      <td>48.8</td>\n",
       "      <td>13.8</td>\n",
       "      <td>20.5</td>\n",
       "      <td>3.5</td>\n",
       "      <td>13.4</td>\n",
       "      <td>86.9</td>\n",
       "      <td>11.2</td>\n",
       "      <td>0.8</td>\n",
       "      <td>0.3</td>\n",
       "      <td>0.7</td>\n",
       "      <td>21.0</td>\n",
       "      <td>48.0</td>\n",
       "      <td>71.4</td>\n",
       "      <td>4.5</td>\n",
       "      <td>0.0</td>\n",
       "      <td>0</td>\n",
       "    </tr>\n",
       "  </tbody>\n",
       "</table>\n",
       "</div>"
      ],
      "text/plain": [
       "            TotalPop  Women  Hispanic  White  Black  Native  Asian  Pacific  \\\n",
       "TractId                                                                       \n",
       "1001020100      1845   51.3       2.4   86.3    5.2     0.0    1.2      0.0   \n",
       "1001020200      2172   46.3       1.1   41.6   54.5     0.0    1.0      0.0   \n",
       "1001020300      3385   54.7       8.0   61.4   26.5     0.6    0.7      0.4   \n",
       "1001020400      4267   53.1       9.6   80.3    7.1     0.5    0.2      0.0   \n",
       "1001020500      9965   49.3       0.9   77.5   16.4     0.0    3.1      0.0   \n",
       "\n",
       "            VotingAgeCitizen   Income  Poverty  ChildPoverty  Professional  \\\n",
       "TractId                                                                      \n",
       "1001020100              76.3  67826.0     10.7          20.8          38.5   \n",
       "1001020200              76.1  41287.0     22.4          35.8          30.5   \n",
       "1001020300              73.3  46806.0     14.7          21.1          27.9   \n",
       "1001020400              76.3  55895.0      2.3           1.7          29.0   \n",
       "1001020500              72.5  68143.0     12.2          17.9          48.8   \n",
       "\n",
       "            Service  Office  Construction  Production  Drive  Carpool  Walk  \\\n",
       "TractId                                                                       \n",
       "1001020100     15.6    22.8          10.8        12.4   94.2      3.3   0.5   \n",
       "1001020200     24.9    22.9           6.3        15.4   90.5      9.1   0.0   \n",
       "1001020300     19.4    33.3           9.9         9.6   88.3      8.4   1.0   \n",
       "1001020400     16.6    25.8           9.1        19.5   82.3     11.2   1.5   \n",
       "1001020500     13.8    20.5           3.5        13.4   86.9     11.2   0.8   \n",
       "\n",
       "            OtherTransp  WorkAtHome  MeanCommute  Employed  PrivateWork  \\\n",
       "TractId                                                                   \n",
       "1001020100          0.0         2.1         24.5      47.8         74.2   \n",
       "1001020200          0.5         0.0         22.2      39.2         75.9   \n",
       "1001020300          0.8         1.5         23.1      43.8         73.3   \n",
       "1001020400          2.9         2.1         25.9      43.3         75.8   \n",
       "1001020500          0.3         0.7         21.0      48.0         71.4   \n",
       "\n",
       "            SelfEmployed  FamilyWork  HighUnemployment  \n",
       "TractId                                                 \n",
       "1001020100           4.5         0.0                 0  \n",
       "1001020200           9.0         0.0                 0  \n",
       "1001020300           4.8         0.7                 0  \n",
       "1001020400           4.5         0.0                 1  \n",
       "1001020500           4.5         0.0                 0  "
      ]
     },
     "execution_count": 111,
     "metadata": {},
     "output_type": "execute_result"
    }
   ],
   "source": [
    "# Create dataframe to use in logistic and SVM models\n",
    "df_17_model = df_17_cln.copy()\n",
    "\n",
    "# Eliminate non-useful and redundant variables\n",
    "del df_17_model['State'] # encoding would result in too many added variables\n",
    "del df_17_model['County'] # encoding would result in too many added variables\n",
    "del df_17_model['Men'] # redundant to keep men and women\n",
    "del df_17_model['Unemployment'] # already encoded to binary\n",
    "\n",
    "# Eliminate more variables based on correlation plot (could maybe remove more)\n",
    "del df_17_model['IncomeErr'] # only need to keep one income-related variable\n",
    "del df_17_model['IncomePerCap'] # only need to keep one income-related variable\n",
    "del df_17_model['IncomePerCapErr'] # only need to keep one income-related variable\n",
    "del df_17_model['Transit'] # drive and transit were essentially inverses\n",
    "del df_17_model['PublicWork'] # private and public work were essentially inverses\n",
    "\n",
    "# All remaining variables are ints or floats so we do not have to do one-hot encoding\n",
    "\n",
    "# Convert columns to percentages for consistency\n",
    "df_17_model['Women'] = round(df_17_model['Women']/df_17_model['TotalPop']*100,1)\n",
    "df_17_model['VotingAgeCitizen'] = round(df_17_model['VotingAgeCitizen']/df_17_model['TotalPop']*100,1)\n",
    "df_17_model['Employed'] = round(df_17_model['Employed']/df_17_model['TotalPop']*100,1)\n",
    "\n",
    "print(df_17_model.info())\n",
    "df_17_model.head()"
   ]
  },
  {
   "cell_type": "markdown",
   "metadata": {},
   "source": [
    "#### Train/Test Split"
   ]
  },
  {
   "cell_type": "code",
   "execution_count": 112,
   "metadata": {},
   "outputs": [
    {
     "name": "stdout",
     "output_type": "stream",
     "text": [
      "ShuffleSplit(n_splits=10, random_state=None, test_size=0.2, train_size=None)\n"
     ]
    }
   ],
   "source": [
    "# Following code from Dr. Larson's Logits and SVM notebook\n",
    "# Question: should we actually use cross-validation for this lab? (rubric doesn't mention it)\n",
    "from sklearn.model_selection import ShuffleSplit\n",
    "\n",
    "# we want to predict the X and y data as follows:\n",
    "if 'HighUnemployment' in df_17_model:\n",
    "    y = df_17_model['HighUnemployment'].values # get the labels we want\n",
    "    del df_17_model['HighUnemployment'] # get rid of the class label\n",
    "    X = df_17_model.values # use everything else to predict\n",
    "    \n",
    "# 10 fold cross-validation\n",
    "num_cv_iterations = 10\n",
    "num_instances = len(y)\n",
    "cv_object = ShuffleSplit(n_splits=num_cv_iterations,\n",
    "                         test_size  = 0.2)\n",
    "                         \n",
    "print(cv_object)"
   ]
  },
  {
   "cell_type": "markdown",
   "metadata": {},
   "source": [
    "#### Logistic Regression"
   ]
  },
  {
   "cell_type": "code",
   "execution_count": 113,
   "metadata": {
    "scrolled": false
   },
   "outputs": [
    {
     "name": "stdout",
     "output_type": "stream",
     "text": [
      "====Iteration 0  ====\n",
      "Precision: 0.7653782523687772\n",
      "Recall: 0.7057273609762862\n",
      "accuracy 0.7474276306763616\n",
      "confusion matrix\n",
      " [[5807 1560]\n",
      " [2122 5089]]\n",
      "====Iteration 1  ====\n",
      "Precision: 0.7628458498023716\n",
      "Recall: 0.6986911723753829\n",
      "accuracy 0.7445465770338867\n",
      "confusion matrix\n",
      " [[5836 1560]\n",
      " [2164 5018]]\n",
      "====Iteration 2  ====\n",
      "Precision: 0.7725828415796641\n",
      "Recall: 0.7044701986754967\n",
      "accuracy 0.7499657017423514\n",
      "confusion matrix\n",
      " [[5827 1503]\n",
      " [2142 5106]]\n",
      "====Iteration 3  ====\n",
      "Precision: 0.770378345124577\n",
      "Recall: 0.6925203926448223\n",
      "accuracy 0.7450267526409659\n",
      "confusion matrix\n",
      " [[5852 1493]\n",
      " [2224 5009]]\n",
      "====Iteration 4  ====\n",
      "Precision: 0.7657142857142857\n",
      "Recall: 0.6977202364199269\n",
      "accuracy 0.748593771436411\n",
      "confusion matrix\n",
      " [[5955 1517]\n",
      " [2148 4958]]\n",
      "====Iteration 5  ====\n",
      "Precision: 0.7671439336850038\n",
      "Recall: 0.7104969290898939\n",
      "accuracy 0.7517492111400741\n",
      "confusion matrix\n",
      " [[5869 1545]\n",
      " [2074 5090]]\n",
      "====Iteration 6  ====\n",
      "Precision: 0.7627554882664648\n",
      "Recall: 0.7041229909154437\n",
      "accuracy 0.7472904376457676\n",
      "confusion matrix\n",
      " [[5856 1567]\n",
      " [2117 5038]]\n",
      "====Iteration 7  ====\n",
      "Precision: 0.7639909977494374\n",
      "Recall: 0.708501460971198\n",
      "accuracy 0.7483879818905199\n",
      "confusion matrix\n",
      " [[5818 1573]\n",
      " [2095 5092]]\n",
      "====Iteration 8  ====\n",
      "Precision: 0.7633288022957258\n",
      "Recall: 0.7\n",
      "accuracy 0.7439292083962135\n",
      "confusion matrix\n",
      " [[5791 1567]\n",
      " [2166 5054]]\n",
      "====Iteration 9  ====\n",
      "Precision: 0.7612053301029679\n",
      "Recall: 0.7063369397217929\n",
      "accuracy 0.748456578405817\n",
      "confusion matrix\n",
      " [[5884 1577]\n",
      " [2090 5027]]\n"
     ]
    }
   ],
   "source": [
    "# run logistic regression and vary some parameters\n",
    "from sklearn.linear_model import LogisticRegression\n",
    "from sklearn import metrics as mt\n",
    "# also scale variables\n",
    "from sklearn.preprocessing import StandardScaler\n",
    "scl_obj = StandardScaler()\n",
    "\n",
    "# TODO repeat and try out different learning parameters and constants\n",
    "# TODO try to fix warnings - fixed this with solver\n",
    "lr_clf = LogisticRegression(penalty='l2', C=0.05, class_weight=None, solver='lbfgs') \n",
    "        #class_weight=None because unemployment groups are weighted equally\n",
    "\n",
    "for iter_num, (train_indices, test_indices) in enumerate(cv_object.split(X,y)):\n",
    "    # scale attributes by the training set\n",
    "    scl_obj.fit(X[train_indices])\n",
    "    X_train_scaled = scl_obj.transform(X[train_indices]) # apply to training\n",
    "    X_test_scaled = scl_obj.transform(X[test_indices]) # use training scales to adjust test set, so we're not cheating\n",
    "    \n",
    "    # train object\n",
    "    lr_clf.fit(X_train_scaled,y[train_indices])\n",
    "    # get test set precitions\n",
    "    y_hat = lr_clf.predict(X_test_scaled)\n",
    "\n",
    "    # print the accuracy and confusion matrix \n",
    "    print(\"====Iteration\",iter_num,\" ====\")\n",
    "    print(\"Precision:\",mt.precision_score(y[test_indices],y_hat))\n",
    "    print(\"Recall:\",mt.recall_score(y[test_indices],y_hat))\n",
    "    print(\"accuracy\", mt.accuracy_score(y[test_indices],y_hat)) \n",
    "    print(\"confusion matrix\\n\",mt.confusion_matrix(y[test_indices],y_hat))\n"
   ]
  },
  {
   "cell_type": "code",
   "execution_count": 103,
   "metadata": {
    "scrolled": false
   },
   "outputs": [
    {
     "data": {
      "image/png": "[encoded data removed]",
      "text/plain": [
       "<Figure size 432x288 with 1 Axes>"
      ]
     },
     "metadata": {},
     "output_type": "display_data"
    }
   ],
   "source": [
    "#ROC Curve for LR model above\n",
    "y_pred_prob = lr_clf.predict_proba(X_test_scaled)[::,1]\n",
    "fpr, tpr, _ = mt.roc_curve(y[test_indices],  y_pred_prob)\n",
    "auc = mt.roc_auc_score(y[test_indices], y_pred_prob)\n",
    "plt.plot(fpr,tpr,label=\"data 1, auc=\"+str(auc))\n",
    "plt.legend(loc=4)\n",
    "plt.show()"
   ]
  },
  {
   "cell_type": "code",
   "execution_count": 117,
   "metadata": {
    "scrolled": false
   },
   "outputs": [
    {
     "name": "stdout",
     "output_type": "stream",
     "text": [
      "[[-0.03760259  0.06282641 -0.46278393 -1.06041758 -0.28141345 -0.04102314\n",
      "  -0.21721923 -0.0593154   0.27532327 -0.17891324  0.5685759  -0.05425179\n",
      "  -0.1151257   0.18070759  0.04294957 -0.05254722  0.04920473 -0.00332748\n",
      "   0.05410008 -0.03363951  0.04253326 -0.06783489  0.27060649 -0.64697497\n",
      "   0.04534301 -0.02394704 -0.04124028]]\n",
      "[[-8.24443478e+01  2.62519017e-01 -1.06890740e+01 -3.24864126e+01\n",
      "  -6.07819674e+00 -1.85634298e-01 -1.95338322e+00 -6.06836091e-02\n",
      "   2.87564377e+00 -5.45540028e+03  7.11544850e+00 -1.01143971e+00\n",
      "  -1.73768552e+00  1.45249138e+00  2.42815143e-01 -3.14222576e-01\n",
      "   3.75398233e-01 -5.01186040e-02  2.79574376e-01 -1.81604363e-01\n",
      "   1.07112539e-01 -2.59259398e-01  1.92158203e+00 -5.86248734e+00\n",
      "   3.63531205e-01 -9.21013325e-02 -1.87823510e-02]]\n"
     ]
    }
   ],
   "source": [
    "# Influential features printing out all the coefficients\n",
    "print (lr_clf.coef_)\n",
    "print(np.std(X, 0)*lr_clf.coef_)"
   ]
  },
  {
   "cell_type": "markdown",
   "metadata": {},
   "source": [
    "#### Stochastic Gradient descent\n",
    "Stochastic Gradient Descent is done minimizing a function tracing a path of the cost function until it reaches a minimum value.\n",
    "In this machine learning the model is gradually updated to reduce the prediction error that follows.\n",
    "It requires two parameters \n",
    "a. Learning rate - which limits the updates to correct the coefficient each iteration.\n",
    "b. Epochs - number of times to run through the training set to update coefficients.\n",
    "\n",
    "The logic flows as below:\n",
    "First loop through the epoch\n",
    "Within this loop go through each training data for epoch\n",
    "for each update the coefficient for the epoch(repetitions) including the intercept.\n",
    "\n",
    "We use numpy to the sigmoid function to arrive at the losses."
   ]
  },
  {
   "cell_type": "code",
   "execution_count": 118,
   "metadata": {
    "scrolled": false
   },
   "outputs": [],
   "source": [
    "# defines the sigmoid function \n",
    " \n",
    "def sigmoid(x):\n",
    "# calculates and  returns the sigmoid activation value for input x\n",
    "    return 1.0 / (1 + np.exp(-x))"
   ]
  },
  {
   "cell_type": "code",
   "execution_count": 119,
   "metadata": {
    "scrolled": false
   },
   "outputs": [],
   "source": [
    "#defining the cost function here - uses sigmoid function to compute logistic regression cost\n",
    "def cost_f(x, y, theta):\n",
    "    t = x.dot(theta)\n",
    "    return -np.sum(y*np.log(sigmoid(t))+(1-y)* np.log(1-sigmoid(t)))/x.shape[0]\n",
    "# defined gradient cost which can also be alternately used.\n",
    "def grad_cost(x,y,theta):\n",
    "    t=x.dot(theta)\n",
    "    return x.T.dot(y - sigmoid(t)) / x.shape[0]"
   ]
  },
  {
   "cell_type": "markdown",
   "metadata": {},
   "source": [
    "#### Main part of SGD\n",
    "In this part we do the training and update the model weights. The hyper parameter \"learning rate\" is set. It can neither be too small or too large so as to reach the minimum of loss function.\n",
    "We can use values between 0 and 1 (randomly) and minimize loss and maximize prediction. If the difference between the last values of cost is less than the threshold, then we stop updating."
   ]
  },
  {
   "cell_type": "code",
   "execution_count": 125,
   "metadata": {
    "scrolled": false
   },
   "outputs": [],
   "source": [
    "#defining the update function for training.\n",
    "def update_theta(x, y, theta, lr):\n",
    "    return theta + lr * grad_cost(x, y, theta)\n",
    "\n",
    "def train(x, y, lr, iterations=100, threshold=0.0005):\n",
    "    theta = np.zeros(x.shape[1])\n",
    "    costs = []\n",
    "    print('Started to train')\n",
    "    for i in range(iterations):\n",
    "        theta = update_theta(x, y, theta, lr)\n",
    "        cost = cost_f(x, y, theta)\n",
    "        print(f'[Training step number: {i}] — Cost function: {cost:.4f}')\n",
    "        costs.append({'cost': cost, 'wts': theta})\n",
    "        if i > 15 and abs(costs[-2]['cost']-costs[-1]['cost']) < threshold:\n",
    "            break\n",
    "        return theta, costs"
   ]
  },
  {
   "cell_type": "code",
   "execution_count": 126,
   "metadata": {
    "scrolled": false
   },
   "outputs": [
    {
     "name": "stdout",
     "output_type": "stream",
     "text": [
      "Started to train\n",
      "[Training step number: 0] — Cost function: 0.6756\n",
      "Accuracy -training:0.7310284508926275\n",
      "Accuracy -test:0.7351488544381946\n"
     ]
    }
   ],
   "source": [
    "#Now using the earlier model used for logistic regression using CV to do the training.\n",
    "theta, cost = train(X_train_scaled, y[train_indices], lr=0.05)\n",
    "\n",
    "#Now we can predict based on our model\n",
    "def predict(x, theta):\n",
    "    return (sigmoid(x.dot(theta)) >=0.5).astype(int)\n",
    "\n",
    "def get_accuracy(x,y,theta):\n",
    "    ypred=predict(x,theta)\n",
    "    return (ypred == y).sum()/y.shape[0]\n",
    "\n",
    "print(f'Accuracy -training:{get_accuracy(X_train_scaled, y[train_indices], theta)}')\n",
    "print(f'Accuracy -test:{get_accuracy(X_test_scaled, y[test_indices], theta)}')"
   ]
  },
  {
   "cell_type": "code",
   "execution_count": 127,
   "metadata": {
    "scrolled": false
   },
   "outputs": [],
   "source": [
    "#### This is a different set of data for which we plotted the theta and cost for comparison.\n",
    "\n",
    "from sklearn.linear_model import SGDClassifier\n",
    "df_17_model2 = df_17_model.copy()\n",
    "#The choice is totally manual and decided on some logic based on LDA arrived at previous work\n",
    "#Ratio of Voting Age citizens to total population\n",
    "df_17_model2['VotingAgeR'] = df_17_cln['VotingAgeCitizen']/df_17_cln['TotalPop']\n",
    "# Ratio of Employed to total population\n",
    "df_17_model2['EmpRatio'] = df_17_cln['Employed']/df_17_cln['TotalPop']\n",
    "\n",
    "X = df_17_model2[['EmpRatio','VotingAgeR','Professional','MeanCommute']].values\n",
    "\n",
    "if 'HighUnemployment' in df_17_model:\n",
    "    y = df_17_model2['HighUnemployment'].values # get the labels we want\n",
    "    del df_17_model2['HighUnemployment'] # get rid of the class label\n",
    "\n",
    "def stochastic_gradient_descent(X,y,theta,learning_rate=0.01,n_iter=100):\n",
    "#    X    = Matrix of X with added bias units; y= Vector of Y; theta=Vector of thetas np.random.randn(j,1)\n",
    "#    learning_rate ;    n_iter = no of iterations\n",
    "#    Returns theta and array of cost for  no of iterations\n",
    "\n",
    "    m = len(y)\n",
    "    cost_history = np.zeros(n_iter)\n",
    "    \n",
    "    for it in range(n_iter):\n",
    "        cost =0.0\n",
    "        for i in range(m):\n",
    "            rand_ind = np.random.randint(0,m)\n",
    "            X_i = X[rand_ind,:].reshape(1,X.shape[1])\n",
    "            y_i = y[rand_ind].reshape(1,1)\n",
    "            prediction = np.dot(X_i,theta)\n",
    "\n",
    "            theta = theta -(1/m)*learning_rate*( X_i.T.dot((prediction - y_i)))\n",
    "            cost += cost_f(X_i,y_i,theta)\n",
    "        cost_history[it]  = cost\n",
    "        \n",
    "    return theta, cost_history"
   ]
  },
  {
   "cell_type": "code",
   "execution_count": 128,
   "metadata": {
    "scrolled": false
   },
   "outputs": [
    {
     "name": "stderr",
     "output_type": "stream",
     "text": [
      "C:\\Users\\Anand\\Anaconda3\\lib\\site-packages\\ipykernel_launcher.py:4: RuntimeWarning: divide by zero encountered in log\n",
      "  after removing the cwd from sys.path.\n",
      "C:\\Users\\Anand\\Anaconda3\\lib\\site-packages\\ipykernel_launcher.py:4: RuntimeWarning: invalid value encountered in multiply\n",
      "  after removing the cwd from sys.path.\n"
     ]
    },
    {
     "name": "stdout",
     "output_type": "stream",
     "text": [
      "Theta0:          0.878,\n",
      "Theta1:          -0.488\n",
      "Cost:  49930.311\n"
     ]
    }
   ],
   "source": [
    "#Here we calculate the Theta and Cost by calling functions\n",
    "lr =0.5\n",
    "n_iter = 100\n",
    "#Kept iterations at 100\n",
    "theta = np.random.randn(5,1)\n",
    "\n",
    "X_b = np.c_[np.ones((len(X),1)),X]\n",
    "# Here we find the Theta and Cost calling SGD function\n",
    "theta,cost_ = stochastic_gradient_descent(X_b,y,theta,lr,n_iter)\n",
    "\n",
    "print('Theta0:          {:0.3f},\\nTheta1:          {:0.3f}'.format(theta[0][0],theta[1][0]))\n",
    "print('Cost:  {:0.3f}'.format(cost_[-1]))"
   ]
  },
  {
   "cell_type": "code",
   "execution_count": 129,
   "metadata": {
    "scrolled": false
   },
   "outputs": [
    {
     "data": {
      "image/png": "[encoded data removed]",
      "text/plain": [
       "<Figure size 720x576 with 1 Axes>"
      ]
     },
     "metadata": {},
     "output_type": "display_data"
    }
   ],
   "source": [
    "#Plot to find out the cost decrease gradually.\n",
    "fig,ax = plt.subplots(figsize=(10,8))\n",
    "\n",
    "ax.set_ylabel('Theta',rotation=0)\n",
    "ax.set_xlabel('Iterations')\n",
    "theta = np.random.randn(5,1)\n",
    "\n",
    "_=ax.plot(range(n_iter),cost_history,'b.')"
   ]
  },
  {
   "cell_type": "markdown",
   "metadata": {},
   "source": [
    "#### Support Vector Machine"
   ]
  },
  {
   "cell_type": "code",
   "execution_count": 107,
   "metadata": {},
   "outputs": [
    {
     "name": "stdout",
     "output_type": "stream",
     "text": [
      "<class 'pandas.core.frame.DataFrame'>\n",
      "Int64Index: 72889 entries, 1001020100 to 72153750602\n",
      "Data columns (total 28 columns):\n",
      "TotalPop            72889 non-null int64\n",
      "Women               72889 non-null float64\n",
      "Hispanic            72889 non-null float64\n",
      "White               72889 non-null float64\n",
      "Black               72889 non-null float64\n",
      "Native              72889 non-null float64\n",
      "Asian               72889 non-null float64\n",
      "Pacific             72889 non-null float64\n",
      "VotingAgeCitizen    72889 non-null float64\n",
      "Income              72889 non-null float64\n",
      "Poverty             72889 non-null float64\n",
      "ChildPoverty        72889 non-null float64\n",
      "Professional        72889 non-null float64\n",
      "Service             72889 non-null float64\n",
      "Office              72889 non-null float64\n",
      "Construction        72889 non-null float64\n",
      "Production          72889 non-null float64\n",
      "Drive               72889 non-null float64\n",
      "Carpool             72889 non-null float64\n",
      "Walk                72889 non-null float64\n",
      "OtherTransp         72889 non-null float64\n",
      "WorkAtHome          72889 non-null float64\n",
      "MeanCommute         72889 non-null float64\n",
      "Employed            72889 non-null float64\n",
      "PrivateWork         72889 non-null float64\n",
      "SelfEmployed        72889 non-null float64\n",
      "FamilyWork          72889 non-null float64\n",
      "HighUnemployment    72889 non-null int64\n",
      "dtypes: float64(26), int64(2)\n",
      "memory usage: 16.1 MB\n",
      "None\n"
     ]
    },
    {
     "data": {
      "text/html": [
       "<div>\n",
       "<style scoped>\n",
       "    .dataframe tbody tr th:only-of-type {\n",
       "        vertical-align: middle;\n",
       "    }\n",
       "\n",
       "    .dataframe tbody tr th {\n",
       "        vertical-align: top;\n",
       "    }\n",
       "\n",
       "    .dataframe thead th {\n",
       "        text-align: right;\n",
       "    }\n",
       "</style>\n",
       "<table border=\"1\" class=\"dataframe\">\n",
       "  <thead>\n",
       "    <tr style=\"text-align: right;\">\n",
       "      <th></th>\n",
       "      <th>TotalPop</th>\n",
       "      <th>Women</th>\n",
       "      <th>Hispanic</th>\n",
       "      <th>White</th>\n",
       "      <th>Black</th>\n",
       "      <th>Native</th>\n",
       "      <th>Asian</th>\n",
       "      <th>Pacific</th>\n",
       "      <th>VotingAgeCitizen</th>\n",
       "      <th>Income</th>\n",
       "      <th>Poverty</th>\n",
       "      <th>ChildPoverty</th>\n",
       "      <th>Professional</th>\n",
       "      <th>Service</th>\n",
       "      <th>Office</th>\n",
       "      <th>Construction</th>\n",
       "      <th>Production</th>\n",
       "      <th>Drive</th>\n",
       "      <th>Carpool</th>\n",
       "      <th>Walk</th>\n",
       "      <th>OtherTransp</th>\n",
       "      <th>WorkAtHome</th>\n",
       "      <th>MeanCommute</th>\n",
       "      <th>Employed</th>\n",
       "      <th>PrivateWork</th>\n",
       "      <th>SelfEmployed</th>\n",
       "      <th>FamilyWork</th>\n",
       "      <th>HighUnemployment</th>\n",
       "    </tr>\n",
       "    <tr>\n",
       "      <th>TractId</th>\n",
       "      <th></th>\n",
       "      <th></th>\n",
       "      <th></th>\n",
       "      <th></th>\n",
       "      <th></th>\n",
       "      <th></th>\n",
       "      <th></th>\n",
       "      <th></th>\n",
       "      <th></th>\n",
       "      <th></th>\n",
       "      <th></th>\n",
       "      <th></th>\n",
       "      <th></th>\n",
       "      <th></th>\n",
       "      <th></th>\n",
       "      <th></th>\n",
       "      <th></th>\n",
       "      <th></th>\n",
       "      <th></th>\n",
       "      <th></th>\n",
       "      <th></th>\n",
       "      <th></th>\n",
       "      <th></th>\n",
       "      <th></th>\n",
       "      <th></th>\n",
       "      <th></th>\n",
       "      <th></th>\n",
       "      <th></th>\n",
       "    </tr>\n",
       "  </thead>\n",
       "  <tbody>\n",
       "    <tr>\n",
       "      <th>1001020100</th>\n",
       "      <td>1845</td>\n",
       "      <td>51.3</td>\n",
       "      <td>2.4</td>\n",
       "      <td>86.3</td>\n",
       "      <td>5.2</td>\n",
       "      <td>0.0</td>\n",
       "      <td>1.2</td>\n",
       "      <td>0.0</td>\n",
       "      <td>76.3</td>\n",
       "      <td>67826.0</td>\n",
       "      <td>10.7</td>\n",
       "      <td>20.8</td>\n",
       "      <td>38.5</td>\n",
       "      <td>15.6</td>\n",
       "      <td>22.8</td>\n",
       "      <td>10.8</td>\n",
       "      <td>12.4</td>\n",
       "      <td>94.2</td>\n",
       "      <td>3.3</td>\n",
       "      <td>0.5</td>\n",
       "      <td>0.0</td>\n",
       "      <td>2.1</td>\n",
       "      <td>24.5</td>\n",
       "      <td>47.8</td>\n",
       "      <td>74.2</td>\n",
       "      <td>4.5</td>\n",
       "      <td>0.0</td>\n",
       "      <td>0</td>\n",
       "    </tr>\n",
       "    <tr>\n",
       "      <th>1001020200</th>\n",
       "      <td>2172</td>\n",
       "      <td>46.3</td>\n",
       "      <td>1.1</td>\n",
       "      <td>41.6</td>\n",
       "      <td>54.5</td>\n",
       "      <td>0.0</td>\n",
       "      <td>1.0</td>\n",
       "      <td>0.0</td>\n",
       "      <td>76.1</td>\n",
       "      <td>41287.0</td>\n",
       "      <td>22.4</td>\n",
       "      <td>35.8</td>\n",
       "      <td>30.5</td>\n",
       "      <td>24.9</td>\n",
       "      <td>22.9</td>\n",
       "      <td>6.3</td>\n",
       "      <td>15.4</td>\n",
       "      <td>90.5</td>\n",
       "      <td>9.1</td>\n",
       "      <td>0.0</td>\n",
       "      <td>0.5</td>\n",
       "      <td>0.0</td>\n",
       "      <td>22.2</td>\n",
       "      <td>39.2</td>\n",
       "      <td>75.9</td>\n",
       "      <td>9.0</td>\n",
       "      <td>0.0</td>\n",
       "      <td>0</td>\n",
       "    </tr>\n",
       "    <tr>\n",
       "      <th>1001020300</th>\n",
       "      <td>3385</td>\n",
       "      <td>54.7</td>\n",
       "      <td>8.0</td>\n",
       "      <td>61.4</td>\n",
       "      <td>26.5</td>\n",
       "      <td>0.6</td>\n",
       "      <td>0.7</td>\n",
       "      <td>0.4</td>\n",
       "      <td>73.3</td>\n",
       "      <td>46806.0</td>\n",
       "      <td>14.7</td>\n",
       "      <td>21.1</td>\n",
       "      <td>27.9</td>\n",
       "      <td>19.4</td>\n",
       "      <td>33.3</td>\n",
       "      <td>9.9</td>\n",
       "      <td>9.6</td>\n",
       "      <td>88.3</td>\n",
       "      <td>8.4</td>\n",
       "      <td>1.0</td>\n",
       "      <td>0.8</td>\n",
       "      <td>1.5</td>\n",
       "      <td>23.1</td>\n",
       "      <td>43.8</td>\n",
       "      <td>73.3</td>\n",
       "      <td>4.8</td>\n",
       "      <td>0.7</td>\n",
       "      <td>0</td>\n",
       "    </tr>\n",
       "    <tr>\n",
       "      <th>1001020400</th>\n",
       "      <td>4267</td>\n",
       "      <td>53.1</td>\n",
       "      <td>9.6</td>\n",
       "      <td>80.3</td>\n",
       "      <td>7.1</td>\n",
       "      <td>0.5</td>\n",
       "      <td>0.2</td>\n",
       "      <td>0.0</td>\n",
       "      <td>76.3</td>\n",
       "      <td>55895.0</td>\n",
       "      <td>2.3</td>\n",
       "      <td>1.7</td>\n",
       "      <td>29.0</td>\n",
       "      <td>16.6</td>\n",
       "      <td>25.8</td>\n",
       "      <td>9.1</td>\n",
       "      <td>19.5</td>\n",
       "      <td>82.3</td>\n",
       "      <td>11.2</td>\n",
       "      <td>1.5</td>\n",
       "      <td>2.9</td>\n",
       "      <td>2.1</td>\n",
       "      <td>25.9</td>\n",
       "      <td>43.3</td>\n",
       "      <td>75.8</td>\n",
       "      <td>4.5</td>\n",
       "      <td>0.0</td>\n",
       "      <td>1</td>\n",
       "    </tr>\n",
       "    <tr>\n",
       "      <th>1001020500</th>\n",
       "      <td>9965</td>\n",
       "      <td>49.3</td>\n",
       "      <td>0.9</td>\n",
       "      <td>77.5</td>\n",
       "      <td>16.4</td>\n",
       "      <td>0.0</td>\n",
       "      <td>3.1</td>\n",
       "      <td>0.0</td>\n",
       "      <td>72.5</td>\n",
       "      <td>68143.0</td>\n",
       "      <td>12.2</td>\n",
       "      <td>17.9</td>\n",
       "      <td>48.8</td>\n",
       "      <td>13.8</td>\n",
       "      <td>20.5</td>\n",
       "      <td>3.5</td>\n",
       "      <td>13.4</td>\n",
       "      <td>86.9</td>\n",
       "      <td>11.2</td>\n",
       "      <td>0.8</td>\n",
       "      <td>0.3</td>\n",
       "      <td>0.7</td>\n",
       "      <td>21.0</td>\n",
       "      <td>48.0</td>\n",
       "      <td>71.4</td>\n",
       "      <td>4.5</td>\n",
       "      <td>0.0</td>\n",
       "      <td>0</td>\n",
       "    </tr>\n",
       "  </tbody>\n",
       "</table>\n",
       "</div>"
      ],
      "text/plain": [
       "            TotalPop  Women  Hispanic  White  Black  Native  Asian  Pacific  \\\n",
       "TractId                                                                       \n",
       "1001020100      1845   51.3       2.4   86.3    5.2     0.0    1.2      0.0   \n",
       "1001020200      2172   46.3       1.1   41.6   54.5     0.0    1.0      0.0   \n",
       "1001020300      3385   54.7       8.0   61.4   26.5     0.6    0.7      0.4   \n",
       "1001020400      4267   53.1       9.6   80.3    7.1     0.5    0.2      0.0   \n",
       "1001020500      9965   49.3       0.9   77.5   16.4     0.0    3.1      0.0   \n",
       "\n",
       "            VotingAgeCitizen   Income  Poverty  ChildPoverty  Professional  \\\n",
       "TractId                                                                      \n",
       "1001020100              76.3  67826.0     10.7          20.8          38.5   \n",
       "1001020200              76.1  41287.0     22.4          35.8          30.5   \n",
       "1001020300              73.3  46806.0     14.7          21.1          27.9   \n",
       "1001020400              76.3  55895.0      2.3           1.7          29.0   \n",
       "1001020500              72.5  68143.0     12.2          17.9          48.8   \n",
       "\n",
       "            Service  Office  Construction  Production  Drive  Carpool  Walk  \\\n",
       "TractId                                                                       \n",
       "1001020100     15.6    22.8          10.8        12.4   94.2      3.3   0.5   \n",
       "1001020200     24.9    22.9           6.3        15.4   90.5      9.1   0.0   \n",
       "1001020300     19.4    33.3           9.9         9.6   88.3      8.4   1.0   \n",
       "1001020400     16.6    25.8           9.1        19.5   82.3     11.2   1.5   \n",
       "1001020500     13.8    20.5           3.5        13.4   86.9     11.2   0.8   \n",
       "\n",
       "            OtherTransp  WorkAtHome  MeanCommute  Employed  PrivateWork  \\\n",
       "TractId                                                                   \n",
       "1001020100          0.0         2.1         24.5      47.8         74.2   \n",
       "1001020200          0.5         0.0         22.2      39.2         75.9   \n",
       "1001020300          0.8         1.5         23.1      43.8         73.3   \n",
       "1001020400          2.9         2.1         25.9      43.3         75.8   \n",
       "1001020500          0.3         0.7         21.0      48.0         71.4   \n",
       "\n",
       "            SelfEmployed  FamilyWork  HighUnemployment  \n",
       "TractId                                                 \n",
       "1001020100           4.5         0.0                 0  \n",
       "1001020200           9.0         0.0                 0  \n",
       "1001020300           4.8         0.7                 0  \n",
       "1001020400           4.5         0.0                 1  \n",
       "1001020500           4.5         0.0                 0  "
      ]
     },
     "execution_count": 107,
     "metadata": {},
     "output_type": "execute_result"
    }
   ],
   "source": [
    "print(df_17_model.info())\n",
    "df_17_model.head()"
   ]
  },
  {
   "cell_type": "code",
   "execution_count": 108,
   "metadata": {},
   "outputs": [],
   "source": [
    "### Split into train and test set\n",
    "import pandas as pd\n",
    "from sklearn.model_selection import train_test_split\n",
    "\n",
    "features = df_17_model.drop('HighUnemployment', axis=1)\n",
    "labels = df_17_model['HighUnemployment']\n",
    "\n",
    "X_train, X_test, y_train, y_test = train_test_split(features, labels, test_size=0.2, random_state=42)"
   ]
  },
  {
   "cell_type": "code",
   "execution_count": 109,
   "metadata": {},
   "outputs": [
    {
     "name": "stdout",
     "output_type": "stream",
     "text": [
      "0.8\n",
      "0.2\n"
     ]
    }
   ],
   "source": [
    "# Display to show that we got 80/20 split\n",
    "for dataset in [y_train, y_test]:\n",
    "    print(round(len(dataset) / len(labels), 2))"
   ]
  },
  {
   "cell_type": "code",
   "execution_count": 110,
   "metadata": {},
   "outputs": [],
   "source": [
    "# Function to print the results\n",
    "def print_results(results):\n",
    "    print('BEST PARAMS: {}\\n'.format(results.best_params_))\n",
    "\n",
    "    means = results.cv_results_['mean_test_score']\n",
    "    stds = results.cv_results_['std_test_score']\n",
    "    for mean, std, params in zip(means, stds, results.cv_results_['params']):\n",
    "        print('{} (+/-{}) for {}'.format(round(mean, 3), round(std * 2, 3), params))"
   ]
  },
  {
   "attachments": {
    "LR_C.png": {
     "image/png": "[encoded data removed]"
    }
   },
   "cell_type": "markdown",
   "metadata": {},
   "source": [
    "## Find the best tuned hyperplane parameters for Logistic Regression\n",
    "![LR_C.png](attachment:LR_C.png)"
   ]
  },
  {
   "cell_type": "code",
   "execution_count": 53,
   "metadata": {},
   "outputs": [
    {
     "name": "stdout",
     "output_type": "stream",
     "text": [
      "BEST PARAMS: {'C': 100}\n",
      "\n",
      "0.746 (+/-0.008) for {'C': 0.001}\n",
      "0.746 (+/-0.007) for {'C': 0.01}\n",
      "0.746 (+/-0.007) for {'C': 0.1}\n",
      "0.746 (+/-0.007) for {'C': 1}\n",
      "0.746 (+/-0.007) for {'C': 10}\n",
      "0.746 (+/-0.007) for {'C': 100}\n",
      "0.745 (+/-0.008) for {'C': 1000}\n"
     ]
    }
   ],
   "source": [
    "# Find the best hyperplane parameters for Logistic Regression\n",
    "import joblib\n",
    "import pandas as pd\n",
    "from sklearn.linear_model import LogisticRegression\n",
    "from sklearn.model_selection import GridSearchCV\n",
    "import warnings\n",
    "warnings.filterwarnings('ignore', category=FutureWarning)\n",
    "warnings.filterwarnings('ignore', category=DeprecationWarning)\n",
    "\n",
    "lr = LogisticRegression()\n",
    "parameters = {\n",
    "    'C': [0.001, 0.01, 0.1, 1, 10, 100, 1000]\n",
    "}\n",
    "\n",
    "lr_cv = GridSearchCV(lr, parameters, cv=5)\n",
    "lr_cv.fit(X_train, y_train.values.ravel())\n",
    "\n",
    "print_results(lr_cv)"
   ]
  },
  {
   "cell_type": "code",
   "execution_count": 54,
   "metadata": {},
   "outputs": [
    {
     "data": {
      "text/plain": [
       "LogisticRegression(C=100, class_weight=None, dual=False, fit_intercept=True,\n",
       "          intercept_scaling=1, max_iter=100, multi_class='warn',\n",
       "          n_jobs=None, penalty='l2', random_state=None, solver='warn',\n",
       "          tol=0.0001, verbose=0, warm_start=False)"
      ]
     },
     "execution_count": 54,
     "metadata": {},
     "output_type": "execute_result"
    }
   ],
   "source": [
    "# Display the best estimator with the recommended hyperplane parameters\n",
    "lr_cv.best_estimator_"
   ]
  },
  {
   "cell_type": "code",
   "execution_count": 58,
   "metadata": {},
   "outputs": [
    {
     "data": {
      "text/plain": [
       "['LR_full_model.pkl']"
      ]
     },
     "execution_count": 58,
     "metadata": {},
     "output_type": "execute_result"
    }
   ],
   "source": [
    "# Output this to a model.pkl file\n",
    "joblib.dump(cv.best_estimator_, 'LR_full_model.pkl')"
   ]
  },
  {
   "attachments": {
    "SVM_C.png": {
     "image/png": "[encoded data removed]"
    }
   },
   "cell_type": "markdown",
   "metadata": {},
   "source": [
    "## Find the best tuned hyperplane parameters for SVM\n",
    "![SVM_C.png](attachment:SVM_C.png)"
   ]
  },
  {
   "cell_type": "code",
   "execution_count": 56,
   "metadata": {},
   "outputs": [],
   "source": [
    "### Support Vector Machines: Fit and evaluate a model\n",
    "import joblib\n",
    "import pandas as pd\n",
    "from sklearn.model_selection import GridSearchCV\n",
    "from sklearn.svm import SVC\n",
    "import warnings\n",
    "warnings.filterwarnings('ignore', category=FutureWarning)\n",
    "warnings.filterwarnings('ignore', category=DeprecationWarning)"
   ]
  },
  {
   "cell_type": "code",
   "execution_count": 57,
   "metadata": {},
   "outputs": [],
   "source": [
    "def print_results(results):\n",
    "    print('BEST PARAMS: {}\\n'.format(results.best_params_))\n",
    "\n",
    "    means = results.cv_results_['mean_test_score']\n",
    "    stds = results.cv_results_['std_test_score']\n",
    "    for mean, std, params in zip(means, stds, results.cv_results_['params']):\n",
    "        print('{} (+/-{}) for {}'.format(round(mean, 3), round(std * 2, 3), params))"
   ]
  },
  {
   "cell_type": "code",
   "execution_count": null,
   "metadata": {},
   "outputs": [],
   "source": [
    "#Note: This code is computationally very intensive and takes a long time. First we tried to see the best C value\n",
    "# between 0.1, 1 and 10 with a cv of 5 but it was taking too many hours to finish so we decided to use a C of 0.5. \n",
    "\n",
    "svc = SVC()\n",
    "parameters = {\n",
    "    'kernel': ['linear', 'rbf'],\n",
    "    'C': [0.5]\n",
    "}\n",
    "\n",
    "svm_cv = GridSearchCV(svc, parameters, cv=5)\n",
    "svm_cv.fit(X_train, y_train.values.ravel())\n",
    "\n",
    "print_results(svm_cv)"
   ]
  },
  {
   "cell_type": "code",
   "execution_count": null,
   "metadata": {},
   "outputs": [],
   "source": [
    "svm_cv.best_estimator_"
   ]
  },
  {
   "cell_type": "code",
   "execution_count": null,
   "metadata": {},
   "outputs": [],
   "source": [
    "joblib.dump(svm_cv.best_estimator_, 'SVM_full_model.pkl')"
   ]
  },
  {
   "cell_type": "code",
   "execution_count": 62,
   "metadata": {},
   "outputs": [],
   "source": [
    "# Read in Models:\n",
    "models = {}\n",
    "\n",
    "for mdl in ['LR', 'SVM']:\n",
    "    models[mdl] = joblib.load('{}_full_model.pkl'.format(mdl))"
   ]
  },
  {
   "cell_type": "code",
   "execution_count": 63,
   "metadata": {},
   "outputs": [
    {
     "data": {
      "text/plain": [
       "{'LR': LogisticRegression(C=100, class_weight=None, dual=False, fit_intercept=True,\n",
       "           intercept_scaling=1, max_iter=100, multi_class='warn',\n",
       "           n_jobs=None, penalty='l2', random_state=None, solver='warn',\n",
       "           tol=0.0001, verbose=0, warm_start=False),\n",
       " 'SVM': SVC(C=0.5, cache_size=200, class_weight=None, coef0=0.0,\n",
       "   decision_function_shape='ovr', degree=3, gamma='auto_deprecated',\n",
       "   kernel='linear', max_iter=-1, probability=False, random_state=None,\n",
       "   shrinking=True, tol=0.001, verbose=False)}"
      ]
     },
     "execution_count": 63,
     "metadata": {},
     "output_type": "execute_result"
    }
   ],
   "source": [
    "models"
   ]
  },
  {
   "cell_type": "code",
   "execution_count": 64,
   "metadata": {},
   "outputs": [],
   "source": [
    "# Evaluate models on the test set\n",
    "def evaluate_model(name, model, features, labels):\n",
    "    start = time()\n",
    "    pred = model.predict(features)\n",
    "    end = time()\n",
    "    accuracy = round(accuracy_score(labels, pred), 3)\n",
    "    precision = round(precision_score(labels, pred), 3)\n",
    "    recall = round(recall_score(labels, pred), 3)\n",
    "    print('{} -- Accuracy: {} / Precision: {} / Recall: {} / Latency: {}ms'.format(name,\n",
    "                                                                                   accuracy,\n",
    "                                                                                   precision,\n",
    "                                                                                   recall,\n",
    "                                                                                   round((end - start)*1000, 1)))"
   ]
  },
  {
   "cell_type": "code",
   "execution_count": 65,
   "metadata": {},
   "outputs": [
    {
     "name": "stdout",
     "output_type": "stream",
     "text": [
      "LR -- Accuracy: 0.743 / Precision: 0.753 / Recall: 0.704 / Latency: 4.0ms\n",
      "SVM -- Accuracy: 0.736 / Precision: 0.769 / Recall: 0.657 / Latency: 5427.4ms\n"
     ]
    }
   ],
   "source": [
    "import joblib\n",
    "import pandas as pd\n",
    "from sklearn.metrics import accuracy_score, precision_score, recall_score\n",
    "from time import time\n",
    "\n",
    "for name, mdl in models.items():\n",
    "    evaluate_model(name, mdl, X_test, y_test)"
   ]
  },
  {
   "cell_type": "markdown",
   "metadata": {},
   "source": [
    "In full model, Logistic Regression performed better with an accuracy of 74.3% and recall of 70.4%. However SVM performed better in precision with 76.9%. Latency for SVM is very high and is very slow to train."
   ]
  },
  {
   "cell_type": "markdown",
   "metadata": {},
   "source": [
    "# Reduced Model with features from PCA"
   ]
  },
  {
   "cell_type": "markdown",
   "metadata": {},
   "source": [
    "The above analysis was performed on a dataset with 27 attributes, obtained from manual deletion of only a few variables. We recognize the dangers of overfitting with so many features being used, so we decided to reduce the dimensionality of our dataset greatly and run logistic and SVM models again. The features in this reduced dataset were selected based on PCA performed in Lab 1, i.e. 6 variables were chosen to explain the highest amount of variance in the dataset."
   ]
  },
  {
   "cell_type": "code",
   "execution_count": 111,
   "metadata": {},
   "outputs": [
    {
     "name": "stdout",
     "output_type": "stream",
     "text": [
      "<class 'pandas.core.frame.DataFrame'>\n",
      "Int64Index: 72889 entries, 1001020100 to 72153750602\n",
      "Data columns (total 28 columns):\n",
      "TotalPop            72889 non-null int64\n",
      "Women               72889 non-null float64\n",
      "Hispanic            72889 non-null float64\n",
      "White               72889 non-null float64\n",
      "Black               72889 non-null float64\n",
      "Native              72889 non-null float64\n",
      "Asian               72889 non-null float64\n",
      "Pacific             72889 non-null float64\n",
      "VotingAgeCitizen    72889 non-null float64\n",
      "Income              72889 non-null float64\n",
      "Poverty             72889 non-null float64\n",
      "ChildPoverty        72889 non-null float64\n",
      "Professional        72889 non-null float64\n",
      "Service             72889 non-null float64\n",
      "Office              72889 non-null float64\n",
      "Construction        72889 non-null float64\n",
      "Production          72889 non-null float64\n",
      "Drive               72889 non-null float64\n",
      "Carpool             72889 non-null float64\n",
      "Walk                72889 non-null float64\n",
      "OtherTransp         72889 non-null float64\n",
      "WorkAtHome          72889 non-null float64\n",
      "MeanCommute         72889 non-null float64\n",
      "Employed            72889 non-null float64\n",
      "PrivateWork         72889 non-null float64\n",
      "SelfEmployed        72889 non-null float64\n",
      "FamilyWork          72889 non-null float64\n",
      "HighUnemployment    72889 non-null int64\n",
      "dtypes: float64(26), int64(2)\n",
      "memory usage: 16.1 MB\n",
      "None\n"
     ]
    },
    {
     "data": {
      "text/html": [
       "<div>\n",
       "<style scoped>\n",
       "    .dataframe tbody tr th:only-of-type {\n",
       "        vertical-align: middle;\n",
       "    }\n",
       "\n",
       "    .dataframe tbody tr th {\n",
       "        vertical-align: top;\n",
       "    }\n",
       "\n",
       "    .dataframe thead th {\n",
       "        text-align: right;\n",
       "    }\n",
       "</style>\n",
       "<table border=\"1\" class=\"dataframe\">\n",
       "  <thead>\n",
       "    <tr style=\"text-align: right;\">\n",
       "      <th></th>\n",
       "      <th>TotalPop</th>\n",
       "      <th>Women</th>\n",
       "      <th>Hispanic</th>\n",
       "      <th>White</th>\n",
       "      <th>Black</th>\n",
       "      <th>Native</th>\n",
       "      <th>Asian</th>\n",
       "      <th>Pacific</th>\n",
       "      <th>VotingAgeCitizen</th>\n",
       "      <th>Income</th>\n",
       "      <th>Poverty</th>\n",
       "      <th>ChildPoverty</th>\n",
       "      <th>Professional</th>\n",
       "      <th>Service</th>\n",
       "      <th>Office</th>\n",
       "      <th>Construction</th>\n",
       "      <th>Production</th>\n",
       "      <th>Drive</th>\n",
       "      <th>Carpool</th>\n",
       "      <th>Walk</th>\n",
       "      <th>OtherTransp</th>\n",
       "      <th>WorkAtHome</th>\n",
       "      <th>MeanCommute</th>\n",
       "      <th>Employed</th>\n",
       "      <th>PrivateWork</th>\n",
       "      <th>SelfEmployed</th>\n",
       "      <th>FamilyWork</th>\n",
       "      <th>HighUnemployment</th>\n",
       "    </tr>\n",
       "    <tr>\n",
       "      <th>TractId</th>\n",
       "      <th></th>\n",
       "      <th></th>\n",
       "      <th></th>\n",
       "      <th></th>\n",
       "      <th></th>\n",
       "      <th></th>\n",
       "      <th></th>\n",
       "      <th></th>\n",
       "      <th></th>\n",
       "      <th></th>\n",
       "      <th></th>\n",
       "      <th></th>\n",
       "      <th></th>\n",
       "      <th></th>\n",
       "      <th></th>\n",
       "      <th></th>\n",
       "      <th></th>\n",
       "      <th></th>\n",
       "      <th></th>\n",
       "      <th></th>\n",
       "      <th></th>\n",
       "      <th></th>\n",
       "      <th></th>\n",
       "      <th></th>\n",
       "      <th></th>\n",
       "      <th></th>\n",
       "      <th></th>\n",
       "      <th></th>\n",
       "    </tr>\n",
       "  </thead>\n",
       "  <tbody>\n",
       "    <tr>\n",
       "      <th>1001020100</th>\n",
       "      <td>1845</td>\n",
       "      <td>51.3</td>\n",
       "      <td>2.4</td>\n",
       "      <td>86.3</td>\n",
       "      <td>5.2</td>\n",
       "      <td>0.0</td>\n",
       "      <td>1.2</td>\n",
       "      <td>0.0</td>\n",
       "      <td>76.3</td>\n",
       "      <td>67826.0</td>\n",
       "      <td>10.7</td>\n",
       "      <td>20.8</td>\n",
       "      <td>38.5</td>\n",
       "      <td>15.6</td>\n",
       "      <td>22.8</td>\n",
       "      <td>10.8</td>\n",
       "      <td>12.4</td>\n",
       "      <td>94.2</td>\n",
       "      <td>3.3</td>\n",
       "      <td>0.5</td>\n",
       "      <td>0.0</td>\n",
       "      <td>2.1</td>\n",
       "      <td>24.5</td>\n",
       "      <td>47.8</td>\n",
       "      <td>74.2</td>\n",
       "      <td>4.5</td>\n",
       "      <td>0.0</td>\n",
       "      <td>0</td>\n",
       "    </tr>\n",
       "    <tr>\n",
       "      <th>1001020200</th>\n",
       "      <td>2172</td>\n",
       "      <td>46.3</td>\n",
       "      <td>1.1</td>\n",
       "      <td>41.6</td>\n",
       "      <td>54.5</td>\n",
       "      <td>0.0</td>\n",
       "      <td>1.0</td>\n",
       "      <td>0.0</td>\n",
       "      <td>76.1</td>\n",
       "      <td>41287.0</td>\n",
       "      <td>22.4</td>\n",
       "      <td>35.8</td>\n",
       "      <td>30.5</td>\n",
       "      <td>24.9</td>\n",
       "      <td>22.9</td>\n",
       "      <td>6.3</td>\n",
       "      <td>15.4</td>\n",
       "      <td>90.5</td>\n",
       "      <td>9.1</td>\n",
       "      <td>0.0</td>\n",
       "      <td>0.5</td>\n",
       "      <td>0.0</td>\n",
       "      <td>22.2</td>\n",
       "      <td>39.2</td>\n",
       "      <td>75.9</td>\n",
       "      <td>9.0</td>\n",
       "      <td>0.0</td>\n",
       "      <td>0</td>\n",
       "    </tr>\n",
       "    <tr>\n",
       "      <th>1001020300</th>\n",
       "      <td>3385</td>\n",
       "      <td>54.7</td>\n",
       "      <td>8.0</td>\n",
       "      <td>61.4</td>\n",
       "      <td>26.5</td>\n",
       "      <td>0.6</td>\n",
       "      <td>0.7</td>\n",
       "      <td>0.4</td>\n",
       "      <td>73.3</td>\n",
       "      <td>46806.0</td>\n",
       "      <td>14.7</td>\n",
       "      <td>21.1</td>\n",
       "      <td>27.9</td>\n",
       "      <td>19.4</td>\n",
       "      <td>33.3</td>\n",
       "      <td>9.9</td>\n",
       "      <td>9.6</td>\n",
       "      <td>88.3</td>\n",
       "      <td>8.4</td>\n",
       "      <td>1.0</td>\n",
       "      <td>0.8</td>\n",
       "      <td>1.5</td>\n",
       "      <td>23.1</td>\n",
       "      <td>43.8</td>\n",
       "      <td>73.3</td>\n",
       "      <td>4.8</td>\n",
       "      <td>0.7</td>\n",
       "      <td>0</td>\n",
       "    </tr>\n",
       "    <tr>\n",
       "      <th>1001020400</th>\n",
       "      <td>4267</td>\n",
       "      <td>53.1</td>\n",
       "      <td>9.6</td>\n",
       "      <td>80.3</td>\n",
       "      <td>7.1</td>\n",
       "      <td>0.5</td>\n",
       "      <td>0.2</td>\n",
       "      <td>0.0</td>\n",
       "      <td>76.3</td>\n",
       "      <td>55895.0</td>\n",
       "      <td>2.3</td>\n",
       "      <td>1.7</td>\n",
       "      <td>29.0</td>\n",
       "      <td>16.6</td>\n",
       "      <td>25.8</td>\n",
       "      <td>9.1</td>\n",
       "      <td>19.5</td>\n",
       "      <td>82.3</td>\n",
       "      <td>11.2</td>\n",
       "      <td>1.5</td>\n",
       "      <td>2.9</td>\n",
       "      <td>2.1</td>\n",
       "      <td>25.9</td>\n",
       "      <td>43.3</td>\n",
       "      <td>75.8</td>\n",
       "      <td>4.5</td>\n",
       "      <td>0.0</td>\n",
       "      <td>1</td>\n",
       "    </tr>\n",
       "    <tr>\n",
       "      <th>1001020500</th>\n",
       "      <td>9965</td>\n",
       "      <td>49.3</td>\n",
       "      <td>0.9</td>\n",
       "      <td>77.5</td>\n",
       "      <td>16.4</td>\n",
       "      <td>0.0</td>\n",
       "      <td>3.1</td>\n",
       "      <td>0.0</td>\n",
       "      <td>72.5</td>\n",
       "      <td>68143.0</td>\n",
       "      <td>12.2</td>\n",
       "      <td>17.9</td>\n",
       "      <td>48.8</td>\n",
       "      <td>13.8</td>\n",
       "      <td>20.5</td>\n",
       "      <td>3.5</td>\n",
       "      <td>13.4</td>\n",
       "      <td>86.9</td>\n",
       "      <td>11.2</td>\n",
       "      <td>0.8</td>\n",
       "      <td>0.3</td>\n",
       "      <td>0.7</td>\n",
       "      <td>21.0</td>\n",
       "      <td>48.0</td>\n",
       "      <td>71.4</td>\n",
       "      <td>4.5</td>\n",
       "      <td>0.0</td>\n",
       "      <td>0</td>\n",
       "    </tr>\n",
       "  </tbody>\n",
       "</table>\n",
       "</div>"
      ],
      "text/plain": [
       "            TotalPop  Women  Hispanic  White  Black  Native  Asian  Pacific  \\\n",
       "TractId                                                                       \n",
       "1001020100      1845   51.3       2.4   86.3    5.2     0.0    1.2      0.0   \n",
       "1001020200      2172   46.3       1.1   41.6   54.5     0.0    1.0      0.0   \n",
       "1001020300      3385   54.7       8.0   61.4   26.5     0.6    0.7      0.4   \n",
       "1001020400      4267   53.1       9.6   80.3    7.1     0.5    0.2      0.0   \n",
       "1001020500      9965   49.3       0.9   77.5   16.4     0.0    3.1      0.0   \n",
       "\n",
       "            VotingAgeCitizen   Income  Poverty  ChildPoverty  Professional  \\\n",
       "TractId                                                                      \n",
       "1001020100              76.3  67826.0     10.7          20.8          38.5   \n",
       "1001020200              76.1  41287.0     22.4          35.8          30.5   \n",
       "1001020300              73.3  46806.0     14.7          21.1          27.9   \n",
       "1001020400              76.3  55895.0      2.3           1.7          29.0   \n",
       "1001020500              72.5  68143.0     12.2          17.9          48.8   \n",
       "\n",
       "            Service  Office  Construction  Production  Drive  Carpool  Walk  \\\n",
       "TractId                                                                       \n",
       "1001020100     15.6    22.8          10.8        12.4   94.2      3.3   0.5   \n",
       "1001020200     24.9    22.9           6.3        15.4   90.5      9.1   0.0   \n",
       "1001020300     19.4    33.3           9.9         9.6   88.3      8.4   1.0   \n",
       "1001020400     16.6    25.8           9.1        19.5   82.3     11.2   1.5   \n",
       "1001020500     13.8    20.5           3.5        13.4   86.9     11.2   0.8   \n",
       "\n",
       "            OtherTransp  WorkAtHome  MeanCommute  Employed  PrivateWork  \\\n",
       "TractId                                                                   \n",
       "1001020100          0.0         2.1         24.5      47.8         74.2   \n",
       "1001020200          0.5         0.0         22.2      39.2         75.9   \n",
       "1001020300          0.8         1.5         23.1      43.8         73.3   \n",
       "1001020400          2.9         2.1         25.9      43.3         75.8   \n",
       "1001020500          0.3         0.7         21.0      48.0         71.4   \n",
       "\n",
       "            SelfEmployed  FamilyWork  HighUnemployment  \n",
       "TractId                                                 \n",
       "1001020100           4.5         0.0                 0  \n",
       "1001020200           9.0         0.0                 0  \n",
       "1001020300           4.8         0.7                 0  \n",
       "1001020400           4.5         0.0                 1  \n",
       "1001020500           4.5         0.0                 0  "
      ]
     },
     "execution_count": 111,
     "metadata": {},
     "output_type": "execute_result"
    }
   ],
   "source": [
    "print(df_17_model.info())\n",
    "df_17_model.head()"
   ]
  },
  {
   "cell_type": "code",
   "execution_count": 112,
   "metadata": {},
   "outputs": [],
   "source": [
    "#New features for PCA analysis\n",
    "df_17_model['Income_thousands'] = df_17_model['Income'] / 1000"
   ]
  },
  {
   "cell_type": "code",
   "execution_count": 114,
   "metadata": {},
   "outputs": [
    {
     "data": {
      "text/html": [
       "<div>\n",
       "<style scoped>\n",
       "    .dataframe tbody tr th:only-of-type {\n",
       "        vertical-align: middle;\n",
       "    }\n",
       "\n",
       "    .dataframe tbody tr th {\n",
       "        vertical-align: top;\n",
       "    }\n",
       "\n",
       "    .dataframe thead th {\n",
       "        text-align: right;\n",
       "    }\n",
       "</style>\n",
       "<table border=\"1\" class=\"dataframe\">\n",
       "  <thead>\n",
       "    <tr style=\"text-align: right;\">\n",
       "      <th></th>\n",
       "      <th>TotalPop</th>\n",
       "      <th>Women</th>\n",
       "      <th>Hispanic</th>\n",
       "      <th>White</th>\n",
       "      <th>Black</th>\n",
       "      <th>Native</th>\n",
       "      <th>Asian</th>\n",
       "      <th>Pacific</th>\n",
       "      <th>VotingAgeCitizen</th>\n",
       "      <th>Income</th>\n",
       "      <th>Poverty</th>\n",
       "      <th>ChildPoverty</th>\n",
       "      <th>Professional</th>\n",
       "      <th>Service</th>\n",
       "      <th>Office</th>\n",
       "      <th>Construction</th>\n",
       "      <th>Production</th>\n",
       "      <th>Drive</th>\n",
       "      <th>Carpool</th>\n",
       "      <th>Walk</th>\n",
       "      <th>OtherTransp</th>\n",
       "      <th>WorkAtHome</th>\n",
       "      <th>MeanCommute</th>\n",
       "      <th>Employed</th>\n",
       "      <th>PrivateWork</th>\n",
       "      <th>SelfEmployed</th>\n",
       "      <th>FamilyWork</th>\n",
       "      <th>HighUnemployment</th>\n",
       "      <th>Income_thousands</th>\n",
       "    </tr>\n",
       "    <tr>\n",
       "      <th>TractId</th>\n",
       "      <th></th>\n",
       "      <th></th>\n",
       "      <th></th>\n",
       "      <th></th>\n",
       "      <th></th>\n",
       "      <th></th>\n",
       "      <th></th>\n",
       "      <th></th>\n",
       "      <th></th>\n",
       "      <th></th>\n",
       "      <th></th>\n",
       "      <th></th>\n",
       "      <th></th>\n",
       "      <th></th>\n",
       "      <th></th>\n",
       "      <th></th>\n",
       "      <th></th>\n",
       "      <th></th>\n",
       "      <th></th>\n",
       "      <th></th>\n",
       "      <th></th>\n",
       "      <th></th>\n",
       "      <th></th>\n",
       "      <th></th>\n",
       "      <th></th>\n",
       "      <th></th>\n",
       "      <th></th>\n",
       "      <th></th>\n",
       "      <th></th>\n",
       "    </tr>\n",
       "  </thead>\n",
       "  <tbody>\n",
       "    <tr>\n",
       "      <th>1001020100</th>\n",
       "      <td>1845</td>\n",
       "      <td>51.3</td>\n",
       "      <td>2.4</td>\n",
       "      <td>86.3</td>\n",
       "      <td>5.2</td>\n",
       "      <td>0.0</td>\n",
       "      <td>1.2</td>\n",
       "      <td>0.0</td>\n",
       "      <td>76.3</td>\n",
       "      <td>67826.0</td>\n",
       "      <td>10.7</td>\n",
       "      <td>20.8</td>\n",
       "      <td>38.5</td>\n",
       "      <td>15.6</td>\n",
       "      <td>22.8</td>\n",
       "      <td>10.8</td>\n",
       "      <td>12.4</td>\n",
       "      <td>94.2</td>\n",
       "      <td>3.3</td>\n",
       "      <td>0.5</td>\n",
       "      <td>0.0</td>\n",
       "      <td>2.1</td>\n",
       "      <td>24.5</td>\n",
       "      <td>47.8</td>\n",
       "      <td>74.2</td>\n",
       "      <td>4.5</td>\n",
       "      <td>0.0</td>\n",
       "      <td>0</td>\n",
       "      <td>67.826</td>\n",
       "    </tr>\n",
       "    <tr>\n",
       "      <th>1001020200</th>\n",
       "      <td>2172</td>\n",
       "      <td>46.3</td>\n",
       "      <td>1.1</td>\n",
       "      <td>41.6</td>\n",
       "      <td>54.5</td>\n",
       "      <td>0.0</td>\n",
       "      <td>1.0</td>\n",
       "      <td>0.0</td>\n",
       "      <td>76.1</td>\n",
       "      <td>41287.0</td>\n",
       "      <td>22.4</td>\n",
       "      <td>35.8</td>\n",
       "      <td>30.5</td>\n",
       "      <td>24.9</td>\n",
       "      <td>22.9</td>\n",
       "      <td>6.3</td>\n",
       "      <td>15.4</td>\n",
       "      <td>90.5</td>\n",
       "      <td>9.1</td>\n",
       "      <td>0.0</td>\n",
       "      <td>0.5</td>\n",
       "      <td>0.0</td>\n",
       "      <td>22.2</td>\n",
       "      <td>39.2</td>\n",
       "      <td>75.9</td>\n",
       "      <td>9.0</td>\n",
       "      <td>0.0</td>\n",
       "      <td>0</td>\n",
       "      <td>41.287</td>\n",
       "    </tr>\n",
       "    <tr>\n",
       "      <th>1001020300</th>\n",
       "      <td>3385</td>\n",
       "      <td>54.7</td>\n",
       "      <td>8.0</td>\n",
       "      <td>61.4</td>\n",
       "      <td>26.5</td>\n",
       "      <td>0.6</td>\n",
       "      <td>0.7</td>\n",
       "      <td>0.4</td>\n",
       "      <td>73.3</td>\n",
       "      <td>46806.0</td>\n",
       "      <td>14.7</td>\n",
       "      <td>21.1</td>\n",
       "      <td>27.9</td>\n",
       "      <td>19.4</td>\n",
       "      <td>33.3</td>\n",
       "      <td>9.9</td>\n",
       "      <td>9.6</td>\n",
       "      <td>88.3</td>\n",
       "      <td>8.4</td>\n",
       "      <td>1.0</td>\n",
       "      <td>0.8</td>\n",
       "      <td>1.5</td>\n",
       "      <td>23.1</td>\n",
       "      <td>43.8</td>\n",
       "      <td>73.3</td>\n",
       "      <td>4.8</td>\n",
       "      <td>0.7</td>\n",
       "      <td>0</td>\n",
       "      <td>46.806</td>\n",
       "    </tr>\n",
       "    <tr>\n",
       "      <th>1001020400</th>\n",
       "      <td>4267</td>\n",
       "      <td>53.1</td>\n",
       "      <td>9.6</td>\n",
       "      <td>80.3</td>\n",
       "      <td>7.1</td>\n",
       "      <td>0.5</td>\n",
       "      <td>0.2</td>\n",
       "      <td>0.0</td>\n",
       "      <td>76.3</td>\n",
       "      <td>55895.0</td>\n",
       "      <td>2.3</td>\n",
       "      <td>1.7</td>\n",
       "      <td>29.0</td>\n",
       "      <td>16.6</td>\n",
       "      <td>25.8</td>\n",
       "      <td>9.1</td>\n",
       "      <td>19.5</td>\n",
       "      <td>82.3</td>\n",
       "      <td>11.2</td>\n",
       "      <td>1.5</td>\n",
       "      <td>2.9</td>\n",
       "      <td>2.1</td>\n",
       "      <td>25.9</td>\n",
       "      <td>43.3</td>\n",
       "      <td>75.8</td>\n",
       "      <td>4.5</td>\n",
       "      <td>0.0</td>\n",
       "      <td>1</td>\n",
       "      <td>55.895</td>\n",
       "    </tr>\n",
       "    <tr>\n",
       "      <th>1001020500</th>\n",
       "      <td>9965</td>\n",
       "      <td>49.3</td>\n",
       "      <td>0.9</td>\n",
       "      <td>77.5</td>\n",
       "      <td>16.4</td>\n",
       "      <td>0.0</td>\n",
       "      <td>3.1</td>\n",
       "      <td>0.0</td>\n",
       "      <td>72.5</td>\n",
       "      <td>68143.0</td>\n",
       "      <td>12.2</td>\n",
       "      <td>17.9</td>\n",
       "      <td>48.8</td>\n",
       "      <td>13.8</td>\n",
       "      <td>20.5</td>\n",
       "      <td>3.5</td>\n",
       "      <td>13.4</td>\n",
       "      <td>86.9</td>\n",
       "      <td>11.2</td>\n",
       "      <td>0.8</td>\n",
       "      <td>0.3</td>\n",
       "      <td>0.7</td>\n",
       "      <td>21.0</td>\n",
       "      <td>48.0</td>\n",
       "      <td>71.4</td>\n",
       "      <td>4.5</td>\n",
       "      <td>0.0</td>\n",
       "      <td>0</td>\n",
       "      <td>68.143</td>\n",
       "    </tr>\n",
       "  </tbody>\n",
       "</table>\n",
       "</div>"
      ],
      "text/plain": [
       "            TotalPop  Women  Hispanic  White  Black  Native  Asian  Pacific  \\\n",
       "TractId                                                                       \n",
       "1001020100      1845   51.3       2.4   86.3    5.2     0.0    1.2      0.0   \n",
       "1001020200      2172   46.3       1.1   41.6   54.5     0.0    1.0      0.0   \n",
       "1001020300      3385   54.7       8.0   61.4   26.5     0.6    0.7      0.4   \n",
       "1001020400      4267   53.1       9.6   80.3    7.1     0.5    0.2      0.0   \n",
       "1001020500      9965   49.3       0.9   77.5   16.4     0.0    3.1      0.0   \n",
       "\n",
       "            VotingAgeCitizen   Income  Poverty  ChildPoverty  Professional  \\\n",
       "TractId                                                                      \n",
       "1001020100              76.3  67826.0     10.7          20.8          38.5   \n",
       "1001020200              76.1  41287.0     22.4          35.8          30.5   \n",
       "1001020300              73.3  46806.0     14.7          21.1          27.9   \n",
       "1001020400              76.3  55895.0      2.3           1.7          29.0   \n",
       "1001020500              72.5  68143.0     12.2          17.9          48.8   \n",
       "\n",
       "            Service  Office  Construction  Production  Drive  Carpool  Walk  \\\n",
       "TractId                                                                       \n",
       "1001020100     15.6    22.8          10.8        12.4   94.2      3.3   0.5   \n",
       "1001020200     24.9    22.9           6.3        15.4   90.5      9.1   0.0   \n",
       "1001020300     19.4    33.3           9.9         9.6   88.3      8.4   1.0   \n",
       "1001020400     16.6    25.8           9.1        19.5   82.3     11.2   1.5   \n",
       "1001020500     13.8    20.5           3.5        13.4   86.9     11.2   0.8   \n",
       "\n",
       "            OtherTransp  WorkAtHome  MeanCommute  Employed  PrivateWork  \\\n",
       "TractId                                                                   \n",
       "1001020100          0.0         2.1         24.5      47.8         74.2   \n",
       "1001020200          0.5         0.0         22.2      39.2         75.9   \n",
       "1001020300          0.8         1.5         23.1      43.8         73.3   \n",
       "1001020400          2.9         2.1         25.9      43.3         75.8   \n",
       "1001020500          0.3         0.7         21.0      48.0         71.4   \n",
       "\n",
       "            SelfEmployed  FamilyWork  HighUnemployment  Income_thousands  \n",
       "TractId                                                                   \n",
       "1001020100           4.5         0.0                 0            67.826  \n",
       "1001020200           9.0         0.0                 0            41.287  \n",
       "1001020300           4.8         0.7                 0            46.806  \n",
       "1001020400           4.5         0.0                 1            55.895  \n",
       "1001020500           4.5         0.0                 0            68.143  "
      ]
     },
     "execution_count": 114,
     "metadata": {},
     "output_type": "execute_result"
    }
   ],
   "source": [
    "df_17_model.head()"
   ]
  },
  {
   "cell_type": "code",
   "execution_count": 115,
   "metadata": {},
   "outputs": [
    {
     "data": {
      "text/html": [
       "<div>\n",
       "<style scoped>\n",
       "    .dataframe tbody tr th:only-of-type {\n",
       "        vertical-align: middle;\n",
       "    }\n",
       "\n",
       "    .dataframe tbody tr th {\n",
       "        vertical-align: top;\n",
       "    }\n",
       "\n",
       "    .dataframe thead th {\n",
       "        text-align: right;\n",
       "    }\n",
       "</style>\n",
       "<table border=\"1\" class=\"dataframe\">\n",
       "  <thead>\n",
       "    <tr style=\"text-align: right;\">\n",
       "      <th></th>\n",
       "      <th>Professional</th>\n",
       "      <th>Service</th>\n",
       "      <th>Drive</th>\n",
       "      <th>MeanCommute</th>\n",
       "      <th>PrivateWork</th>\n",
       "      <th>HighUnemployment</th>\n",
       "      <th>Income_thousands</th>\n",
       "    </tr>\n",
       "    <tr>\n",
       "      <th>TractId</th>\n",
       "      <th></th>\n",
       "      <th></th>\n",
       "      <th></th>\n",
       "      <th></th>\n",
       "      <th></th>\n",
       "      <th></th>\n",
       "      <th></th>\n",
       "    </tr>\n",
       "  </thead>\n",
       "  <tbody>\n",
       "    <tr>\n",
       "      <th>1001020100</th>\n",
       "      <td>38.5</td>\n",
       "      <td>15.6</td>\n",
       "      <td>94.2</td>\n",
       "      <td>24.5</td>\n",
       "      <td>74.2</td>\n",
       "      <td>0</td>\n",
       "      <td>67.826</td>\n",
       "    </tr>\n",
       "    <tr>\n",
       "      <th>1001020200</th>\n",
       "      <td>30.5</td>\n",
       "      <td>24.9</td>\n",
       "      <td>90.5</td>\n",
       "      <td>22.2</td>\n",
       "      <td>75.9</td>\n",
       "      <td>0</td>\n",
       "      <td>41.287</td>\n",
       "    </tr>\n",
       "    <tr>\n",
       "      <th>1001020300</th>\n",
       "      <td>27.9</td>\n",
       "      <td>19.4</td>\n",
       "      <td>88.3</td>\n",
       "      <td>23.1</td>\n",
       "      <td>73.3</td>\n",
       "      <td>0</td>\n",
       "      <td>46.806</td>\n",
       "    </tr>\n",
       "    <tr>\n",
       "      <th>1001020400</th>\n",
       "      <td>29.0</td>\n",
       "      <td>16.6</td>\n",
       "      <td>82.3</td>\n",
       "      <td>25.9</td>\n",
       "      <td>75.8</td>\n",
       "      <td>1</td>\n",
       "      <td>55.895</td>\n",
       "    </tr>\n",
       "    <tr>\n",
       "      <th>1001020500</th>\n",
       "      <td>48.8</td>\n",
       "      <td>13.8</td>\n",
       "      <td>86.9</td>\n",
       "      <td>21.0</td>\n",
       "      <td>71.4</td>\n",
       "      <td>0</td>\n",
       "      <td>68.143</td>\n",
       "    </tr>\n",
       "  </tbody>\n",
       "</table>\n",
       "</div>"
      ],
      "text/plain": [
       "            Professional  Service  Drive  MeanCommute  PrivateWork  \\\n",
       "TractId                                                              \n",
       "1001020100          38.5     15.6   94.2         24.5         74.2   \n",
       "1001020200          30.5     24.9   90.5         22.2         75.9   \n",
       "1001020300          27.9     19.4   88.3         23.1         73.3   \n",
       "1001020400          29.0     16.6   82.3         25.9         75.8   \n",
       "1001020500          48.8     13.8   86.9         21.0         71.4   \n",
       "\n",
       "            HighUnemployment  Income_thousands  \n",
       "TractId                                         \n",
       "1001020100                 0            67.826  \n",
       "1001020200                 0            41.287  \n",
       "1001020300                 0            46.806  \n",
       "1001020400                 1            55.895  \n",
       "1001020500                 0            68.143  "
      ]
     },
     "execution_count": 115,
     "metadata": {},
     "output_type": "execute_result"
    }
   ],
   "source": [
    "# From PCA analysis done in Lab1, features \"Income in thousands\", \"Drive\", \"Professional\", \"Private Work\", \n",
    "# \"Mean Commute\" and \"Service\" are the predictor variables that act as a major role in \n",
    "# estabishing the principal components. \n",
    "#Income in thousands, Drive, Professional, Private Work, Mean Commute and Service \n",
    "del df_17_model['TotalPop'] \n",
    "del df_17_model['Women'] \n",
    "del df_17_model['Hispanic'] \n",
    "del df_17_model['White'] \n",
    "del df_17_model['Black'] \n",
    "del df_17_model['Native'] \n",
    "del df_17_model['Asian'] \n",
    "del df_17_model['Pacific'] \n",
    "del df_17_model['VotingAgeCitizen'] \n",
    "del df_17_model['Income'] \n",
    "del df_17_model['Poverty'] \n",
    "del df_17_model['ChildPoverty'] \n",
    "del df_17_model['Office'] \n",
    "del df_17_model['Construction'] \n",
    "del df_17_model['Production'] \n",
    "del df_17_model['Carpool'] \n",
    "del df_17_model['Walk'] \n",
    "del df_17_model['OtherTransp'] \n",
    "del df_17_model['WorkAtHome'] \n",
    "del df_17_model['Employed'] \n",
    "del df_17_model['SelfEmployed'] \n",
    "del df_17_model['FamilyWork'] \n",
    "df_17_model.head()"
   ]
  },
  {
   "cell_type": "code",
   "execution_count": 116,
   "metadata": {},
   "outputs": [],
   "source": [
    "### Split into train and test set\n",
    "import pandas as pd\n",
    "from sklearn.model_selection import train_test_split\n",
    "\n",
    "features = df_17_model.drop('HighUnemployment', axis=1)\n",
    "labels = df_17_model['HighUnemployment']\n",
    "\n",
    "X_train, X_test, y_train, y_test = train_test_split(features, labels, test_size=0.2, random_state=42)"
   ]
  },
  {
   "cell_type": "code",
   "execution_count": 117,
   "metadata": {},
   "outputs": [
    {
     "name": "stdout",
     "output_type": "stream",
     "text": [
      "0.8\n",
      "0.2\n"
     ]
    }
   ],
   "source": [
    "# Show that we got 80/20 split\n",
    "for dataset in [y_train, y_test]:\n",
    "    print(round(len(dataset) / len(labels), 2))"
   ]
  },
  {
   "cell_type": "code",
   "execution_count": 118,
   "metadata": {},
   "outputs": [],
   "source": [
    "# Function to print the results\n",
    "def print_results(results):\n",
    "    print('BEST PARAMS: {}\\n'.format(results.best_params_))\n",
    "\n",
    "    means = results.cv_results_['mean_test_score']\n",
    "    stds = results.cv_results_['std_test_score']\n",
    "    for mean, std, params in zip(means, stds, results.cv_results_['params']):\n",
    "        print('{} (+/-{}) for {}'.format(round(mean, 3), round(std * 2, 3), params))"
   ]
  },
  {
   "cell_type": "code",
   "execution_count": 13,
   "metadata": {},
   "outputs": [
    {
     "name": "stdout",
     "output_type": "stream",
     "text": [
      "BEST PARAMS: {'C': 0.1}\n",
      "\n",
      "0.715 (+/-0.013) for {'C': 0.001}\n",
      "0.716 (+/-0.014) for {'C': 0.01}\n",
      "0.716 (+/-0.013) for {'C': 0.1}\n",
      "0.716 (+/-0.014) for {'C': 1}\n",
      "0.716 (+/-0.013) for {'C': 10}\n",
      "0.716 (+/-0.013) for {'C': 100}\n",
      "0.716 (+/-0.013) for {'C': 1000}\n"
     ]
    }
   ],
   "source": [
    "# Find the best hyperplane parameters for Logistic Regression\n",
    "import joblib\n",
    "import pandas as pd\n",
    "from sklearn.linear_model import LogisticRegression\n",
    "from sklearn.model_selection import GridSearchCV\n",
    "import warnings\n",
    "warnings.filterwarnings('ignore', category=FutureWarning)\n",
    "warnings.filterwarnings('ignore', category=DeprecationWarning)\n",
    "\n",
    "lr = LogisticRegression()\n",
    "parameters = {\n",
    "    'C': [0.001, 0.01, 0.1, 1, 10, 100, 1000]\n",
    "}\n",
    "\n",
    "lr_cv = GridSearchCV(lr, parameters, cv=5)\n",
    "lr_cv.fit(X_train, y_train.values.ravel())\n",
    "\n",
    "print_results(lr_cv)"
   ]
  },
  {
   "cell_type": "code",
   "execution_count": 15,
   "metadata": {},
   "outputs": [
    {
     "data": {
      "text/plain": [
       "LogisticRegression(C=0.1, class_weight=None, dual=False, fit_intercept=True,\n",
       "          intercept_scaling=1, max_iter=100, multi_class='warn',\n",
       "          n_jobs=None, penalty='l2', random_state=None, solver='warn',\n",
       "          tol=0.0001, verbose=0, warm_start=False)"
      ]
     },
     "execution_count": 15,
     "metadata": {},
     "output_type": "execute_result"
    }
   ],
   "source": [
    "# Display the best estimator with the recommended hyperplane parameters for Logistic Regression\n",
    "lr_cv.best_estimator_"
   ]
  },
  {
   "cell_type": "code",
   "execution_count": 16,
   "metadata": {},
   "outputs": [
    {
     "data": {
      "text/plain": [
       "['LR_reduced_model.pkl']"
      ]
     },
     "execution_count": 16,
     "metadata": {},
     "output_type": "execute_result"
    }
   ],
   "source": [
    "# Output this to a model.pkl file\n",
    "joblib.dump(lr_cv.best_estimator_, 'LR_reduced_model.pkl')"
   ]
  },
  {
   "cell_type": "code",
   "execution_count": 17,
   "metadata": {},
   "outputs": [],
   "source": [
    "### Support Vector Machines: Fit and evaluate a model\n",
    "import joblib\n",
    "import pandas as pd\n",
    "from sklearn.model_selection import GridSearchCV\n",
    "from sklearn.svm import SVC\n",
    "import warnings\n",
    "warnings.filterwarnings('ignore', category=FutureWarning)\n",
    "warnings.filterwarnings('ignore', category=DeprecationWarning)"
   ]
  },
  {
   "cell_type": "code",
   "execution_count": 18,
   "metadata": {},
   "outputs": [
    {
     "name": "stdout",
     "output_type": "stream",
     "text": [
      "BEST PARAMS: {'C': 0.5, 'kernel': 'linear'}\n",
      "\n",
      "0.715 (+/-0.012) for {'C': 0.5, 'kernel': 'linear'}\n",
      "0.532 (+/-0.002) for {'C': 0.5, 'kernel': 'rbf'}\n"
     ]
    }
   ],
   "source": [
    "#Note: This code is computationally very intensive and takes a long time. First we tried to see the best C value\n",
    "# between 0.1, 1 and 10 with a cv of 5 but it was taking too long so we decided to use a C of 0.5. \n",
    "\n",
    "svc = SVC()\n",
    "parameters = {\n",
    "    'kernel': ['linear', 'rbf'],\n",
    "    'C': [0.5]\n",
    "}\n",
    "\n",
    "svm_cv = GridSearchCV(svc, parameters, cv=5)\n",
    "svm_cv.fit(X_train, y_train.values.ravel())\n",
    "\n",
    "print_results(svm_cv)"
   ]
  },
  {
   "cell_type": "markdown",
   "metadata": {},
   "source": [
    "Linear kernel performed better than \"rbf\". "
   ]
  },
  {
   "cell_type": "code",
   "execution_count": 19,
   "metadata": {},
   "outputs": [
    {
     "data": {
      "text/plain": [
       "SVC(C=0.5, cache_size=200, class_weight=None, coef0=0.0,\n",
       "  decision_function_shape='ovr', degree=3, gamma='auto_deprecated',\n",
       "  kernel='linear', max_iter=-1, probability=False, random_state=None,\n",
       "  shrinking=True, tol=0.001, verbose=False)"
      ]
     },
     "execution_count": 19,
     "metadata": {},
     "output_type": "execute_result"
    }
   ],
   "source": [
    "# Display the best estimator with the recommended hyperplane parameters\n",
    "svm_cv.best_estimator_"
   ]
  },
  {
   "cell_type": "code",
   "execution_count": 20,
   "metadata": {},
   "outputs": [
    {
     "data": {
      "text/plain": [
       "['SVM_reduced_model.pkl']"
      ]
     },
     "execution_count": 20,
     "metadata": {},
     "output_type": "execute_result"
    }
   ],
   "source": [
    "# Output this to a model.pkl file\n",
    "joblib.dump(svm_cv.best_estimator_, 'SVM_reduced_model.pkl')"
   ]
  },
  {
   "cell_type": "code",
   "execution_count": 27,
   "metadata": {},
   "outputs": [],
   "source": [
    "# Read in Models:\n",
    "reduced_models = {}\n",
    "\n",
    "for mdl in ['LR', 'SVM']:\n",
    "    reduced_models[mdl] = joblib.load('{}_reduced_model.pkl'.format(mdl))"
   ]
  },
  {
   "cell_type": "code",
   "execution_count": 28,
   "metadata": {},
   "outputs": [
    {
     "data": {
      "text/plain": [
       "{'LR': LogisticRegression(C=0.1, class_weight=None, dual=False, fit_intercept=True,\n",
       "           intercept_scaling=1, max_iter=100, multi_class='warn',\n",
       "           n_jobs=None, penalty='l2', random_state=None, solver='warn',\n",
       "           tol=0.0001, verbose=0, warm_start=False),\n",
       " 'SVM': SVC(C=0.5, cache_size=200, class_weight=None, coef0=0.0,\n",
       "   decision_function_shape='ovr', degree=3, gamma='auto_deprecated',\n",
       "   kernel='linear', max_iter=-1, probability=False, random_state=None,\n",
       "   shrinking=True, tol=0.001, verbose=False)}"
      ]
     },
     "execution_count": 28,
     "metadata": {},
     "output_type": "execute_result"
    }
   ],
   "source": [
    "reduced_models"
   ]
  },
  {
   "cell_type": "code",
   "execution_count": 29,
   "metadata": {},
   "outputs": [],
   "source": [
    "# Evaluate models on the test set\n",
    "def evaluate_model(name, model, features, labels):\n",
    "    start = time()\n",
    "    pred = model.predict(features)\n",
    "    end = time()\n",
    "    accuracy = round(accuracy_score(labels, pred), 3)\n",
    "    precision = round(precision_score(labels, pred), 3)\n",
    "    recall = round(recall_score(labels, pred), 3)\n",
    "    print('{} -- Accuracy: {} / Precision: {} / Recall: {} / Latency: {}ms'.format(name,\n",
    "                                                                                   accuracy,\n",
    "                                                                                   precision,\n",
    "                                                                                   recall,\n",
    "                                                                                   round((end - start)*1000, 1)))"
   ]
  },
  {
   "cell_type": "code",
   "execution_count": 30,
   "metadata": {},
   "outputs": [
    {
     "name": "stdout",
     "output_type": "stream",
     "text": [
      "LR -- Accuracy: 0.711 / Precision: 0.694 / Recall: 0.731 / Latency: 3.0ms\n",
      "SVM -- Accuracy: 0.709 / Precision: 0.688 / Recall: 0.74 / Latency: 3738.4ms\n"
     ]
    }
   ],
   "source": [
    "import joblib\n",
    "import pandas as pd\n",
    "from sklearn.metrics import accuracy_score, precision_score, recall_score\n",
    "from time import time\n",
    "\n",
    "for name, mdl in reduced_models.items():\n",
    "    evaluate_model(name, mdl, X_test, y_test)"
   ]
  },
  {
   "cell_type": "markdown",
   "metadata": {},
   "source": [
    "In the reduced model with features from PCA, Logistic Regression performed better with an accuracy of 71.1% and precision of 69.4%. However SVM performed better in recall with 74%. Latency for SVM is very high and is very slow to train."
   ]
  },
  {
   "cell_type": "markdown",
   "metadata": {},
   "source": [
    "<div class=\"alert alert-block alert-info\">\n",
    "<b>Rubric 2:</b> Discuss the advantages of each model for each classification task. Does one type of model offer superior performance over another in terms of prediction accuracy? In terms of training time or efficiency? Explain in detail.\n",
    "</div>"
   ]
  },
  {
   "cell_type": "markdown",
   "metadata": {},
   "source": [
    "### Model Advantages"
   ]
  },
  {
   "cell_type": "code",
   "execution_count": null,
   "metadata": {},
   "outputs": [],
   "source": [
    "import joblib\n",
    "import pandas as pd\n",
    "from sklearn.metrics import accuracy_score, precision_score, recall_score\n",
    "from time import time\n",
    "\n",
    "for name, mdl in models.items():\n",
    "    evaluate_model(name, mdl, X_test, y_test)"
   ]
  },
  {
   "cell_type": "markdown",
   "metadata": {},
   "source": [
    "In our case Logistic Regression performed better with an accuracy of 74.3% and recall of 70.4%. However SVM performed better in Precision. Latency for SVM is very high and is very slow to train.\n",
    "\n",
    "Logistic Regression: \n",
    "\n",
    "When to use LR:\n",
    "- Binary target variable\n",
    "- Transparency is important or interested in significance of predictors\n",
    "- Fairly well-behaved data\n",
    "- Need a quick initial benchmark\n",
    "\n",
    "Logistic Regression can be considered any time we have a binary target variable and if we are interested in feature importance or to have a better understanding of what's going on within the algorithm. It should be considered when there are not too many outliers, not too many missing values, and relationships that aren't too complex. It is great for as an initial benchmark model on a binary classification problem with fairly well-behaved data. It's relatively flexible, and it's very fast to train. While it doesn't usually generate the greatest performance, it does set a very nice benchmark to start.\n",
    "\n",
    "When not to use LR:\n",
    "- Continuous target variable\n",
    "- Massive data (rows or columns)\n",
    "- Unwieldy data\n",
    "- Performance is the only thing that matters\n",
    "\n",
    "Logistic Regression should not be considered when we have a continuous target variable. Logistic regression also shouldn't be the first choice if we have a massive amount of data. There are other algorithms that really shine when we have a ton of data. Logistic regression is a great tool for a fast, transparent baseline model for a binary classification problem. It doesn't do well with a lot of data or particularly messy data. It's also unlikely to give you the best possible performance on any given problem.\n",
    "\n",
    "\n",
    "Support Vector Machines:\n",
    "\n",
    "When to use SVM:\n",
    "\n",
    "- Binary target variable\n",
    "- Feature to row ratio is very high\n",
    "- Very complex relationships\n",
    "- Lots of outliers\n",
    "\n",
    "SVM can be used for both categorical and continuous outputs. One area where SVM really excels is when the feature-to-row ratio is very high. It's when you have a lot of features and relatively few rows. SVM is also quite good at untangling complex relationships. SVM also handles data with a lot of outliers quite well, because it only looks at the points closest to the line, so that outliers are kind of ignored. \n",
    "\n",
    "When not to use SVM:\n",
    "\n",
    "- Feature to row ratio is very low\n",
    "- Transparency is important or interested in significance of predictors\n",
    "- Looking for a quick benchmark model\n",
    "\n",
    "SVM should not be used if there are lot of rows and relatively few features. Typically, SVM will take a long time to train, and the performance really won't be worth it relative to other algorithms. Since in SVM hyperplane is an extremely high-dimensional space, you can't really get a good picture what's going on inside of SVM. So if you care about transparency, and maybe the significance of predictors, you should avoid SVM. SVM should be used when you have a lot of features, but few rows, or when you have a lot of outliers, that you're trying to untangle. But it is quite slow to train."
   ]
  },
  {
   "cell_type": "markdown",
   "metadata": {},
   "source": [
    "### Interpret Feature Importance"
   ]
  },
  {
   "cell_type": "markdown",
   "metadata": {},
   "source": [
    "<div class=\"alert alert-block alert-info\">\n",
    "<b>Rubric 3:</b> Use the weights from logistic regression to interpret the importance of different features for the classification task. Explain your interpretation in detail. Why do you think some variables are more important?\n",
    "</div>"
   ]
  },
  {
   "cell_type": "code",
   "execution_count": 124,
   "metadata": {},
   "outputs": [
    {
     "name": "stdout",
     "output_type": "stream",
     "text": [
      "MeanCommute has weight of -1.139994792607686\n",
      "Drive has weight of -0.5003321357866518\n",
      "PrivateWork has weight of -0.3352417660120973\n",
      "Income_thousands has weight of -0.23293817394402824\n",
      "HighUnemployment has weight of -0.056611751457627806\n",
      "Professional has weight of -0.036977198847472935\n",
      "Service has weight of 0.0669037884333861\n"
     ]
    }
   ],
   "source": [
    "# TODO use best logistic model we find (lr_clf object)\n",
    "# sort attributes by weight and spit them out\n",
    "zip_vars = zip(lr_clf.coef_.T,df_17_model.columns) # combine attributes\n",
    "zip_vars = sorted(zip_vars)\n",
    "for coef, name in zip_vars:\n",
    "    print(name, 'has weight of', coef[0]) # now print them out"
   ]
  },
  {
   "cell_type": "code",
   "execution_count": null,
   "metadata": {},
   "outputs": [],
   "source": [
    "weights = pd.Series(lr_clf.coef_[0],index=df_17_model.columns)\n",
    "weights.plot(kind='bar')\n",
    "plt.show()"
   ]
  },
  {
   "cell_type": "markdown",
   "metadata": {},
   "source": [
    "### Interpret Support Vectors"
   ]
  },
  {
   "cell_type": "markdown",
   "metadata": {},
   "source": [
    "<div class=\"alert alert-block alert-info\">\n",
    "<b>Rubric 4:</b> Look at the chosen support vectors for the classification task. Do these provide any insight into the data? Explain. If you used stochastic gradient descent (and therefore did not explicitly solve for support vectors), try subsampling your data to train the SVC model— then analyze the support vectors from the subsampled dataset.\n",
    "</div>"
   ]
  },
  {
   "cell_type": "code",
   "execution_count": 119,
   "metadata": {},
   "outputs": [],
   "source": [
    "svm_reduced_model = joblib.load('SVM_reduced_model.pkl'.format(mdl))"
   ]
  },
  {
   "cell_type": "code",
   "execution_count": 120,
   "metadata": {},
   "outputs": [
    {
     "name": "stdout",
     "output_type": "stream",
     "text": [
      "(39410, 6)\n",
      "(39410,)\n",
      "[19705 19705]\n"
     ]
    }
   ],
   "source": [
    "# look at the support vectors\n",
    "print(svm_reduced_model.support_vectors_.shape)\n",
    "print(svm_reduced_model.support_.shape)\n",
    "print(svm_reduced_model.n_support_ )"
   ]
  },
  {
   "cell_type": "code",
   "execution_count": 121,
   "metadata": {},
   "outputs": [
    {
     "name": "stdout",
     "output_type": "stream",
     "text": [
      "[[-0.0199995   0.03094172 -0.00562726  0.05093269 -0.01379212 -0.02925393]]\n"
     ]
    },
    {
     "data": {
      "text/plain": [
       "<matplotlib.axes._subplots.AxesSubplot at 0x1a2419a1d0>"
      ]
     },
     "execution_count": 121,
     "metadata": {},
     "output_type": "execute_result"
    },
    {
     "data": {
      "image/png": "[encoded data removed]",
      "text/plain": [
       "<Figure size 432x288 with 1 Axes>"
      ]
     },
     "metadata": {},
     "output_type": "display_data"
    }
   ],
   "source": [
    "# if using linear kernel, these make sense to look at (not otherwise, why?)\n",
    "print(svm_reduced_model.coef_)\n",
    "weights = pd.Series(svm_reduced_model.coef_[0],index=features.columns)\n",
    "weights.plot(kind='bar')"
   ]
  },
  {
   "cell_type": "code",
   "execution_count": 122,
   "metadata": {},
   "outputs": [
    {
     "name": "stdout",
     "output_type": "stream",
     "text": [
      "<class 'pandas.core.frame.DataFrame'>\n",
      "Int64Index: 39410 entries, 48201332500 to 39145003400\n",
      "Data columns (total 7 columns):\n",
      "Professional        39410 non-null float64\n",
      "Service             39410 non-null float64\n",
      "Drive               39410 non-null float64\n",
      "MeanCommute         39410 non-null float64\n",
      "PrivateWork         39410 non-null float64\n",
      "Income_thousands    39410 non-null float64\n",
      "HighUnemployment    39410 non-null int64\n",
      "dtypes: float64(6), int64(1)\n",
      "memory usage: 2.4 MB\n"
     ]
    },
    {
     "name": "stderr",
     "output_type": "stream",
     "text": [
      "/anaconda3/lib/python3.6/site-packages/ipykernel_launcher.py:11: SettingWithCopyWarning: \n",
      "A value is trying to be set on a copy of a slice from a DataFrame.\n",
      "Try using .loc[row_indexer,col_indexer] = value instead\n",
      "\n",
      "See the caveats in the documentation: http://pandas.pydata.org/pandas-docs/stable/indexing.html#indexing-view-versus-copy\n",
      "  # This is added back by InteractiveShellApp.init_path()\n"
     ]
    }
   ],
   "source": [
    "# Now let's do some different analysis with the SVM and look at the instances that were chosen as support vectors\n",
    "\n",
    "# now lets look at the support for the vectors and see if we they are indicative of anything\n",
    "# grabe the rows that were selected as support vectors (these are usually instances that are hard to classify)\n",
    "\n",
    "# make a dataframe of the training data\n",
    "df_tested_on = features.iloc[train_indices] # saved from above, the indices chosen for training\n",
    "# now get the support vectors from the trained model\n",
    "df_support = df_tested_on.iloc[svm_reduced_model.support_,:]\n",
    "\n",
    "df_support['HighUnemployment'] = y[svm_reduced_model.support_] # add back in the 'Survived' Column to the pandas dataframe\n",
    "features['HighUnemployment'] = y # also add it back in for the original data\n",
    "df_support.info()"
   ]
  },
  {
   "cell_type": "code",
   "execution_count": 123,
   "metadata": {},
   "outputs": [
    {
     "data": {
      "image/png": "[encoded data removed]",
      "text/plain": [
       "<Figure size 720x288 with 2 Axes>"
      ]
     },
     "metadata": {},
     "output_type": "display_data"
    },
    {
     "data": {
      "image/png": "[encoded data removed]",
      "text/plain": [
       "<Figure size 720x288 with 2 Axes>"
      ]
     },
     "metadata": {},
     "output_type": "display_data"
    },
    {
     "data": {
      "image/png": "[encoded data removed]",
      "text/plain": [
       "<Figure size 720x288 with 2 Axes>"
      ]
     },
     "metadata": {},
     "output_type": "display_data"
    },
    {
     "data": {
      "image/png": "[encoded data removed]",
      "text/plain": [
       "<Figure size 720x288 with 2 Axes>"
      ]
     },
     "metadata": {},
     "output_type": "display_data"
    },
    {
     "data": {
      "image/png": "[encoded data removed]",
      "text/plain": [
       "<Figure size 720x288 with 2 Axes>"
      ]
     },
     "metadata": {},
     "output_type": "display_data"
    },
    {
     "data": {
      "image/png": "[encoded data removed]",
      "text/plain": [
       "<Figure size 720x288 with 2 Axes>"
      ]
     },
     "metadata": {},
     "output_type": "display_data"
    }
   ],
   "source": [
    "# now lets see the statistics of these attributes\n",
    "#from pandas.tools.plotting import boxplot\n",
    "import matplotlib.pyplot as plt\n",
    "\n",
    "# group the original data and the support vectors\n",
    "df_grouped_support = df_support.groupby(['HighUnemployment'])\n",
    "df_grouped = features.groupby(['HighUnemployment'])\n",
    "\n",
    "# plot KDE of Different variables\n",
    "vars_to_plot = ['Professional','Service','Drive','MeanCommute','PrivateWork','Income_thousands']\n",
    "\n",
    "for v in vars_to_plot:\n",
    "    plt.figure(figsize=(10,4))\n",
    "    # plot support vector stats\n",
    "    plt.subplot(1,2,1)\n",
    "    ax = df_grouped_support[v].plot.kde() \n",
    "    plt.legend(['LowUnemployment','HighUnemployment'])\n",
    "    plt.title(v+' (Instances chosen as Support Vectors)')\n",
    "    \n",
    "    # plot original distributions\n",
    "    plt.subplot(1,2,2)\n",
    "    ax = df_grouped[v].plot.kde() \n",
    "    plt.legend(['LowUnemployment','HighUnemployment'])\n",
    "    plt.title(v+' (Original)')"
   ]
  },
  {
   "cell_type": "code",
   "execution_count": null,
   "metadata": {},
   "outputs": [],
   "source": []
  }
 ],
 "metadata": {
  "kernelspec": {
   "display_name": "Python 3",
   "language": "python",
   "name": "python3"
  },
  "language_info": {
   "codemirror_mode": {
    "name": "ipython",
    "version": 3
   },
   "file_extension": ".py",
   "mimetype": "text/x-python",
   "name": "python",
   "nbconvert_exporter": "python",
   "pygments_lexer": "ipython3",
   "version": "3.6.8"
  }
 },
 "nbformat": 4,
 "nbformat_minor": 2
}
