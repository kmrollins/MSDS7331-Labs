{
 "cells": [
  {
   "cell_type": "markdown",
   "metadata": {},
   "source": [
    "## MSDS 7331: Data Mining\n",
    "## Lab 2: Classification\n",
    "## 7 July 2019\n",
    "## Authors: Meredith Ludlow, Anand Rajan, Kristen Rollins, and Tej Tenmattam\n",
    "\n",
    "---"
   ]
  },
  {
   "cell_type": "markdown",
   "metadata": {},
   "source": [
    "# Data Preparation Part 1"
   ]
  },
  {
   "cell_type": "markdown",
   "metadata": {},
   "source": [
    "<div class=\"alert alert-block alert-info\">\n",
    "<b>Rubric 1:</b> Define and prepare your class variables. Use proper variable representations (int, float, one-hot, etc.). Use pre-processing methods (as needed) for dimensionality reduction, scaling, etc. Remove variables that are not needed/useful for the analysis.\n",
    "</div>"
   ]
  },
  {
   "cell_type": "markdown",
   "metadata": {},
   "source": [
    "The two classification tasks for our 2017 census dataset are to predict whether a given census tract has a high or a low unemployment rate, as well as a high or low child poverty rate, based on other relevant factors. This is an important task, as it enables certain areas to be flagged as needing economic development or aid. Below, we first prepared our data for classification by cleaning it (in the same way as Lab 1), as well as removing unnecessary and redundant variables."
   ]
  },
  {
   "cell_type": "code",
   "execution_count": 1,
   "metadata": {},
   "outputs": [],
   "source": [
    "# importing necessary packages\n",
    "import pandas as pd\n",
    "import numpy as np\n",
    "import matplotlib.pyplot as plt\n",
    "%matplotlib inline\n",
    "import seaborn as sns\n",
    "\n",
    "# Set seaborn plot styles\n",
    "sns.set_style('darkgrid')\n",
    "sns.set_color_codes('muted')\n",
    "\n",
    "import warnings\n",
    "warnings.filterwarnings(\"ignore\") # ignore warnings for clean report\n",
    "\n",
    "# df.head() displays all the columns without truncating\n",
    "pd.set_option('display.max_columns', None)\n",
    "\n",
    "# read csv file as pandas dataframe\n",
    "df_17_census = pd.read_csv('../Data/acs2017_census_tract_data.csv')"
   ]
  },
  {
   "cell_type": "code",
   "execution_count": 2,
   "metadata": {},
   "outputs": [],
   "source": [
    "# Clean dataset as in lab 1\n",
    "df_17_census.set_index('TractId', inplace=True) # set tract id as index\n",
    "\n",
    "# Drop tracts where population is 0\n",
    "df_17_cln = df_17_census.drop(df_17_census[df_17_census.TotalPop == 0].index)\n",
    "\n",
    "# Drop tracts where child poverty or unemployment is null\n",
    "df_17_cln = df_17_cln[np.isfinite(df_17_cln['ChildPoverty'])]\n",
    "df_17_cln = df_17_cln[np.isfinite(df_17_cln['Unemployment'])]\n",
    "\n",
    "# Impute to the median by each state\n",
    "df_grouped = df_17_cln.groupby('State').transform(lambda x: x.fillna(x.median()))\n",
    "df_17_cln['Income'] = df_grouped['Income']\n",
    "df_17_cln['IncomeErr'] = df_grouped['IncomeErr']\n",
    "\n",
    "# Impute remaining values to the overall median\n",
    "df_17_cln = df_17_cln.fillna(df_17_cln.median())"
   ]
  },
  {
   "cell_type": "code",
   "execution_count": 3,
   "metadata": {},
   "outputs": [
    {
     "data": {
      "text/html": [
       "<div>\n",
       "<style scoped>\n",
       "    .dataframe tbody tr th:only-of-type {\n",
       "        vertical-align: middle;\n",
       "    }\n",
       "\n",
       "    .dataframe tbody tr th {\n",
       "        vertical-align: top;\n",
       "    }\n",
       "\n",
       "    .dataframe thead th {\n",
       "        text-align: right;\n",
       "    }\n",
       "</style>\n",
       "<table border=\"1\" class=\"dataframe\">\n",
       "  <thead>\n",
       "    <tr style=\"text-align: right;\">\n",
       "      <th></th>\n",
       "      <th>TotalPop</th>\n",
       "      <th>Men</th>\n",
       "      <th>Women</th>\n",
       "      <th>Hispanic</th>\n",
       "      <th>White</th>\n",
       "      <th>Black</th>\n",
       "      <th>Native</th>\n",
       "      <th>Asian</th>\n",
       "      <th>Pacific</th>\n",
       "      <th>VotingAgeCitizen</th>\n",
       "      <th>Income</th>\n",
       "      <th>IncomeErr</th>\n",
       "      <th>IncomePerCap</th>\n",
       "      <th>IncomePerCapErr</th>\n",
       "      <th>Poverty</th>\n",
       "      <th>ChildPoverty</th>\n",
       "      <th>Professional</th>\n",
       "      <th>Service</th>\n",
       "      <th>Office</th>\n",
       "      <th>Construction</th>\n",
       "      <th>Production</th>\n",
       "      <th>Drive</th>\n",
       "      <th>Carpool</th>\n",
       "      <th>Transit</th>\n",
       "      <th>Walk</th>\n",
       "      <th>OtherTransp</th>\n",
       "      <th>WorkAtHome</th>\n",
       "      <th>MeanCommute</th>\n",
       "      <th>Employed</th>\n",
       "      <th>PrivateWork</th>\n",
       "      <th>PublicWork</th>\n",
       "      <th>SelfEmployed</th>\n",
       "      <th>FamilyWork</th>\n",
       "      <th>Unemployment</th>\n",
       "    </tr>\n",
       "  </thead>\n",
       "  <tbody>\n",
       "    <tr>\n",
       "      <th>count</th>\n",
       "      <td>72889.000000</td>\n",
       "      <td>72889.000000</td>\n",
       "      <td>72889.000000</td>\n",
       "      <td>72889.000000</td>\n",
       "      <td>72889.000000</td>\n",
       "      <td>72889.000000</td>\n",
       "      <td>72889.000000</td>\n",
       "      <td>72889.000000</td>\n",
       "      <td>72889.000000</td>\n",
       "      <td>72889.000000</td>\n",
       "      <td>72889.000000</td>\n",
       "      <td>72889.000000</td>\n",
       "      <td>72889.000000</td>\n",
       "      <td>72889.000000</td>\n",
       "      <td>72889.000000</td>\n",
       "      <td>72889.000000</td>\n",
       "      <td>72889.000000</td>\n",
       "      <td>72889.000000</td>\n",
       "      <td>72889.000000</td>\n",
       "      <td>72889.000000</td>\n",
       "      <td>72889.000000</td>\n",
       "      <td>72889.000000</td>\n",
       "      <td>72889.000000</td>\n",
       "      <td>72889.000000</td>\n",
       "      <td>72889.00000</td>\n",
       "      <td>72889.000000</td>\n",
       "      <td>72889.000000</td>\n",
       "      <td>72889.000000</td>\n",
       "      <td>72889.000000</td>\n",
       "      <td>72889.000000</td>\n",
       "      <td>72889.000000</td>\n",
       "      <td>72889.000000</td>\n",
       "      <td>72889.000000</td>\n",
       "      <td>72889.000000</td>\n",
       "    </tr>\n",
       "    <tr>\n",
       "      <th>mean</th>\n",
       "      <td>4438.372759</td>\n",
       "      <td>2182.350698</td>\n",
       "      <td>2256.022061</td>\n",
       "      <td>17.290081</td>\n",
       "      <td>61.312817</td>\n",
       "      <td>13.268165</td>\n",
       "      <td>0.729703</td>\n",
       "      <td>4.752853</td>\n",
       "      <td>0.146698</td>\n",
       "      <td>3137.878459</td>\n",
       "      <td>61111.961002</td>\n",
       "      <td>9694.920825</td>\n",
       "      <td>30702.626734</td>\n",
       "      <td>4259.381073</td>\n",
       "      <td>16.067164</td>\n",
       "      <td>21.155081</td>\n",
       "      <td>35.566003</td>\n",
       "      <td>18.855030</td>\n",
       "      <td>23.407072</td>\n",
       "      <td>9.256663</td>\n",
       "      <td>12.915429</td>\n",
       "      <td>75.823635</td>\n",
       "      <td>9.323555</td>\n",
       "      <td>5.387234</td>\n",
       "      <td>2.95396</td>\n",
       "      <td>1.888721</td>\n",
       "      <td>4.623234</td>\n",
       "      <td>26.078983</td>\n",
       "      <td>2078.009535</td>\n",
       "      <td>79.506605</td>\n",
       "      <td>14.151449</td>\n",
       "      <td>6.170819</td>\n",
       "      <td>0.171328</td>\n",
       "      <td>7.235223</td>\n",
       "    </tr>\n",
       "    <tr>\n",
       "      <th>std</th>\n",
       "      <td>2192.532931</td>\n",
       "      <td>1101.516460</td>\n",
       "      <td>1126.275010</td>\n",
       "      <td>23.097490</td>\n",
       "      <td>30.635700</td>\n",
       "      <td>21.598962</td>\n",
       "      <td>4.525143</td>\n",
       "      <td>8.992743</td>\n",
       "      <td>1.023074</td>\n",
       "      <td>1514.686755</td>\n",
       "      <td>30492.084659</td>\n",
       "      <td>6135.953813</td>\n",
       "      <td>16059.781976</td>\n",
       "      <td>3019.532445</td>\n",
       "      <td>12.514595</td>\n",
       "      <td>18.643563</td>\n",
       "      <td>15.093914</td>\n",
       "      <td>8.037855</td>\n",
       "      <td>5.653534</td>\n",
       "      <td>5.979854</td>\n",
       "      <td>7.629365</td>\n",
       "      <td>15.062128</td>\n",
       "      <td>5.167761</td>\n",
       "      <td>11.659900</td>\n",
       "      <td>5.39858</td>\n",
       "      <td>2.518341</td>\n",
       "      <td>3.821944</td>\n",
       "      <td>7.101069</td>\n",
       "      <td>1121.667248</td>\n",
       "      <td>8.017414</td>\n",
       "      <td>7.224480</td>\n",
       "      <td>3.846069</td>\n",
       "      <td>0.455440</td>\n",
       "      <td>5.177195</td>\n",
       "    </tr>\n",
       "    <tr>\n",
       "      <th>min</th>\n",
       "      <td>4.000000</td>\n",
       "      <td>0.000000</td>\n",
       "      <td>0.000000</td>\n",
       "      <td>0.000000</td>\n",
       "      <td>0.000000</td>\n",
       "      <td>0.000000</td>\n",
       "      <td>0.000000</td>\n",
       "      <td>0.000000</td>\n",
       "      <td>0.000000</td>\n",
       "      <td>1.000000</td>\n",
       "      <td>2692.000000</td>\n",
       "      <td>728.000000</td>\n",
       "      <td>949.000000</td>\n",
       "      <td>308.000000</td>\n",
       "      <td>0.000000</td>\n",
       "      <td>0.000000</td>\n",
       "      <td>0.000000</td>\n",
       "      <td>0.000000</td>\n",
       "      <td>0.000000</td>\n",
       "      <td>0.000000</td>\n",
       "      <td>0.000000</td>\n",
       "      <td>0.000000</td>\n",
       "      <td>0.000000</td>\n",
       "      <td>0.000000</td>\n",
       "      <td>0.00000</td>\n",
       "      <td>0.000000</td>\n",
       "      <td>0.000000</td>\n",
       "      <td>4.200000</td>\n",
       "      <td>0.000000</td>\n",
       "      <td>0.000000</td>\n",
       "      <td>0.000000</td>\n",
       "      <td>0.000000</td>\n",
       "      <td>0.000000</td>\n",
       "      <td>0.000000</td>\n",
       "    </tr>\n",
       "    <tr>\n",
       "      <th>25%</th>\n",
       "      <td>2953.000000</td>\n",
       "      <td>1438.000000</td>\n",
       "      <td>1491.000000</td>\n",
       "      <td>2.600000</td>\n",
       "      <td>38.100000</td>\n",
       "      <td>0.800000</td>\n",
       "      <td>0.000000</td>\n",
       "      <td>0.200000</td>\n",
       "      <td>0.000000</td>\n",
       "      <td>2093.000000</td>\n",
       "      <td>40400.000000</td>\n",
       "      <td>5740.000000</td>\n",
       "      <td>20603.000000</td>\n",
       "      <td>2507.000000</td>\n",
       "      <td>6.900000</td>\n",
       "      <td>6.200000</td>\n",
       "      <td>24.700000</td>\n",
       "      <td>13.300000</td>\n",
       "      <td>19.700000</td>\n",
       "      <td>5.000000</td>\n",
       "      <td>7.100000</td>\n",
       "      <td>72.300000</td>\n",
       "      <td>5.800000</td>\n",
       "      <td>0.000000</td>\n",
       "      <td>0.40000</td>\n",
       "      <td>0.400000</td>\n",
       "      <td>2.000000</td>\n",
       "      <td>21.100000</td>\n",
       "      <td>1302.000000</td>\n",
       "      <td>75.300000</td>\n",
       "      <td>9.300000</td>\n",
       "      <td>3.500000</td>\n",
       "      <td>0.000000</td>\n",
       "      <td>3.900000</td>\n",
       "    </tr>\n",
       "    <tr>\n",
       "      <th>50%</th>\n",
       "      <td>4133.000000</td>\n",
       "      <td>2022.000000</td>\n",
       "      <td>2100.000000</td>\n",
       "      <td>7.400000</td>\n",
       "      <td>70.400000</td>\n",
       "      <td>3.800000</td>\n",
       "      <td>0.000000</td>\n",
       "      <td>1.500000</td>\n",
       "      <td>0.000000</td>\n",
       "      <td>2924.000000</td>\n",
       "      <td>54434.000000</td>\n",
       "      <td>8273.000000</td>\n",
       "      <td>27242.000000</td>\n",
       "      <td>3405.000000</td>\n",
       "      <td>12.600000</td>\n",
       "      <td>16.300000</td>\n",
       "      <td>33.300000</td>\n",
       "      <td>17.700000</td>\n",
       "      <td>23.200000</td>\n",
       "      <td>8.400000</td>\n",
       "      <td>11.800000</td>\n",
       "      <td>79.900000</td>\n",
       "      <td>8.500000</td>\n",
       "      <td>1.000000</td>\n",
       "      <td>1.40000</td>\n",
       "      <td>1.200000</td>\n",
       "      <td>3.800000</td>\n",
       "      <td>25.400000</td>\n",
       "      <td>1913.000000</td>\n",
       "      <td>80.600000</td>\n",
       "      <td>13.000000</td>\n",
       "      <td>5.500000</td>\n",
       "      <td>0.000000</td>\n",
       "      <td>6.000000</td>\n",
       "    </tr>\n",
       "    <tr>\n",
       "      <th>75%</th>\n",
       "      <td>5530.000000</td>\n",
       "      <td>2717.000000</td>\n",
       "      <td>2815.000000</td>\n",
       "      <td>21.100000</td>\n",
       "      <td>87.700000</td>\n",
       "      <td>14.500000</td>\n",
       "      <td>0.400000</td>\n",
       "      <td>5.000000</td>\n",
       "      <td>0.000000</td>\n",
       "      <td>3920.000000</td>\n",
       "      <td>74673.000000</td>\n",
       "      <td>11899.000000</td>\n",
       "      <td>36429.000000</td>\n",
       "      <td>4965.000000</td>\n",
       "      <td>21.800000</td>\n",
       "      <td>31.600000</td>\n",
       "      <td>44.900000</td>\n",
       "      <td>23.300000</td>\n",
       "      <td>26.900000</td>\n",
       "      <td>12.500000</td>\n",
       "      <td>17.500000</td>\n",
       "      <td>84.900000</td>\n",
       "      <td>11.900000</td>\n",
       "      <td>4.600000</td>\n",
       "      <td>3.30000</td>\n",
       "      <td>2.500000</td>\n",
       "      <td>6.300000</td>\n",
       "      <td>30.300000</td>\n",
       "      <td>2649.000000</td>\n",
       "      <td>85.000000</td>\n",
       "      <td>17.600000</td>\n",
       "      <td>8.000000</td>\n",
       "      <td>0.000000</td>\n",
       "      <td>9.000000</td>\n",
       "    </tr>\n",
       "    <tr>\n",
       "      <th>max</th>\n",
       "      <td>65528.000000</td>\n",
       "      <td>32266.000000</td>\n",
       "      <td>33262.000000</td>\n",
       "      <td>100.000000</td>\n",
       "      <td>100.000000</td>\n",
       "      <td>100.000000</td>\n",
       "      <td>100.000000</td>\n",
       "      <td>91.400000</td>\n",
       "      <td>71.900000</td>\n",
       "      <td>39389.000000</td>\n",
       "      <td>249750.000000</td>\n",
       "      <td>153365.000000</td>\n",
       "      <td>220253.000000</td>\n",
       "      <td>84414.000000</td>\n",
       "      <td>100.000000</td>\n",
       "      <td>100.000000</td>\n",
       "      <td>100.000000</td>\n",
       "      <td>100.000000</td>\n",
       "      <td>100.000000</td>\n",
       "      <td>100.000000</td>\n",
       "      <td>100.000000</td>\n",
       "      <td>100.000000</td>\n",
       "      <td>100.000000</td>\n",
       "      <td>100.000000</td>\n",
       "      <td>100.00000</td>\n",
       "      <td>100.000000</td>\n",
       "      <td>100.000000</td>\n",
       "      <td>73.900000</td>\n",
       "      <td>28945.000000</td>\n",
       "      <td>100.000000</td>\n",
       "      <td>100.000000</td>\n",
       "      <td>100.000000</td>\n",
       "      <td>22.300000</td>\n",
       "      <td>100.000000</td>\n",
       "    </tr>\n",
       "  </tbody>\n",
       "</table>\n",
       "</div>"
      ],
      "text/plain": [
       "           TotalPop           Men         Women      Hispanic         White  \\\n",
       "count  72889.000000  72889.000000  72889.000000  72889.000000  72889.000000   \n",
       "mean    4438.372759   2182.350698   2256.022061     17.290081     61.312817   \n",
       "std     2192.532931   1101.516460   1126.275010     23.097490     30.635700   \n",
       "min        4.000000      0.000000      0.000000      0.000000      0.000000   \n",
       "25%     2953.000000   1438.000000   1491.000000      2.600000     38.100000   \n",
       "50%     4133.000000   2022.000000   2100.000000      7.400000     70.400000   \n",
       "75%     5530.000000   2717.000000   2815.000000     21.100000     87.700000   \n",
       "max    65528.000000  32266.000000  33262.000000    100.000000    100.000000   \n",
       "\n",
       "              Black        Native         Asian       Pacific  \\\n",
       "count  72889.000000  72889.000000  72889.000000  72889.000000   \n",
       "mean      13.268165      0.729703      4.752853      0.146698   \n",
       "std       21.598962      4.525143      8.992743      1.023074   \n",
       "min        0.000000      0.000000      0.000000      0.000000   \n",
       "25%        0.800000      0.000000      0.200000      0.000000   \n",
       "50%        3.800000      0.000000      1.500000      0.000000   \n",
       "75%       14.500000      0.400000      5.000000      0.000000   \n",
       "max      100.000000    100.000000     91.400000     71.900000   \n",
       "\n",
       "       VotingAgeCitizen         Income      IncomeErr   IncomePerCap  \\\n",
       "count      72889.000000   72889.000000   72889.000000   72889.000000   \n",
       "mean        3137.878459   61111.961002    9694.920825   30702.626734   \n",
       "std         1514.686755   30492.084659    6135.953813   16059.781976   \n",
       "min            1.000000    2692.000000     728.000000     949.000000   \n",
       "25%         2093.000000   40400.000000    5740.000000   20603.000000   \n",
       "50%         2924.000000   54434.000000    8273.000000   27242.000000   \n",
       "75%         3920.000000   74673.000000   11899.000000   36429.000000   \n",
       "max        39389.000000  249750.000000  153365.000000  220253.000000   \n",
       "\n",
       "       IncomePerCapErr       Poverty  ChildPoverty  Professional  \\\n",
       "count     72889.000000  72889.000000  72889.000000  72889.000000   \n",
       "mean       4259.381073     16.067164     21.155081     35.566003   \n",
       "std        3019.532445     12.514595     18.643563     15.093914   \n",
       "min         308.000000      0.000000      0.000000      0.000000   \n",
       "25%        2507.000000      6.900000      6.200000     24.700000   \n",
       "50%        3405.000000     12.600000     16.300000     33.300000   \n",
       "75%        4965.000000     21.800000     31.600000     44.900000   \n",
       "max       84414.000000    100.000000    100.000000    100.000000   \n",
       "\n",
       "            Service        Office  Construction    Production         Drive  \\\n",
       "count  72889.000000  72889.000000  72889.000000  72889.000000  72889.000000   \n",
       "mean      18.855030     23.407072      9.256663     12.915429     75.823635   \n",
       "std        8.037855      5.653534      5.979854      7.629365     15.062128   \n",
       "min        0.000000      0.000000      0.000000      0.000000      0.000000   \n",
       "25%       13.300000     19.700000      5.000000      7.100000     72.300000   \n",
       "50%       17.700000     23.200000      8.400000     11.800000     79.900000   \n",
       "75%       23.300000     26.900000     12.500000     17.500000     84.900000   \n",
       "max      100.000000    100.000000    100.000000    100.000000    100.000000   \n",
       "\n",
       "            Carpool       Transit         Walk   OtherTransp    WorkAtHome  \\\n",
       "count  72889.000000  72889.000000  72889.00000  72889.000000  72889.000000   \n",
       "mean       9.323555      5.387234      2.95396      1.888721      4.623234   \n",
       "std        5.167761     11.659900      5.39858      2.518341      3.821944   \n",
       "min        0.000000      0.000000      0.00000      0.000000      0.000000   \n",
       "25%        5.800000      0.000000      0.40000      0.400000      2.000000   \n",
       "50%        8.500000      1.000000      1.40000      1.200000      3.800000   \n",
       "75%       11.900000      4.600000      3.30000      2.500000      6.300000   \n",
       "max      100.000000    100.000000    100.00000    100.000000    100.000000   \n",
       "\n",
       "        MeanCommute      Employed   PrivateWork    PublicWork  SelfEmployed  \\\n",
       "count  72889.000000  72889.000000  72889.000000  72889.000000  72889.000000   \n",
       "mean      26.078983   2078.009535     79.506605     14.151449      6.170819   \n",
       "std        7.101069   1121.667248      8.017414      7.224480      3.846069   \n",
       "min        4.200000      0.000000      0.000000      0.000000      0.000000   \n",
       "25%       21.100000   1302.000000     75.300000      9.300000      3.500000   \n",
       "50%       25.400000   1913.000000     80.600000     13.000000      5.500000   \n",
       "75%       30.300000   2649.000000     85.000000     17.600000      8.000000   \n",
       "max       73.900000  28945.000000    100.000000    100.000000    100.000000   \n",
       "\n",
       "         FamilyWork  Unemployment  \n",
       "count  72889.000000  72889.000000  \n",
       "mean       0.171328      7.235223  \n",
       "std        0.455440      5.177195  \n",
       "min        0.000000      0.000000  \n",
       "25%        0.000000      3.900000  \n",
       "50%        0.000000      6.000000  \n",
       "75%        0.000000      9.000000  \n",
       "max       22.300000    100.000000  "
      ]
     },
     "execution_count": 3,
     "metadata": {},
     "output_type": "execute_result"
    }
   ],
   "source": [
    "df_17_cln.describe()"
   ]
  },
  {
   "cell_type": "code",
   "execution_count": 4,
   "metadata": {},
   "outputs": [
    {
     "name": "stdout",
     "output_type": "stream",
     "text": [
      "<class 'pandas.core.frame.DataFrame'>\n",
      "Int64Index: 72889 entries, 1001020100 to 72153750602\n",
      "Data columns (total 38 columns):\n",
      "State               72889 non-null object\n",
      "County              72889 non-null object\n",
      "TotalPop            72889 non-null int64\n",
      "Men                 72889 non-null int64\n",
      "Women               72889 non-null int64\n",
      "Hispanic            72889 non-null float64\n",
      "White               72889 non-null float64\n",
      "Black               72889 non-null float64\n",
      "Native              72889 non-null float64\n",
      "Asian               72889 non-null float64\n",
      "Pacific             72889 non-null float64\n",
      "VotingAgeCitizen    72889 non-null int64\n",
      "Income              72889 non-null float64\n",
      "IncomeErr           72889 non-null float64\n",
      "IncomePerCap        72889 non-null float64\n",
      "IncomePerCapErr     72889 non-null float64\n",
      "Poverty             72889 non-null float64\n",
      "ChildPoverty        72889 non-null float64\n",
      "Professional        72889 non-null float64\n",
      "Service             72889 non-null float64\n",
      "Office              72889 non-null float64\n",
      "Construction        72889 non-null float64\n",
      "Production          72889 non-null float64\n",
      "Drive               72889 non-null float64\n",
      "Carpool             72889 non-null float64\n",
      "Transit             72889 non-null float64\n",
      "Walk                72889 non-null float64\n",
      "OtherTransp         72889 non-null float64\n",
      "WorkAtHome          72889 non-null float64\n",
      "MeanCommute         72889 non-null float64\n",
      "Employed            72889 non-null int64\n",
      "PrivateWork         72889 non-null float64\n",
      "PublicWork          72889 non-null float64\n",
      "SelfEmployed        72889 non-null float64\n",
      "FamilyWork          72889 non-null float64\n",
      "Unemployment        72889 non-null float64\n",
      "HighUnemployment    72889 non-null int64\n",
      "HighChildPoverty    72889 non-null int64\n",
      "dtypes: float64(29), int64(7), object(2)\n",
      "memory usage: 21.7+ MB\n"
     ]
    }
   ],
   "source": [
    "# Categorize the unemployed percentages into binary categories\n",
    "# Make cutoff using median of clean dataset, so groups are roughly equal\n",
    "df_17_cln['HighUnemployment'] = pd.cut(df_17_cln.Unemployment,[-1,6,101],labels=[0,1])     \n",
    "df_17_cln.HighUnemployment = df_17_cln.HighUnemployment.astype(np.int)\n",
    "# 0 indicates low unemployment rate, 1 indicates high unemployment rate\n",
    "\n",
    "# Categorize the child poverty percentages into binary categories\n",
    "# Make cutoff using median of clean dataset, so groups are roughly equal\n",
    "df_17_cln['HighChildPoverty'] = pd.cut(df_17_cln.ChildPoverty,[-1,16.3,101],labels=[0,1])\n",
    "df_17_cln.HighChildPoverty = df_17_cln.HighChildPoverty.astype(np.int)\n",
    "# 0 indicates low child poverty rate, 1 indicates high child poverty rate\n",
    "\n",
    "df_17_cln.info() # matches cleaned dataset from lab 1"
   ]
  },
  {
   "cell_type": "markdown",
   "metadata": {},
   "source": [
    "At this point we have a clean dataset with no missing values, that matches the info from the cleaned dataset we used in Lab 1. Our target variables are \"HighUnemployment\" and \"HighChildPoverty\", which we encoded so that 1 signifies a tract with a high unemployment rate or high child poverty rate and a 0 indicates low unemployment or low child poverty respectively. We created the cutoff between high and low unemployment to be 6 percent, which was the median value for the unemployment attribute. Similarly, we used the median value of 16.3 as the cutoff for high and low child poverty rates. By using the median to separate the groups, the classes will be of roughly the same size.\n",
    "\n",
    "Since this dataset has 38 variables, next we eliminate some unnecessary and redundant variables to cut down on the high dimensionality of the dataset. Here we eliminate variables based on the pairwise correlation plot we created in Lab 1 and intuition. In the Mini Lab, we further reduced the dataset down to only 6 important features based on PCA, but the models using that dataset were not as accurate. Thus we will use this \"full\" dataset of 28 variables throughout this lab.\n",
    "\n",
    "Here we also perform scaling, so that the previously integer attributes are now percentages. In this way most of the predictors are percentages of the total population."
   ]
  },
  {
   "cell_type": "code",
   "execution_count": 5,
   "metadata": {},
   "outputs": [
    {
     "name": "stdout",
     "output_type": "stream",
     "text": [
      "<class 'pandas.core.frame.DataFrame'>\n",
      "Int64Index: 72889 entries, 1001020100 to 72153750602\n",
      "Data columns (total 28 columns):\n",
      "TotalPop            72889 non-null int64\n",
      "Women               72889 non-null float64\n",
      "Hispanic            72889 non-null float64\n",
      "White               72889 non-null float64\n",
      "Black               72889 non-null float64\n",
      "Native              72889 non-null float64\n",
      "Asian               72889 non-null float64\n",
      "Pacific             72889 non-null float64\n",
      "VotingAgeCitizen    72889 non-null float64\n",
      "Income              72889 non-null float64\n",
      "Poverty             72889 non-null float64\n",
      "Professional        72889 non-null float64\n",
      "Service             72889 non-null float64\n",
      "Office              72889 non-null float64\n",
      "Construction        72889 non-null float64\n",
      "Production          72889 non-null float64\n",
      "Drive               72889 non-null float64\n",
      "Carpool             72889 non-null float64\n",
      "Walk                72889 non-null float64\n",
      "OtherTransp         72889 non-null float64\n",
      "WorkAtHome          72889 non-null float64\n",
      "MeanCommute         72889 non-null float64\n",
      "Employed            72889 non-null float64\n",
      "PrivateWork         72889 non-null float64\n",
      "SelfEmployed        72889 non-null float64\n",
      "FamilyWork          72889 non-null float64\n",
      "HighUnemployment    72889 non-null int64\n",
      "HighChildPoverty    72889 non-null int64\n",
      "dtypes: float64(25), int64(3)\n",
      "memory usage: 16.1 MB\n",
      "None\n"
     ]
    },
    {
     "data": {
      "text/html": [
       "<div>\n",
       "<style scoped>\n",
       "    .dataframe tbody tr th:only-of-type {\n",
       "        vertical-align: middle;\n",
       "    }\n",
       "\n",
       "    .dataframe tbody tr th {\n",
       "        vertical-align: top;\n",
       "    }\n",
       "\n",
       "    .dataframe thead th {\n",
       "        text-align: right;\n",
       "    }\n",
       "</style>\n",
       "<table border=\"1\" class=\"dataframe\">\n",
       "  <thead>\n",
       "    <tr style=\"text-align: right;\">\n",
       "      <th></th>\n",
       "      <th>TotalPop</th>\n",
       "      <th>Women</th>\n",
       "      <th>Hispanic</th>\n",
       "      <th>White</th>\n",
       "      <th>Black</th>\n",
       "      <th>Native</th>\n",
       "      <th>Asian</th>\n",
       "      <th>Pacific</th>\n",
       "      <th>VotingAgeCitizen</th>\n",
       "      <th>Income</th>\n",
       "      <th>Poverty</th>\n",
       "      <th>Professional</th>\n",
       "      <th>Service</th>\n",
       "      <th>Office</th>\n",
       "      <th>Construction</th>\n",
       "      <th>Production</th>\n",
       "      <th>Drive</th>\n",
       "      <th>Carpool</th>\n",
       "      <th>Walk</th>\n",
       "      <th>OtherTransp</th>\n",
       "      <th>WorkAtHome</th>\n",
       "      <th>MeanCommute</th>\n",
       "      <th>Employed</th>\n",
       "      <th>PrivateWork</th>\n",
       "      <th>SelfEmployed</th>\n",
       "      <th>FamilyWork</th>\n",
       "      <th>HighUnemployment</th>\n",
       "      <th>HighChildPoverty</th>\n",
       "    </tr>\n",
       "    <tr>\n",
       "      <th>TractId</th>\n",
       "      <th></th>\n",
       "      <th></th>\n",
       "      <th></th>\n",
       "      <th></th>\n",
       "      <th></th>\n",
       "      <th></th>\n",
       "      <th></th>\n",
       "      <th></th>\n",
       "      <th></th>\n",
       "      <th></th>\n",
       "      <th></th>\n",
       "      <th></th>\n",
       "      <th></th>\n",
       "      <th></th>\n",
       "      <th></th>\n",
       "      <th></th>\n",
       "      <th></th>\n",
       "      <th></th>\n",
       "      <th></th>\n",
       "      <th></th>\n",
       "      <th></th>\n",
       "      <th></th>\n",
       "      <th></th>\n",
       "      <th></th>\n",
       "      <th></th>\n",
       "      <th></th>\n",
       "      <th></th>\n",
       "      <th></th>\n",
       "    </tr>\n",
       "  </thead>\n",
       "  <tbody>\n",
       "    <tr>\n",
       "      <th>1001020100</th>\n",
       "      <td>1845</td>\n",
       "      <td>51.3</td>\n",
       "      <td>2.4</td>\n",
       "      <td>86.3</td>\n",
       "      <td>5.2</td>\n",
       "      <td>0.0</td>\n",
       "      <td>1.2</td>\n",
       "      <td>0.0</td>\n",
       "      <td>76.3</td>\n",
       "      <td>67826.0</td>\n",
       "      <td>10.7</td>\n",
       "      <td>38.5</td>\n",
       "      <td>15.6</td>\n",
       "      <td>22.8</td>\n",
       "      <td>10.8</td>\n",
       "      <td>12.4</td>\n",
       "      <td>94.2</td>\n",
       "      <td>3.3</td>\n",
       "      <td>0.5</td>\n",
       "      <td>0.0</td>\n",
       "      <td>2.1</td>\n",
       "      <td>24.5</td>\n",
       "      <td>47.8</td>\n",
       "      <td>74.2</td>\n",
       "      <td>4.5</td>\n",
       "      <td>0.0</td>\n",
       "      <td>0</td>\n",
       "      <td>1</td>\n",
       "    </tr>\n",
       "    <tr>\n",
       "      <th>1001020200</th>\n",
       "      <td>2172</td>\n",
       "      <td>46.3</td>\n",
       "      <td>1.1</td>\n",
       "      <td>41.6</td>\n",
       "      <td>54.5</td>\n",
       "      <td>0.0</td>\n",
       "      <td>1.0</td>\n",
       "      <td>0.0</td>\n",
       "      <td>76.1</td>\n",
       "      <td>41287.0</td>\n",
       "      <td>22.4</td>\n",
       "      <td>30.5</td>\n",
       "      <td>24.9</td>\n",
       "      <td>22.9</td>\n",
       "      <td>6.3</td>\n",
       "      <td>15.4</td>\n",
       "      <td>90.5</td>\n",
       "      <td>9.1</td>\n",
       "      <td>0.0</td>\n",
       "      <td>0.5</td>\n",
       "      <td>0.0</td>\n",
       "      <td>22.2</td>\n",
       "      <td>39.2</td>\n",
       "      <td>75.9</td>\n",
       "      <td>9.0</td>\n",
       "      <td>0.0</td>\n",
       "      <td>0</td>\n",
       "      <td>1</td>\n",
       "    </tr>\n",
       "    <tr>\n",
       "      <th>1001020300</th>\n",
       "      <td>3385</td>\n",
       "      <td>54.7</td>\n",
       "      <td>8.0</td>\n",
       "      <td>61.4</td>\n",
       "      <td>26.5</td>\n",
       "      <td>0.6</td>\n",
       "      <td>0.7</td>\n",
       "      <td>0.4</td>\n",
       "      <td>73.3</td>\n",
       "      <td>46806.0</td>\n",
       "      <td>14.7</td>\n",
       "      <td>27.9</td>\n",
       "      <td>19.4</td>\n",
       "      <td>33.3</td>\n",
       "      <td>9.9</td>\n",
       "      <td>9.6</td>\n",
       "      <td>88.3</td>\n",
       "      <td>8.4</td>\n",
       "      <td>1.0</td>\n",
       "      <td>0.8</td>\n",
       "      <td>1.5</td>\n",
       "      <td>23.1</td>\n",
       "      <td>43.8</td>\n",
       "      <td>73.3</td>\n",
       "      <td>4.8</td>\n",
       "      <td>0.7</td>\n",
       "      <td>0</td>\n",
       "      <td>1</td>\n",
       "    </tr>\n",
       "    <tr>\n",
       "      <th>1001020400</th>\n",
       "      <td>4267</td>\n",
       "      <td>53.1</td>\n",
       "      <td>9.6</td>\n",
       "      <td>80.3</td>\n",
       "      <td>7.1</td>\n",
       "      <td>0.5</td>\n",
       "      <td>0.2</td>\n",
       "      <td>0.0</td>\n",
       "      <td>76.3</td>\n",
       "      <td>55895.0</td>\n",
       "      <td>2.3</td>\n",
       "      <td>29.0</td>\n",
       "      <td>16.6</td>\n",
       "      <td>25.8</td>\n",
       "      <td>9.1</td>\n",
       "      <td>19.5</td>\n",
       "      <td>82.3</td>\n",
       "      <td>11.2</td>\n",
       "      <td>1.5</td>\n",
       "      <td>2.9</td>\n",
       "      <td>2.1</td>\n",
       "      <td>25.9</td>\n",
       "      <td>43.3</td>\n",
       "      <td>75.8</td>\n",
       "      <td>4.5</td>\n",
       "      <td>0.0</td>\n",
       "      <td>1</td>\n",
       "      <td>0</td>\n",
       "    </tr>\n",
       "    <tr>\n",
       "      <th>1001020500</th>\n",
       "      <td>9965</td>\n",
       "      <td>49.3</td>\n",
       "      <td>0.9</td>\n",
       "      <td>77.5</td>\n",
       "      <td>16.4</td>\n",
       "      <td>0.0</td>\n",
       "      <td>3.1</td>\n",
       "      <td>0.0</td>\n",
       "      <td>72.5</td>\n",
       "      <td>68143.0</td>\n",
       "      <td>12.2</td>\n",
       "      <td>48.8</td>\n",
       "      <td>13.8</td>\n",
       "      <td>20.5</td>\n",
       "      <td>3.5</td>\n",
       "      <td>13.4</td>\n",
       "      <td>86.9</td>\n",
       "      <td>11.2</td>\n",
       "      <td>0.8</td>\n",
       "      <td>0.3</td>\n",
       "      <td>0.7</td>\n",
       "      <td>21.0</td>\n",
       "      <td>48.0</td>\n",
       "      <td>71.4</td>\n",
       "      <td>4.5</td>\n",
       "      <td>0.0</td>\n",
       "      <td>0</td>\n",
       "      <td>1</td>\n",
       "    </tr>\n",
       "  </tbody>\n",
       "</table>\n",
       "</div>"
      ],
      "text/plain": [
       "            TotalPop  Women  Hispanic  White  Black  Native  Asian  Pacific  \\\n",
       "TractId                                                                       \n",
       "1001020100      1845   51.3       2.4   86.3    5.2     0.0    1.2      0.0   \n",
       "1001020200      2172   46.3       1.1   41.6   54.5     0.0    1.0      0.0   \n",
       "1001020300      3385   54.7       8.0   61.4   26.5     0.6    0.7      0.4   \n",
       "1001020400      4267   53.1       9.6   80.3    7.1     0.5    0.2      0.0   \n",
       "1001020500      9965   49.3       0.9   77.5   16.4     0.0    3.1      0.0   \n",
       "\n",
       "            VotingAgeCitizen   Income  Poverty  Professional  Service  Office  \\\n",
       "TractId                                                                         \n",
       "1001020100              76.3  67826.0     10.7          38.5     15.6    22.8   \n",
       "1001020200              76.1  41287.0     22.4          30.5     24.9    22.9   \n",
       "1001020300              73.3  46806.0     14.7          27.9     19.4    33.3   \n",
       "1001020400              76.3  55895.0      2.3          29.0     16.6    25.8   \n",
       "1001020500              72.5  68143.0     12.2          48.8     13.8    20.5   \n",
       "\n",
       "            Construction  Production  Drive  Carpool  Walk  OtherTransp  \\\n",
       "TractId                                                                   \n",
       "1001020100          10.8        12.4   94.2      3.3   0.5          0.0   \n",
       "1001020200           6.3        15.4   90.5      9.1   0.0          0.5   \n",
       "1001020300           9.9         9.6   88.3      8.4   1.0          0.8   \n",
       "1001020400           9.1        19.5   82.3     11.2   1.5          2.9   \n",
       "1001020500           3.5        13.4   86.9     11.2   0.8          0.3   \n",
       "\n",
       "            WorkAtHome  MeanCommute  Employed  PrivateWork  SelfEmployed  \\\n",
       "TractId                                                                    \n",
       "1001020100         2.1         24.5      47.8         74.2           4.5   \n",
       "1001020200         0.0         22.2      39.2         75.9           9.0   \n",
       "1001020300         1.5         23.1      43.8         73.3           4.8   \n",
       "1001020400         2.1         25.9      43.3         75.8           4.5   \n",
       "1001020500         0.7         21.0      48.0         71.4           4.5   \n",
       "\n",
       "            FamilyWork  HighUnemployment  HighChildPoverty  \n",
       "TractId                                                     \n",
       "1001020100         0.0                 0                 1  \n",
       "1001020200         0.0                 0                 1  \n",
       "1001020300         0.7                 0                 1  \n",
       "1001020400         0.0                 1                 0  \n",
       "1001020500         0.0                 0                 1  "
      ]
     },
     "execution_count": 5,
     "metadata": {},
     "output_type": "execute_result"
    }
   ],
   "source": [
    "# Create dataframe to use in logistic and SVM models\n",
    "df_17_model = df_17_cln.copy()\n",
    "\n",
    "# Eliminate non-useful and redundant variables\n",
    "del df_17_model['State'] # encoding would result in too many added variables\n",
    "del df_17_model['County'] # encoding would result in too many added variables\n",
    "del df_17_model['Men'] # redundant to keep men and women\n",
    "del df_17_model['Unemployment'] # already encoded to binary\n",
    "del df_17_model['ChildPoverty'] # already encoded to binary\n",
    "\n",
    "# Eliminate more variables based on correlation plot (could maybe remove more)\n",
    "del df_17_model['IncomeErr'] # only need to keep one income-related variable\n",
    "del df_17_model['IncomePerCap'] # only need to keep one income-related variable\n",
    "del df_17_model['IncomePerCapErr'] # only need to keep one income-related variable\n",
    "del df_17_model['Transit'] # drive and transit were essentially inverses\n",
    "del df_17_model['PublicWork'] # private and public work were essentially inverses\n",
    "\n",
    "# All remaining variables are ints or floats so we do not have to do one-hot encoding\n",
    "\n",
    "# Convert columns to percentages for consistency\n",
    "df_17_model['Women'] = round(df_17_model['Women']/df_17_model['TotalPop']*100,1)\n",
    "df_17_model['VotingAgeCitizen'] = round(df_17_model['VotingAgeCitizen']/df_17_model['TotalPop']*100,1)\n",
    "df_17_model['Employed'] = round(df_17_model['Employed']/df_17_model['TotalPop']*100,1)\n",
    "\n",
    "print(df_17_model.info())\n",
    "df_17_model.head()"
   ]
  },
  {
   "cell_type": "code",
   "execution_count": 6,
   "metadata": {},
   "outputs": [],
   "source": [
    "# create X and y variables to use in models\n",
    "# y_u is for unemployment, y_cp is for child poverty\n",
    "if 'HighUnemployment' in df_17_model:\n",
    "    y_u = df_17_model['HighUnemployment'].values # get the labels we want\n",
    "    del df_17_model['HighUnemployment'] # get rid of the class label\n",
    "if 'HighChildPoverty' in df_17_model:\n",
    "    y_cp = df_17_model['HighChildPoverty'].values # get the labels we want\n",
    "    del df_17_model['HighChildPoverty'] # get rid of the class label\n",
    "X = df_17_model.values # use everything else to predict"
   ]
  },
  {
   "cell_type": "markdown",
   "metadata": {},
   "source": [
    "# Data Preparation Part 2"
   ]
  },
  {
   "cell_type": "markdown",
   "metadata": {},
   "source": [
    "<div class=\"alert alert-block alert-info\">\n",
    "<b>Rubric 2:</b> Describe the final dataset that is used for classification/regression (include a description of any newly formed variables you created).\n",
    "</div>"
   ]
  },
  {
   "cell_type": "markdown",
   "metadata": {},
   "source": [
    "Our final dataset used for classification is very similar to the full dataset provided by the U.S. Census Bureau. The differences are that a few variables have been removed due to redundancy, three variables have been converted to percentages rather than counts (Women, VotingAgeCitizen, and Employed), and our target class variables of Unemployment and ChildPoverty have been converted to binary indicator variables."
   ]
  },
  {
   "cell_type": "markdown",
   "metadata": {},
   "source": [
    "| Attribute | Data Type | Description |\n",
    "|-----------|-----------|-------------|\n",
    "| TotalPop | Integer | Total population of the census area |\n",
    "| Women | Decimal | Percentage of total population that are women |\n",
    "| Hispanic | Decimal | Percentage of population that is Hispanic/Latino |\n",
    "| White | Decimal | Percentage of population that is white |\n",
    "| Black | Decimal | Percentage of population that is black |\n",
    "| Native | Decimal | Percent of population that is Native American |\n",
    "| Asian | Decimal | Percent of population that is Asian |\n",
    "| Pacific | Decimal | Percent of population that is Native Hawaiian or other Pacific Islander |\n",
    "| VotingAgeCitizen | Decimal | Percentage of population that are voting age citizens |\n",
    "| Income | Decimal | Median household income in USD ($) |\n",
    "| Poverty | Decimal | Percentage of population under the poverty level |\n",
    "| Professional | Decimal | Percent employed in management, business, science, and arts |\n",
    "| Service | Decimal | Percent employed in service jobs |\n",
    "| Office | Decimal | Percent employed in sales and office jobs |\n",
    "| Construction | Decimal | Percent employed in natural resources, construction, and maintenance |\n",
    "| Production | Decimal | Percent employed in production, transportation, and material movement |\n",
    "| Drive | Decimal | Percent commuting alone in a car, van, or truck |\n",
    "| Carpool | Decimal | Percent carpooling in a car, van, or truck |\n",
    "| Walk | Decimal | Percent walking to work |\n",
    "| OtherTransp | Decimal | Percent commuting via other means |\n",
    "| WorkAtHome | Decimal | Percentage working at home |\n",
    "| MeanCommute | Decimal | Mean commute time in minutes |\n",
    "| Employed | Decimal | Percentage of people employed (16+) |\n",
    "| PrivateWork | Decimal | Percentage employed in private industry |\n",
    "| SelfEmployed | Decimal | Percentage self-employed |\n",
    "| FamilyWork | Decimal | Percentage in unpaid family work |\n",
    "| HighUnemployment | Binary | Indication of a high rate of unemployment for the census tract |\n",
    "| HighChildPoverty | Binary | Indication of a high rate of children under the poverty level |"
   ]
  },
  {
   "cell_type": "markdown",
   "metadata": {},
   "source": [
    "# Modeling and Evaluation 1"
   ]
  },
  {
   "cell_type": "markdown",
   "metadata": {},
   "source": [
    "<div class=\"alert alert-block alert-info\">\n",
    "<b>Rubric 3:</b> Choose and explain your evaluation metrics that you will use (i.e., accuracy,\n",
    "precision, recall, F-measure, or any metric we have discussed). Why are the measure(s) appropriate for analyzing the results of your modeling? Give a detailed explanation backing up any assertions.\n",
    "</div>"
   ]
  },
  {
   "cell_type": "markdown",
   "metadata": {},
   "source": [
    "The primary evaluation metric we will use for our classification tasks is accuracy, but we will examine precision and recall as well. Accuracy itself is appropriate for any classification task, as it measures what percentage of the observations were classified correctly. Precision and recall, however, are most appropriate for binary classification problems, which we are performing here. We can use the confusion matrix below to define formulas for precision and recall:"
   ]
  },
  {
   "cell_type": "markdown",
   "metadata": {},
   "source": [
    "| * | Predicted: High | Predicted: Low | \n",
    "|-----|------|-----|\n",
    "| **Actual: High** | TP | FN |\n",
    "| **Actual: Low** | FP | TN |"
   ]
  },
  {
   "cell_type": "markdown",
   "metadata": {},
   "source": [
    "So we have $Precision = \\frac{TP}{TP+FP}$ and $Recall = \\frac{TP}{TP+FN}$. This means that high precision corresponds to low false positives, and high recall means low false negatives.\n",
    "\n",
    "Accuracy is already a good metric for our dataset, because there is no class imbalance. We have defined our target class variables to be split such that half of the observations are considered to have high unemployment and half have low unemployment, and similarly for child poverty. Problems often arise using accuracy when there is large class imbalance, but if a classifier tried to predict the same class for all observations in our dataset, it would only attain 50% accuracy. Thus if we see accuracies much higher than 50%, this is a good indication that the models are performing well.\n",
    "\n",
    "Precision and recall are also helpful to us based on the people who might be using these models. If a model attains high precision, i.e. there are few false positives, this means that the model did not flag many census tracts that actually had low unemployment or child poverty as ones needing aid. High precision would be good for an organization that has limited resources, i.e. they can only help so many neighborhoods, so they want to make sure the ones they target are actually in need of economic development or aid.\n",
    "\n",
    "On the other hand, if a model has high recall, i.e. there are few false negatives, this means that when census tracts have high unemployment or child poverty the model correctly identifies them. This would be appropriate for an organization that has extensive resources that wants to aid in all areas that need it, or at least identify all of those areas for future development.\n",
    "\n",
    "Therefore we will look at accuracy, precision and recall for our classification tasks."
   ]
  },
  {
   "cell_type": "markdown",
   "metadata": {},
   "source": [
    "# Modeling and Evaluation 2"
   ]
  },
  {
   "cell_type": "markdown",
   "metadata": {},
   "source": [
    "<div class=\"alert alert-block alert-info\">\n",
    "<b>Rubric 4:</b> Choose the method you will use for dividing your data into training and\n",
    "testing splits (i.e., are you using Stratified 10-fold cross validation? Why?). Explain why\n",
    "your chosen method is appropriate or use more than one method as appropriate. For example, if you are using time series data then you should be using continuous training and testing sets across time.\n",
    "</div>"
   ]
  },
  {
   "cell_type": "markdown",
   "metadata": {},
   "source": [
    "The method used to divide our data into training and testing split is stratified shuffle split. Unlike the k fold stratified split it splits once but shuffles the data before the split. Here the sklearn allows us to pick the number of splits. The cv object is a combination of stratified k fold and stratified randomized folds and the folds are preserved per the samples on each classification. However in the stratified shuffle split the data overlap in folds.\n",
    "https://www.programcreek.com/python/example/91149/sklearn.model_selection.StratifiedShuffleSplit"
   ]
  },
  {
   "cell_type": "code",
   "execution_count": 7,
   "metadata": {},
   "outputs": [],
   "source": [
    "from sklearn.neighbors import KNeighborsClassifier\n",
    "from sklearn.metrics import accuracy_score, precision_score, recall_score\n",
    "from IPython.html import widgets \n",
    "from sklearn.model_selection import StratifiedShuffleSplit\n",
    "from time import time\n",
    "\n",
    "cv_u = StratifiedShuffleSplit(n_splits = 1, test_size = 0.2, train_size=0.8)\n",
    "cv_u.get_n_splits(X,y_u)\n",
    "\n",
    "for trainidx, testidx in cv_u.split(X,y_u):\n",
    "    X_trainU = X[trainidx] \n",
    "    X_testU = X[testidx] \n",
    "    y_trainU = y_u[trainidx]\n",
    "    y_testU = y_u[testidx]\n",
    "\n",
    "cv_cp = StratifiedShuffleSplit(n_splits = 1, test_size = 0.2, train_size=0.8)\n",
    "cv_cp.get_n_splits(X,y_cp)\n",
    "\n",
    "for trainidx, testidx in cv_cp.split(X,y_cp):\n",
    "    X_trainCP = X[trainidx] \n",
    "    X_testCP = X[testidx] \n",
    "    y_trainCP = y_cp[trainidx]\n",
    "    y_testCP = y_cp[testidx]"
   ]
  },
  {
   "cell_type": "markdown",
   "metadata": {},
   "source": [
    "# Modeling and Evaluation 3"
   ]
  },
  {
   "cell_type": "markdown",
   "metadata": {},
   "source": [
    "<div class=\"alert alert-block alert-info\">\n",
    "<b>Rubric 5:</b> Create three different classification/regression models for each task (e.g., random forest, KNN, and SVM for task one and the same or different algorithms for task two). Two modeling techniques must be new (but the third could be SVM or logistic regression). Adjust parameters as appropriate to increase generalization performance using your chosen metric. You must investigate different parameters of the algorithms!\n",
    "</div>"
   ]
  },
  {
   "cell_type": "markdown",
   "metadata": {},
   "source": [
    "Our two classification tasks are to predict unemployment and child poverty of census tracts based on other attributes of the neighborhood. For both of these tasks, we have created KNN, Naive Bayes, and Random Forest models. "
   ]
  },
  {
   "cell_type": "markdown",
   "metadata": {},
   "source": [
    "#### KNN model for predicting Unemployment "
   ]
  },
  {
   "cell_type": "code",
   "execution_count": 8,
   "metadata": {},
   "outputs": [
    {
     "name": "stdout",
     "output_type": "stream",
     "text": [
      "Classifier with 1 neighbors: Accuracy 0.61, Precision 0.61, Recall 0.59\n",
      "Classifier with 2 neighbors: Accuracy 0.62, Precision 0.69, Recall 0.40\n",
      "Classifier with 3 neighbors: Accuracy 0.64, Precision 0.64, Recall 0.61\n",
      "Classifier with 4 neighbors: Accuracy 0.65, Precision 0.71, Recall 0.49\n",
      "Classifier with 5 neighbors: Accuracy 0.65, Precision 0.66, Recall 0.61\n",
      "Classifier with 6 neighbors: Accuracy 0.66, Precision 0.71, Recall 0.52\n",
      "Classifier with 7 neighbors: Accuracy 0.66, Precision 0.66, Recall 0.61\n",
      "Classifier with 8 neighbors: Accuracy 0.66, Precision 0.70, Recall 0.54\n",
      "Classifier with 9 neighbors: Accuracy 0.67, Precision 0.68, Recall 0.61\n",
      "Classifier with 10 neighbors: Accuracy 0.67, Precision 0.71, Recall 0.56\n",
      "Classifier with 11 neighbors: Accuracy 0.67, Precision 0.68, Recall 0.61\n",
      "Classifier with 12 neighbors: Accuracy 0.67, Precision 0.71, Recall 0.57\n",
      "Classifier with 13 neighbors: Accuracy 0.67, Precision 0.69, Recall 0.62\n",
      "Classifier with 14 neighbors: Accuracy 0.68, Precision 0.71, Recall 0.58\n",
      "Classifier with 15 neighbors: Accuracy 0.67, Precision 0.69, Recall 0.62\n",
      "Classifier with 16 neighbors: Accuracy 0.68, Precision 0.71, Recall 0.58\n",
      "Classifier with 17 neighbors: Accuracy 0.68, Precision 0.69, Recall 0.62\n",
      "Classifier with 18 neighbors: Accuracy 0.68, Precision 0.71, Recall 0.59\n",
      "Classifier with 19 neighbors: Accuracy 0.68, Precision 0.70, Recall 0.62\n"
     ]
    }
   ],
   "source": [
    "for K in range(1,20):\n",
    "    clf = KNeighborsClassifier(n_neighbors=K, weights='uniform', metric='euclidean')\n",
    "    clf.fit(X_trainU,y_trainU)\n",
    "    y_hatU = clf.predict(X_testU)\n",
    "    accuracy = accuracy_score(y_testU,y_hatU) \n",
    "    precision = precision_score(y_testU, y_hatU)\n",
    "    recall = recall_score(y_testU, y_hatU)\n",
    "    print('Classifier with %d neighbors: Accuracy %.2f, Precision %.2f, Recall %.2f'%(K,accuracy,precision,recall))"
   ]
  },
  {
   "cell_type": "markdown",
   "metadata": {},
   "source": [
    "It appears that K=19 is the best parameter for this task, as it produces the highest accuracy, is an odd number (best practice for a two-class problem, so no ties occur), and produces the best precision and recall among the models with K=15, K=17 and K=19."
   ]
  },
  {
   "cell_type": "code",
   "execution_count": 9,
   "metadata": {},
   "outputs": [],
   "source": [
    "bestK_u = 19"
   ]
  },
  {
   "cell_type": "markdown",
   "metadata": {},
   "source": [
    "#### KNN for predicting Child Poverty"
   ]
  },
  {
   "cell_type": "code",
   "execution_count": 10,
   "metadata": {},
   "outputs": [
    {
     "name": "stdout",
     "output_type": "stream",
     "text": [
      "Classifier with 1 neighbors: Accuracy 0.73, Precision 0.74, Recall 0.73\n",
      "Classifier with 2 neighbors: Accuracy 0.74, Precision 0.83, Recall 0.60\n",
      "Classifier with 3 neighbors: Accuracy 0.76, Precision 0.77, Recall 0.75\n",
      "Classifier with 4 neighbors: Accuracy 0.76, Precision 0.82, Recall 0.67\n",
      "Classifier with 5 neighbors: Accuracy 0.77, Precision 0.78, Recall 0.76\n",
      "Classifier with 6 neighbors: Accuracy 0.77, Precision 0.81, Recall 0.71\n",
      "Classifier with 7 neighbors: Accuracy 0.78, Precision 0.79, Recall 0.76\n",
      "Classifier with 8 neighbors: Accuracy 0.78, Precision 0.81, Recall 0.73\n",
      "Classifier with 9 neighbors: Accuracy 0.78, Precision 0.79, Recall 0.77\n",
      "Classifier with 10 neighbors: Accuracy 0.78, Precision 0.81, Recall 0.73\n",
      "Classifier with 11 neighbors: Accuracy 0.78, Precision 0.79, Recall 0.77\n",
      "Classifier with 12 neighbors: Accuracy 0.78, Precision 0.81, Recall 0.74\n",
      "Classifier with 13 neighbors: Accuracy 0.78, Precision 0.79, Recall 0.77\n",
      "Classifier with 14 neighbors: Accuracy 0.78, Precision 0.81, Recall 0.75\n",
      "Classifier with 15 neighbors: Accuracy 0.78, Precision 0.79, Recall 0.77\n",
      "Classifier with 16 neighbors: Accuracy 0.79, Precision 0.81, Recall 0.75\n",
      "Classifier with 17 neighbors: Accuracy 0.79, Precision 0.80, Recall 0.77\n",
      "Classifier with 18 neighbors: Accuracy 0.79, Precision 0.81, Recall 0.76\n",
      "Classifier with 19 neighbors: Accuracy 0.79, Precision 0.79, Recall 0.78\n",
      "Classifier with 20 neighbors: Accuracy 0.79, Precision 0.81, Recall 0.76\n",
      "Classifier with 21 neighbors: Accuracy 0.79, Precision 0.80, Recall 0.78\n",
      "Classifier with 22 neighbors: Accuracy 0.79, Precision 0.81, Recall 0.76\n",
      "Classifier with 23 neighbors: Accuracy 0.79, Precision 0.80, Recall 0.78\n",
      "Classifier with 24 neighbors: Accuracy 0.79, Precision 0.81, Recall 0.76\n"
     ]
    }
   ],
   "source": [
    "for K in range(1,25):\n",
    "    clf = KNeighborsClassifier(n_neighbors=K, weights='uniform', metric='euclidean')\n",
    "    clf.fit(X_trainCP,y_trainCP)\n",
    "    y_hatCP = clf.predict(X_testCP)\n",
    "    accuracy = accuracy_score(y_testCP,y_hatCP) \n",
    "    precision = precision_score(y_testCP, y_hatCP)\n",
    "    recall = recall_score(y_testCP, y_hatCP)\n",
    "    print('Classifier with %d neighbors: Accuracy %.2f, Precision %.2f, Recall %.2f'%(K,accuracy,precision,recall))"
   ]
  },
  {
   "cell_type": "markdown",
   "metadata": {},
   "source": [
    "It appears that K=19 is the best parameter for this task, as it produces the highest accuracy and is an odd number (best practice for a two-class problem, so no ties occur). The models with K=21 and K=23 produce the same accuracy, precision, and recall, but the smaller value of K is preferred."
   ]
  },
  {
   "cell_type": "code",
   "execution_count": 11,
   "metadata": {},
   "outputs": [],
   "source": [
    "bestK_cp = 19"
   ]
  },
  {
   "cell_type": "markdown",
   "metadata": {},
   "source": [
    "#### Naive Bayes for predicting Unemployment"
   ]
  },
  {
   "cell_type": "code",
   "execution_count": 12,
   "metadata": {},
   "outputs": [
    {
     "name": "stdout",
     "output_type": "stream",
     "text": [
      "Accuracy for Bernoulli Model: 0.705\n",
      "Precision for Bernoulli Model: 0.691\n",
      "Recall for Bernoulli Model: 0.728\n",
      "Latency in ms for Bernoulli Model: 6.6\n",
      "Confusion matrix for Bernoulli Model:: [[5056 2341]\n",
      " [1955 5226]]\n",
      "**************************************\n",
      "Accuracy for Multinomial Model: 0.641\n",
      "Precision for Multinomial Model: 0.627\n",
      "Recall for Multinomial Model: 0.666\n",
      "Latency in ms for Multinomial Model: 0.8\n",
      "Confusion matrix for Multinomial Model:: [[4560 2837]\n",
      " [2402 4779]]\n"
     ]
    }
   ],
   "source": [
    "from sklearn.naive_bayes import BernoulliNB\n",
    "from sklearn.naive_bayes import MultinomialNB\n",
    "from time import time\n",
    "from sklearn.metrics import confusion_matrix\n",
    "\n",
    "#Bernoulli Model:\n",
    "clf_bnb = BernoulliNB(alpha=0.001, binarize=10)\n",
    "clf_bnb.fit(X_trainU,y_trainU)\n",
    "start = time()\n",
    "y_hatU = clf_bnb.predict(X_testU)\n",
    "end = time()\n",
    "accuracy = round(accuracy_score(y_testU, y_hatU), 3)\n",
    "precision = round(precision_score(y_testU, y_hatU), 3)\n",
    "recall = round(recall_score(y_testU, y_hatU), 3)\n",
    "nb_un_preds_bernoulli=y_hatU\n",
    "\n",
    "#ROC and AUC\n",
    "# predict probabilities\n",
    "nb_un_bern_probs = clf_bnb.predict_proba(X_testU)\n",
    "# keep probabilities for the positive outcome only\n",
    "nb_un_bern_probs = nb_un_bern_probs[:, 1]\n",
    "\n",
    "# Print the metrics\n",
    "print('Accuracy for Bernoulli Model:', accuracy)\n",
    "print('Precision for Bernoulli Model:', precision)\n",
    "print('Recall for Bernoulli Model:', recall)\n",
    "print('Latency in ms for Bernoulli Model:', round((end - start)*1000, 1))\n",
    "print (\"Confusion matrix for Bernoulli Model::\", confusion_matrix(y_testU, y_hatU))\n",
    "print('**************************************')\n",
    "\n",
    "#Multinomial Model:\n",
    "clf_mnb = MultinomialNB(alpha=0.001)\n",
    "clf_mnb.fit(X_trainU,y_trainU)\n",
    "start = time()\n",
    "y_hatU = clf_mnb.predict(X_testU)\n",
    "end = time()\n",
    "accuracy = round(accuracy_score(y_testU,y_hatU), 3)\n",
    "precision = round(precision_score(y_testU, y_hatU), 3)\n",
    "recall = round(recall_score(y_testU, y_hatU), 3)\n",
    "nb_un_preds_multinomial=y_hatU\n",
    "\n",
    "#ROC and AUC\n",
    "# predict probabilities\n",
    "nb_un_multi_probs = clf_mnb.predict_proba(X_testU)\n",
    "# keep probabilities for the positive outcome only\n",
    "nb_un_multi_probs = nb_un_multi_probs[:, 1]\n",
    "\n",
    "# Print the metrics\n",
    "print('Accuracy for Multinomial Model:', accuracy)\n",
    "print('Precision for Multinomial Model:', precision)\n",
    "print('Recall for Multinomial Model:', recall)\n",
    "print('Latency in ms for Multinomial Model:', round((end - start)*1000, 1))\n",
    "print (\"Confusion matrix for Multinomial Model::\", confusion_matrix(y_testU, y_hatU))"
   ]
  },
  {
   "cell_type": "markdown",
   "metadata": {},
   "source": [
    "#### Naive Bayes for predicting Child Poverty"
   ]
  },
  {
   "cell_type": "code",
   "execution_count": 13,
   "metadata": {},
   "outputs": [
    {
     "name": "stdout",
     "output_type": "stream",
     "text": [
      "Accuracy for Bernoulli Model: 0.856\n",
      "Precision for Bernoulli Model: 0.819\n",
      "Recall for Bernoulli Model: 0.913\n",
      "Latency in ms for Bernoulli Model: 6.1\n",
      "Confusion matrix for Bernoulli Model:: [[5835 1469]\n",
      " [ 636 6638]]\n",
      "**************************************\n",
      "Accuracy for Multinomial Model: 0.714\n",
      "Precision for Multinomial Model: 0.71\n",
      "Recall for Multinomial Model: 0.721\n",
      "Latency in ms for Multinomial Model: 0.8\n",
      "Confusion matrix for Multinomial Model:: [[5156 2148]\n",
      " [2027 5247]]\n"
     ]
    }
   ],
   "source": [
    "#Bernoulli Model:\n",
    "clf_bnb = BernoulliNB(alpha=0.001, binarize=10)\n",
    "clf_bnb.fit(X_trainCP,y_trainCP)\n",
    "start = time()\n",
    "y_hatCP = clf_bnb.predict(X_testCP)\n",
    "end = time()\n",
    "accuracy = round(accuracy_score(y_testCP,y_hatCP), 3)\n",
    "precision = round(precision_score(y_testCP,y_hatCP), 3)\n",
    "recall = round(recall_score(y_testCP,y_hatCP), 3)\n",
    "nb_cp_preds_bernoulli=y_hatCP\n",
    "\n",
    "#ROC and AUC\n",
    "# predict probabilities\n",
    "nb_cp_bern_probs = clf_bnb.predict_proba(X_testCP)\n",
    "# keep probabilities for the positive outcome only\n",
    "nb_cp_bern_probs = nb_cp_bern_probs[:, 1]\n",
    "\n",
    "# Print the metrics\n",
    "print('Accuracy for Bernoulli Model:', accuracy)\n",
    "print('Precision for Bernoulli Model:', precision)\n",
    "print('Recall for Bernoulli Model:', recall)\n",
    "print('Latency in ms for Bernoulli Model:', round((end - start)*1000, 1))\n",
    "print (\"Confusion matrix for Bernoulli Model::\", confusion_matrix(y_testCP, y_hatCP))\n",
    "print('**************************************')\n",
    "\n",
    "#Multinomial Model:\n",
    "clf_mnb = MultinomialNB(alpha=0.001)\n",
    "clf_mnb.fit(X_trainCP,y_trainCP)\n",
    "start = time()\n",
    "y_hatCP = clf_mnb.predict(X_testCP)\n",
    "end = time()\n",
    "accuracy = round(accuracy_score(y_testCP,y_hatCP), 3)\n",
    "precision = round(precision_score(y_testCP,y_hatCP), 3)\n",
    "recall = round(recall_score(y_testCP,y_hatCP), 3)\n",
    "nb_cp_preds_multinomial=y_hatCP\n",
    "\n",
    "#ROC and AUC\n",
    "# predict probabilities\n",
    "nb_cp_multi_probs = clf_mnb.predict_proba(X_testCP)\n",
    "# keep probabilities for the positive outcome only\n",
    "nb_cp_multi_probs = nb_cp_multi_probs[:, 1]\n",
    "\n",
    "\n",
    "# Print the metrics\n",
    "print('Accuracy for Multinomial Model:', accuracy)\n",
    "print('Precision for Multinomial Model:', precision)\n",
    "print('Recall for Multinomial Model:', recall)\n",
    "print('Latency in ms for Multinomial Model:', round((end - start)*1000, 1))\n",
    "print (\"Confusion matrix for Multinomial Model::\", confusion_matrix(y_testCP, y_hatCP))"
   ]
  },
  {
   "cell_type": "markdown",
   "metadata": {},
   "source": [
    "#### Random Forest for predicting Unemployment"
   ]
  },
  {
   "cell_type": "code",
   "execution_count": 14,
   "metadata": {},
   "outputs": [
    {
     "name": "stdout",
     "output_type": "stream",
     "text": [
      "Accuracy for Random Forest Model:  0.741\n",
      "Precision for Random Forest Model: 0.762\n",
      "Recall for Random Forest Model: 0.69\n",
      "Latency in ms for Random Forest Model: 26.4\n",
      " Confusion matrix: [[5847 1550]\n",
      " [2225 4956]]\n"
     ]
    }
   ],
   "source": [
    "#Import the RF library from sklearn\n",
    "from sklearn.ensemble import RandomForestClassifier\n",
    "from sklearn.datasets import make_classification\n",
    "from sklearn.metrics import roc_curve\n",
    "from sklearn.metrics import accuracy_score\n",
    "from sklearn.metrics import confusion_matrix\n",
    "from time import time\n",
    "\n",
    "# Supervised transformation based on random forests\n",
    "rfclf = RandomForestClassifier(max_depth=5, n_estimators=10)\n",
    "#Fitting RF model on training data\n",
    "rfclf.fit(X_trainU, y_trainU)\n",
    "rfclf_u = rfclf\n",
    "\n",
    "# The random forest model prediction \n",
    "start = time()\n",
    "y_pred_rf = rfclf.predict_proba(X_testU)[0:10]\n",
    "preds = rfclf.predict(X_testU)\n",
    "end = time()\n",
    "accuracy = round(accuracy_score(y_testU,preds), 3)\n",
    "precision = round(precision_score(y_testU,preds), 3)\n",
    "recall = round(recall_score(y_testU,preds), 3)\n",
    "rf_preds_un=preds\n",
    "\n",
    "#ROC and AUC\n",
    "# predict probabilities\n",
    "rf_un_probs = rfclf.predict_proba(X_testU)\n",
    "# keep probabilities for the positive outcome only\n",
    "rf_un_probs = rf_un_probs[:, 1]\n",
    "\n",
    "# Print the metrics\n",
    "print (\"Accuracy for Random Forest Model: \", accuracy)\n",
    "print('Precision for Random Forest Model:', precision)\n",
    "print('Recall for Random Forest Model:', recall)\n",
    "print('Latency in ms for Random Forest Model:', round((end - start)*1000, 1))\n",
    "print (\" Confusion matrix:\", confusion_matrix(y_testU, preds))"
   ]
  },
  {
   "cell_type": "markdown",
   "metadata": {},
   "source": [
    "#### Random Forest for predicting Child Poverty"
   ]
  },
  {
   "cell_type": "code",
   "execution_count": 15,
   "metadata": {},
   "outputs": [
    {
     "name": "stdout",
     "output_type": "stream",
     "text": [
      "Accuracy for Random Forest Model:  0.887\n",
      "Precision for Random Forest Model: 0.878\n",
      "Recall for Random Forest Model: 0.898\n",
      "Latency in ms for Random Forest Model: 22.2\n",
      "Confusion matrix for Random Forest Model: [[6400  904]\n",
      " [ 742 6532]]\n"
     ]
    }
   ],
   "source": [
    "#Import the RF library from sklearn\n",
    "from sklearn.ensemble import RandomForestClassifier\n",
    "from sklearn.datasets import make_classification\n",
    "from sklearn.metrics import roc_curve\n",
    "from sklearn.metrics import accuracy_score\n",
    "from sklearn.metrics import confusion_matrix\n",
    "from time import time\n",
    "\n",
    "# Supervised transformation based on random forests\n",
    "rfclf = RandomForestClassifier(max_depth=5, n_estimators=10)\n",
    "#Fitting RF model on training data\n",
    "rfclf.fit(X_trainCP, y_trainCP)\n",
    "rfclf_cp = rfclf\n",
    "\n",
    "# The random forest model prediction \n",
    "start = time()\n",
    "y_pred_rf = rfclf.predict_proba(X_testCP)[0:10]\n",
    "preds = rfclf.predict(X_testCP)\n",
    "end = time()\n",
    "accuracy = round(accuracy_score(y_testCP,preds), 3)\n",
    "precision = round(precision_score(y_testCP,preds), 3)\n",
    "recall = round(recall_score(y_testCP,preds), 3)\n",
    "cm_cp = confusion_matrix(y_testCP, preds)\n",
    "rf_preds_cp=preds\n",
    "\n",
    "#ROC and AUC\n",
    "# predict probabilities\n",
    "rf_cp_probs = rfclf.predict_proba(X_testCP)\n",
    "# keep probabilities for the positive outcome only\n",
    "rf_cp_probs = rf_cp_probs[:, 1]\n",
    "\n",
    "# Print the metrics\n",
    "print (\"Accuracy for Random Forest Model: \", accuracy)\n",
    "print('Precision for Random Forest Model:', precision)\n",
    "print('Recall for Random Forest Model:', recall)\n",
    "print('Latency in ms for Random Forest Model:', round((end - start)*1000, 1))\n",
    "print (\"Confusion matrix for Random Forest Model:\", cm_cp)"
   ]
  },
  {
   "cell_type": "markdown",
   "metadata": {},
   "source": [
    "# Modeling and Evaluation 4"
   ]
  },
  {
   "cell_type": "markdown",
   "metadata": {},
   "source": [
    "<div class=\"alert alert-block alert-info\">\n",
    "<b>Rubric 6:</b> Analyze the results using your chosen method of evaluation. Use visualizations of the results to bolster the analysis. Explain any visuals and analyze why they are interesting to someone that might use this model.\n",
    "</div>"
   ]
  },
  {
   "cell_type": "markdown",
   "metadata": {},
   "source": [
    "For each of our predictive models, we created confusion matrices and ROC curves to visualize and analyze the performance of these models."
   ]
  },
  {
   "cell_type": "markdown",
   "metadata": {},
   "source": [
    "### Confusion Matrices"
   ]
  },
  {
   "cell_type": "markdown",
   "metadata": {},
   "source": [
    "A Confusion Matrix is a 2x2 matrix with the following cells:\n",
    "\n",
    "- **True Positive: (TP)**\n",
    "    - Interpretation: Predicted positive and it's true.\n",
    "- **True Negative: (TN)**\n",
    "    - Interpretation: Predicted negative and it's true.\n",
    "- **False Positive: (FP) - (Type 1 Error)**\n",
    "    - Interpretation: Predicted positive and it's false.\n",
    "- **False Negative: (FN) - (Type 2 Error)**\n",
    "    - Interpretation: Predicted negative and it's false.\n",
    "\n",
    "We describe predicted values as Positive and Negative and actual values as True and False. Out of combinations of these values, we can derive a set of different quality measures."
   ]
  },
  {
   "attachments": {
    "cm_def.png": {
     "image/png": "[encoded data removed]"
    },
    "cm_def2.png": {
     "image/png": "[encoded data removed]"
    }
   },
   "cell_type": "markdown",
   "metadata": {},
   "source": [
    "![cm_def.png](attachment:cm_def.png)\n",
    "![cm_def2.png](attachment:cm_def2.png)"
   ]
  },
  {
   "cell_type": "code",
   "execution_count": 16,
   "metadata": {},
   "outputs": [],
   "source": [
    "# Function to plot confusion matrices\n",
    "def cm_analysis(y_true, y_pred, labels, ymap=None, figsize=(8,8)):\n",
    "    \"\"\"\n",
    "    Generate matrix plot of confusion matrix with pretty annotations.\n",
    "    The plot image is saved to disk.\n",
    "    args: \n",
    "      y_true:    true label of the data, with shape (nsamples,)\n",
    "      y_pred:    prediction of the data, with shape (nsamples,)\n",
    "      filename:  filename of figure file to save\n",
    "      labels:    string array, name the order of class labels in the confusion matrix.\n",
    "                 use `clf.classes_` if using scikit-learn models.\n",
    "                 with shape (nclass,).\n",
    "      ymap:      dict: any -> string, length == nclass.\n",
    "                 if not None, map the labels & ys to more understandable strings.\n",
    "                 Caution: original y_true, y_pred and labels must align.\n",
    "      figsize:   the size of the figure plotted.\n",
    "    \"\"\"\n",
    "    if ymap is not None:\n",
    "        y_pred = [ymap[yi] for yi in y_pred]\n",
    "        y_true = [ymap[yi] for yi in y_true]\n",
    "        labels = [ymap[yi] for yi in labels]\n",
    "    cm = confusion_matrix(y_true, y_pred, labels=labels)\n",
    "    cm_sum = np.sum(cm, axis=1, keepdims=True)\n",
    "    cm_perc = cm / cm_sum.astype(float) * 100\n",
    "    annot = np.empty_like(cm).astype(str)\n",
    "    nrows, ncols = cm.shape\n",
    "    for i in range(nrows):\n",
    "        for j in range(ncols):\n",
    "            c = cm[i, j]\n",
    "            p = cm_perc[i, j]\n",
    "            if i == j:\n",
    "                s = cm_sum[i]\n",
    "                annot[i, j] = '%.1f%%\\n%d/%d' % (p, c, s)\n",
    "            elif c == 0:\n",
    "                annot[i, j] = ''\n",
    "            else:\n",
    "                annot[i, j] = '%.1f%%\\n%d' % (p, c)\n",
    "    #cm = pd.DataFrame(cm, index=labels, columns=labels)\n",
    "    cm = pd.DataFrame(cm_perc, index=labels, columns=labels)\n",
    "    cm.index.name = 'Actual'\n",
    "    cm.columns.name = 'Predicted'\n",
    "    fig, ax = plt.subplots(figsize=figsize)\n",
    "    sns.heatmap(cm, annot=annot, fmt='', ax=ax)\n",
    "    #plt.savefig(filename)\n",
    "    plt.show()"
   ]
  },
  {
   "cell_type": "code",
   "execution_count": 17,
   "metadata": {},
   "outputs": [
    {
     "name": "stdout",
     "output_type": "stream",
     "text": [
      "Confusion matrix for Naive Bayes Bernoulli Model - Unemployment:\n"
     ]
    },
    {
     "data": {
      "image/png": "[encoded data removed]",
      "text/plain": [
       "<Figure size 576x576 with 2 Axes>"
      ]
     },
     "metadata": {},
     "output_type": "display_data"
    }
   ],
   "source": [
    "print (\"Confusion matrix for Naive Bayes Bernoulli Model - Unemployment:\")\n",
    "cm_analysis(y_testU, nb_un_preds_bernoulli, range(len(set(y_testU))), ymap=None, figsize=(8,8))"
   ]
  },
  {
   "cell_type": "code",
   "execution_count": 18,
   "metadata": {},
   "outputs": [
    {
     "name": "stdout",
     "output_type": "stream",
     "text": [
      "Confusion matrix for Naive Bayes Multinomial Model - Unemployment:\n"
     ]
    },
    {
     "data": {
      "image/png": "[encoded data removed]",
      "text/plain": [
       "<Figure size 576x576 with 2 Axes>"
      ]
     },
     "metadata": {},
     "output_type": "display_data"
    }
   ],
   "source": [
    "print (\"Confusion matrix for Naive Bayes Multinomial Model - Unemployment:\")\n",
    "cm_analysis(y_testU, nb_un_preds_multinomial, range(len(set(y_testU))), ymap=None, figsize=(8,8))"
   ]
  },
  {
   "cell_type": "code",
   "execution_count": 19,
   "metadata": {},
   "outputs": [
    {
     "name": "stdout",
     "output_type": "stream",
     "text": [
      "Confusion matrix for Naive Bayes Bernoulli Model - Child Poverty:\n"
     ]
    },
    {
     "data": {
      "image/png": "[encoded data removed]",
      "text/plain": [
       "<Figure size 576x576 with 2 Axes>"
      ]
     },
     "metadata": {},
     "output_type": "display_data"
    }
   ],
   "source": [
    "print (\"Confusion matrix for Naive Bayes Bernoulli Model - Child Poverty:\")\n",
    "cm_analysis(y_testCP, nb_cp_preds_bernoulli, range(len(set(y_testCP))), ymap=None, figsize=(8,8))"
   ]
  },
  {
   "cell_type": "code",
   "execution_count": 20,
   "metadata": {},
   "outputs": [
    {
     "name": "stdout",
     "output_type": "stream",
     "text": [
      "Confusion matrix for Naive Bayes Multinomial Model - Child Poverty:\n"
     ]
    },
    {
     "data": {
      "image/png": "[encoded data removed]",
      "text/plain": [
       "<Figure size 576x576 with 2 Axes>"
      ]
     },
     "metadata": {},
     "output_type": "display_data"
    }
   ],
   "source": [
    "print (\"Confusion matrix for Naive Bayes Multinomial Model - Child Poverty:\")\n",
    "cm_analysis(y_testCP, nb_cp_preds_multinomial, range(len(set(y_testCP))), ymap=None, figsize=(8,8))"
   ]
  },
  {
   "cell_type": "code",
   "execution_count": 21,
   "metadata": {},
   "outputs": [
    {
     "name": "stdout",
     "output_type": "stream",
     "text": [
      "Confusion matrix for Random Forest Model - Unemployment:\n"
     ]
    },
    {
     "data": {
      "image/png": "[encoded data removed]",
      "text/plain": [
       "<Figure size 576x576 with 2 Axes>"
      ]
     },
     "metadata": {},
     "output_type": "display_data"
    }
   ],
   "source": [
    "print (\"Confusion matrix for Random Forest Model - Unemployment:\")\n",
    "cm_analysis(y_testU, rf_preds_un, range(len(set(y_testU))), ymap=None, figsize=(8,8))"
   ]
  },
  {
   "cell_type": "code",
   "execution_count": 22,
   "metadata": {},
   "outputs": [
    {
     "name": "stdout",
     "output_type": "stream",
     "text": [
      "Confusion matrix for Random Forest Model - Child Poverty:\n"
     ]
    },
    {
     "data": {
      "image/png": "[encoded data removed]",
      "text/plain": [
       "<Figure size 576x576 with 2 Axes>"
      ]
     },
     "metadata": {},
     "output_type": "display_data"
    }
   ],
   "source": [
    "print (\"Confusion matrix for Random Forest Model - Child Poverty:\")\n",
    "cm_analysis(y_testCP, rf_preds_cp, range(len(set(y_testCP))), ymap=None, figsize=(8,8))"
   ]
  },
  {
   "cell_type": "markdown",
   "metadata": {},
   "source": [
    "### AUC and ROC curves\n",
    "We are evaluating model performance comparison to pick up a better model that predicts the outcomes consistently. Here we use the classification score. However the Receiver operating characteristics takes away the imbalances that exist between the classifiers and offers a better alternative to give the edge. By looking at the Area Under the Curve (AUC) we can determine the outcome. Any value less than half is a negative sign and anything above .5 is positive. \n",
    "Ref:\n",
    "https://towardsdatascience.com/receiver-operating-characteristic-curves-demystified-in-python-bd531a4364d0\n",
    "https://stackoverflow.com/questions/42894871/how-to-plot-multiple-roc-curves-in-one-plot-with-legend-and-auc-scores-in-python"
   ]
  },
  {
   "cell_type": "markdown",
   "metadata": {},
   "source": [
    "#### AUC and ROC curve for Unemployment"
   ]
  },
  {
   "cell_type": "code",
   "execution_count": 23,
   "metadata": {},
   "outputs": [
    {
     "name": "stdout",
     "output_type": "stream",
     "text": [
      "AUC and ROC Curves comparison of models - Unemployment\n"
     ]
    },
    {
     "data": {
      "image/png": "[encoded data removed]",
      "text/plain": [
       "<Figure size 432x288 with 1 Axes>"
      ]
     },
     "metadata": {},
     "output_type": "display_data"
    }
   ],
   "source": [
    "print (\"AUC and ROC Curves comparison of models - Unemployment\")\n",
    "from sklearn import metrics\n",
    "import matplotlib.pyplot as plt\n",
    "\n",
    "plt.figure()\n",
    "\n",
    "# Add the models to the list that you want to view on the ROC plot\n",
    "models = [\n",
    "{\n",
    "    'label': 'KNN Classifier',\n",
    "    'model': KNeighborsClassifier(n_neighbors=bestK_u, weights='uniform', metric='euclidean'),\n",
    "},\n",
    "{\n",
    "    'label': 'Bernoulli Naive Bayes',\n",
    "    'model': BernoulliNB(alpha=0.001, binarize=10),\n",
    "},\n",
    "{\n",
    "    'label': 'Multinomial Naive Bayes',\n",
    "    'model': MultinomialNB(alpha=0.001),\n",
    "},\n",
    "{\n",
    "    'label': 'Random Forest Classifier',\n",
    "    'model': RandomForestClassifier(max_depth=5, n_estimators=10),\n",
    "},\n",
    "]\n",
    "\n",
    "# Below for loop iterates through your models list\n",
    "for m in models:\n",
    "    model = m['model'] # select the model\n",
    "    model.fit(X_trainU, y_trainU) # train the model\n",
    "    y_pred=model.predict(X_testU) # predict the test data\n",
    "# Compute False postive rate, and True positive rate\n",
    "    fpr, tpr, thresholds = metrics.roc_curve(y_testU, model.predict_proba(X_testU)[:,1])\n",
    "# Calculate Area under the curve to display on the plot\n",
    "    auc = metrics.roc_auc_score(y_testU,model.predict(X_testU))\n",
    "# Now, plot the computed values\n",
    "    plt.plot(fpr, tpr, label='%s ROC (area = %0.2f)' % (m['label'], auc))\n",
    "# Custom settings for the plot \n",
    "plt.plot([0, 1], [0, 1],'r--')\n",
    "plt.xlim([0.0, 1.0])\n",
    "plt.ylim([0.0, 1.05])\n",
    "plt.xlabel('1-Specificity(False Positive Rate)')\n",
    "plt.ylabel('Sensitivity(True Positive Rate)')\n",
    "plt.title('Receiver Operating Characteristic')\n",
    "plt.legend(loc=\"lower right\")\n",
    "plt.show()   # Display"
   ]
  },
  {
   "cell_type": "markdown",
   "metadata": {},
   "source": [
    "#### AUC and ROC curves for Child Poverty"
   ]
  },
  {
   "cell_type": "code",
   "execution_count": 24,
   "metadata": {},
   "outputs": [
    {
     "name": "stdout",
     "output_type": "stream",
     "text": [
      "AUC and ROC Curves comparison of models - Child Poverty\n"
     ]
    },
    {
     "data": {
      "image/png": "[encoded data removed]",
      "text/plain": [
       "<Figure size 432x288 with 1 Axes>"
      ]
     },
     "metadata": {},
     "output_type": "display_data"
    }
   ],
   "source": [
    "print (\"AUC and ROC Curves comparison of models - Child Poverty\")\n",
    "from sklearn import metrics\n",
    "import matplotlib.pyplot as plt\n",
    "\n",
    "plt.figure()\n",
    "\n",
    "# Add the models to the list that you want to view on the ROC plot\n",
    "models = [\n",
    "{\n",
    "    'label': 'KNN Classifier',\n",
    "    'model': KNeighborsClassifier(n_neighbors=bestK_cp, weights='uniform', metric='euclidean'),\n",
    "},\n",
    "{\n",
    "    'label': 'Bernoulli Naive Bayes',\n",
    "    'model': BernoulliNB(alpha=0.001, binarize=10),\n",
    "},\n",
    "{\n",
    "    'label': 'Multinomial Naive Bayes',\n",
    "    'model': MultinomialNB(alpha=0.001),\n",
    "},\n",
    "{\n",
    "    'label': 'Random Forest Classifier',\n",
    "    'model': RandomForestClassifier(max_depth=5, n_estimators=10),\n",
    "},\n",
    "]\n",
    "\n",
    "# Below for loop iterates through your models list\n",
    "for m in models:\n",
    "    model = m['model'] # select the model\n",
    "    model.fit(X_trainCP, y_trainCP) # train the model\n",
    "    y_pred=model.predict(X_testCP) # predict the test data\n",
    "# Compute False postive rate, and True positive rate\n",
    "    fpr, tpr, thresholds = metrics.roc_curve(y_testCP, model.predict_proba(X_testCP)[:,1])\n",
    "# Calculate Area under the curve to display on the plot\n",
    "    auc = metrics.roc_auc_score(y_testCP,model.predict(X_testCP))\n",
    "# Now, plot the computed values\n",
    "    plt.plot(fpr, tpr, label='%s ROC (area = %0.2f)' % (m['label'], auc))\n",
    "# Custom settings for the plot \n",
    "plt.plot([0, 1], [0, 1],'r--')\n",
    "plt.xlim([0.0, 1.0])\n",
    "plt.ylim([0.0, 1.05])\n",
    "plt.xlabel('1-Specificity(False Positive Rate)')\n",
    "plt.ylabel('Sensitivity(True Positive Rate)')\n",
    "plt.title('Receiver Operating Characteristic')\n",
    "plt.legend(loc=\"lower right\")\n",
    "plt.show()   # Display"
   ]
  },
  {
   "cell_type": "markdown",
   "metadata": {},
   "source": [
    "#### Predicting Unemployment - Model Comparison"
   ]
  },
  {
   "cell_type": "markdown",
   "metadata": {},
   "source": [
    "| Model | Accuracy | Precision | Recall | AUC |\n",
    "| ----- | -------- | --------- | ------ | --- |\n",
    "| KNN (K=19) | 0.68 | 0.70 | 0.62 | 0.68 |\n",
    "| Naive Bayes (Bernoulli) | 0.70 | 0.68 | 0.72 | 0.7 |\n",
    "| Naive Bayes (Multinomial) | 0.64 | 0.63 | 0.67 | 0.64 |\n",
    "| Random Forest | 0.74 | 0.75 | 0.70 | 0.73 |"
   ]
  },
  {
   "cell_type": "markdown",
   "metadata": {},
   "source": [
    "#### Predicting Child Poverty - Model Comparison"
   ]
  },
  {
   "cell_type": "markdown",
   "metadata": {},
   "source": [
    "| Model | Accuracy | Precision | Recall | AUC |\n",
    "| ----- | -------- | --------- | ------ | --- |\n",
    "| KNN (K=19) | 0.80 | 0.80 | 0.79 | 0.8 |\n",
    "| Naive Bayes (Bernoulli) | 0.86 | 0.82 | 0.92 | 0.86 |\n",
    "| Naive Bayes (Multinomial) | 0.72 | 0.72 | 0.72 | 0.72 |\n",
    "| Random Forest | 0.89 | 0.90 | 0.87 | 0.89 |"
   ]
  },
  {
   "cell_type": "markdown",
   "metadata": {},
   "source": [
    "# Modeling and Evaluation 5"
   ]
  },
  {
   "cell_type": "markdown",
   "metadata": {},
   "source": [
    "<div class=\"alert alert-block alert-info\">\n",
    "<b>Rubric 7:</b> Discuss the advantages of each model for each classification task, if any. If there are not advantages, explain why. Is any model better than another? Is the difference significant with 95% confidence? Use proper statistical comparison methods. You must use statistical comparison techniques—be sure they are appropriate for your chosen method of validation as discussed in unit 7 of the course.\n",
    "</div>"
   ]
  },
  {
   "cell_type": "markdown",
   "metadata": {},
   "source": [
    "*** Model advantage for each classification task viz Unemployment and ChildPoverty ***\n",
    "\n",
    "Accuracy ignores cost of misclassifications.\n",
    "Effect of small size does not arise here as we have lots of objects for training.  As it is these are complex models\n",
    "could expect lower bias but high variance. For this we need to ensure we are not overfitting the data.\n",
    "For this reason we did the Stratified shuffle split on the data set for training and test set of objects.\n",
    "Higher F-measure would always be better as we need to have lower false positives and false negatives for comparison to arrive at the best model. We would also try to compare the cost based weighted accuracy over accuracy calculated on mere confusion matrix. Here lower cost is always better.\n",
    "\n",
    "Logarithmic Loss:\n",
    "- Evaluating the predictions of probabilities of membership to a given class.\n",
    "- The scalar probability between 0 and 1 can be seen as a measure of confidence for a prediction by an algorithm.\n",
    "- Predictions that are correct or incorrect are rewarded or punished proportionally to the confidence of the prediction.\n",
    "- Smaller logloss is better with 0 representing a perfect logloss."
   ]
  },
  {
   "cell_type": "markdown",
   "metadata": {},
   "source": [
    "#### Classification confidence intervals for Unemployment"
   ]
  },
  {
   "cell_type": "code",
   "execution_count": 42,
   "metadata": {},
   "outputs": [
    {
     "name": "stdout",
     "output_type": "stream",
     "text": [
      "KNN Classifier\n",
      "Model f1-score: mean 0.657, std 0.009\n",
      "Model f1-score 95%% confidence interval: (0.6505084444690442, 0.6632055160276428)\n",
      "Logloss: -0.677 (0.022)\n",
      "----------------------------------------\n",
      "Bernoulli Naive Bayes\n",
      "Model f1-score: mean 0.703, std 0.009\n",
      "Model f1-score 95%% confidence interval: (0.6964334378131146, 0.7089716769147217)\n",
      "Logloss: -0.640 (0.011)\n",
      "----------------------------------------\n",
      "Multinomial Naive Bayes\n",
      "Model f1-score: mean 0.651, std 0.010\n",
      "Model f1-score 95%% confidence interval: (0.6436474515789508, 0.658350913359528)\n",
      "Logloss: -11.900 (0.300)\n",
      "----------------------------------------\n",
      "Random Forest Classifier\n",
      "Model f1-score: mean 0.720, std 0.008\n",
      "Model f1-score 95%% confidence interval: (0.7146349046947099, 0.7254990295047589)\n",
      "Logloss: -0.531 (0.005)\n",
      "----------------------------------------\n"
     ]
    }
   ],
   "source": [
    "from sklearn.model_selection import cross_val_score\n",
    "from sklearn.metrics import f1_score\n",
    "from statsmodels.stats.weightstats import _zconfint_generic, _tconfint_generic\n",
    "\n",
    "\n",
    "models = [\n",
    "{\n",
    "    'label': 'KNN Classifier',\n",
    "    'model': KNeighborsClassifier(n_neighbors=bestK_cp, weights='uniform', metric='euclidean'),\n",
    "},\n",
    "{\n",
    "    'label': 'Bernoulli Naive Bayes',\n",
    "    'model': BernoulliNB(alpha=0.001, binarize=10),\n",
    "},\n",
    "{\n",
    "    'label': 'Multinomial Naive Bayes',\n",
    "    'model': MultinomialNB(alpha=0.001),\n",
    "},\n",
    "{\n",
    "    'label': 'Random Forest Classifier',\n",
    "    'model': RandomForestClassifier(max_depth=5, n_estimators=10),\n",
    "},\n",
    "]\n",
    "\n",
    "# Below for loop iterates through your models list\n",
    "for m in models:\n",
    "    model = m['model'] # select the model\n",
    "    model.fit(X_trainU, y_trainU) # train the model\n",
    "    y_pred=model.predict(X_testU) # predict the test data\n",
    "    f1score = cross_val_score(model, X_trainU, y_trainU, scoring='f1', cv=10)\n",
    "    logloss_score = cross_val_score(model, X_trainU, y_trainU, scoring='neg_log_loss', cv=10)\n",
    "    mean = f1score.mean()\n",
    "    print(m['label'])\n",
    "    print(\"Model f1-score: mean %.3f, std %.3f\" % (f1score.mean(), f1score.std(ddof=1)))\n",
    "    mean_std = f1score.std(ddof=1)/np.sqrt(len(f1score))\n",
    "    tconf = _tconfint_generic(mean, mean_std, len(f1score) - 1, 0.05, 'two-sided')\n",
    "    print(\"Model f1-score 95%% confidence interval:\", tconf)\n",
    "    print(\"Logloss: %.3f (%.3f)\" % (logloss_score.mean(), logloss_score.std()))\n",
    "    print('----------------------------------------')"
   ]
  },
  {
   "cell_type": "markdown",
   "metadata": {},
   "source": [
    "#### Classification confidence intervals for Child Poverty"
   ]
  },
  {
   "cell_type": "code",
   "execution_count": 43,
   "metadata": {},
   "outputs": [
    {
     "name": "stdout",
     "output_type": "stream",
     "text": [
      "KNN Classifier\n",
      "Model f1-score: mean 0.789, std 0.005\n",
      "Model f1-score 95%% confidence interval: (0.7854679182873328, 0.7920235447241801)\n",
      "Logloss: -0.668 (0.039)\n",
      "----------------------------------------\n",
      "Bernoulli Naive Bayes\n",
      "Model f1-score: mean 0.867, std 0.005\n",
      "Model f1-score 95%% confidence interval: (0.8635615477075718, 0.8700117406904464)\n",
      "Logloss: -0.386 (0.014)\n",
      "----------------------------------------\n",
      "Multinomial Naive Bayes\n",
      "Model f1-score: mean 0.715, std 0.006\n",
      "Model f1-score 95%% confidence interval: (0.7101171088332304, 0.7194076804282484)\n",
      "Logloss: -9.663 (0.209)\n",
      "----------------------------------------\n",
      "Random Forest Classifier\n",
      "Model f1-score: mean 0.881, std 0.008\n",
      "Model f1-score 95%% confidence interval: (0.8752321891382128, 0.8868221906058017)\n",
      "Logloss: -0.310 (0.012)\n",
      "----------------------------------------\n"
     ]
    }
   ],
   "source": [
    "from sklearn.model_selection import cross_val_score\n",
    "from sklearn.metrics import f1_score\n",
    "from statsmodels.stats.weightstats import _zconfint_generic, _tconfint_generic\n",
    "\n",
    "\n",
    "models = [\n",
    "{\n",
    "    'label': 'KNN Classifier',\n",
    "    'model': KNeighborsClassifier(n_neighbors=bestK_cp, weights='uniform', metric='euclidean'),\n",
    "},\n",
    "{\n",
    "    'label': 'Bernoulli Naive Bayes',\n",
    "    'model': BernoulliNB(alpha=0.001, binarize=10),\n",
    "},\n",
    "{\n",
    "    'label': 'Multinomial Naive Bayes',\n",
    "    'model': MultinomialNB(alpha=0.001),\n",
    "},\n",
    "{\n",
    "    'label': 'Random Forest Classifier',\n",
    "    'model': RandomForestClassifier(max_depth=5, n_estimators=10),\n",
    "},\n",
    "]\n",
    "\n",
    "# Below for loop iterates through your models list\n",
    "for m in models:\n",
    "    model = m['model'] # select the model\n",
    "    model.fit(X_trainCP, y_trainCP) # train the model\n",
    "    y_pred=model.predict(X_testCP) # predict the test data\n",
    "    f1score = cross_val_score(model, X_trainCP, y_trainCP, scoring='f1', cv=10)\n",
    "    logloss_score = cross_val_score(model, X_trainCP, y_trainCP, scoring='neg_log_loss', cv=10)\n",
    "    mean = f1score.mean()\n",
    "    print(m['label'])\n",
    "    print(\"Model f1-score: mean %.3f, std %.3f\" % (f1score.mean(), f1score.std(ddof=1)))\n",
    "    mean_std = f1score.std(ddof=1)/np.sqrt(len(f1score))\n",
    "    tconf = _tconfint_generic(mean, mean_std, len(f1score) - 1, 0.05, 'two-sided')\n",
    "    print(\"Model f1-score 95%% confidence interval:\", tconf)\n",
    "    print(\"Logloss: %.3f (%.3f)\" % (logloss_score.mean(), logloss_score.std()))\n",
    "    print('----------------------------------------')"
   ]
  },
  {
   "cell_type": "markdown",
   "metadata": {},
   "source": [
    "# Modeling and Evaluation 6"
   ]
  },
  {
   "cell_type": "markdown",
   "metadata": {},
   "source": [
    "<div class=\"alert alert-block alert-info\">\n",
    "<b>Rubric 8:</b> Which attributes from your analysis are most important? Use proper methods discussed in class to evaluate the importance of different attributes. Discuss the results and hypothesize about why certain attributes are more important than others for a given classification task.\n",
    "</div>"
   ]
  },
  {
   "cell_type": "markdown",
   "metadata": {},
   "source": [
    "#### Feature importance for predicting Unemployment"
   ]
  },
  {
   "cell_type": "code",
   "execution_count": 25,
   "metadata": {},
   "outputs": [
    {
     "data": {
      "image/png": "[encoded data removed]",
      "text/plain": [
       "<Figure size 432x288 with 1 Axes>"
      ]
     },
     "metadata": {},
     "output_type": "display_data"
    }
   ],
   "source": [
    "plt.barh(df_17_model.columns, rfclf_u.feature_importances_)\n",
    "plt.show()\n",
    "#for i, feature in reversed(list(enumerate(df_17_model.columns))):\n",
    "    #importance = rfclf_u.feature_importances_[i]\n",
    "    #sig = \" *\" if importance > 0.05 else \"\"\n",
    "    #print(str(i)+'. '+feature+' importance: '+str(importance)+sig)"
   ]
  },
  {
   "cell_type": "markdown",
   "metadata": {},
   "source": [
    "#### Feature importance for predicting Child Poverty"
   ]
  },
  {
   "cell_type": "code",
   "execution_count": 26,
   "metadata": {},
   "outputs": [
    {
     "data": {
      "image/png": "[encoded data removed]",
      "text/plain": [
       "<Figure size 432x288 with 1 Axes>"
      ]
     },
     "metadata": {},
     "output_type": "display_data"
    }
   ],
   "source": [
    "plt.barh(df_17_model.columns, rfclf_cp.feature_importances_);\n",
    "plt.show()\n",
    "#for i, feature in reversed(list(enumerate(df_17_model.columns))):\n",
    "    #importance = rfclf_cp.feature_importances_[i]\n",
    "    #sig = \" *\" if importance > 0.05 else \"\"\n",
    "    #print(str(i)+'. '+feature+' importance: '+str(importance)+sig)"
   ]
  },
  {
   "cell_type": "markdown",
   "metadata": {},
   "source": [
    "# Deployment"
   ]
  },
  {
   "cell_type": "markdown",
   "metadata": {},
   "source": [
    "<div class=\"alert alert-block alert-info\">\n",
    "<b>Rubric 9:</b> How useful is your model for interested parties (i.e., the companies or organizations that might want to use it for prediction)? How would you measure the model's value if it was used by these parties? How would your deploy your model for interested parties? What other data should be collected? How often would the model need to be updated, etc.? \n",
    "</div>"
   ]
  },
  {
   "cell_type": "code",
   "execution_count": null,
   "metadata": {},
   "outputs": [],
   "source": []
  },
  {
   "cell_type": "markdown",
   "metadata": {},
   "source": [
    "# Exceptional Work"
   ]
  },
  {
   "cell_type": "markdown",
   "metadata": {},
   "source": [
    "<div class=\"alert alert-block alert-info\">\n",
    "<b>Rubric 10:</b> You have free reign to provide additional analyses. One idea: grid search parameters in a parallelized fashion and visualize the performances across attributes. Which parameters are most significant for making a good model for each classification algorithm?\n",
    "</div>"
   ]
  },
  {
   "cell_type": "code",
   "execution_count": null,
   "metadata": {},
   "outputs": [],
   "source": []
  }
 ],
 "metadata": {
  "kernelspec": {
   "display_name": "Python 3",
   "language": "python",
   "name": "python3"
  },
  "language_info": {
   "codemirror_mode": {
    "name": "ipython",
    "version": 3
   },
   "file_extension": ".py",
   "mimetype": "text/x-python",
   "name": "python",
   "nbconvert_exporter": "python",
   "pygments_lexer": "ipython3",
   "version": "3.6.8"
  }
 },
 "nbformat": 4,
 "nbformat_minor": 2
}
